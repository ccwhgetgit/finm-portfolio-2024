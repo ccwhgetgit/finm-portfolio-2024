{
 "cells": [
  {
   "cell_type": "code",
   "execution_count": 2,
   "id": "c15f48ca-0cfd-4025-b65e-b86f647c19ed",
   "metadata": {},
   "outputs": [
    {
     "name": "stderr",
     "output_type": "stream",
     "text": [
      "/Users/patsy/anaconda3/lib/python3.11/site-packages/pandas/core/arrays/masked.py:60: UserWarning: Pandas requires version '1.3.6' or newer of 'bottleneck' (version '1.3.5' currently installed).\n",
      "  from pandas.core import (\n"
     ]
    },
    {
     "name": "stdout",
     "output_type": "stream",
     "text": [
      "['descriptions', 'prices', 'total returns', 'excess returns']\n"
     ]
    }
   ],
   "source": [
    "import pandas as pd \n",
    "\n",
    "xls = pd.ExcelFile('./../data/multi_asset_etf_data.xlsx')\n",
    "sheet_names = xls.sheet_names\n",
    "print(sheet_names)\n",
    "\n"
   ]
  },
  {
   "cell_type": "code",
   "execution_count": 3,
   "id": "5fc3f8c6-a55a-44a8-a5d4-f4b444859478",
   "metadata": {},
   "outputs": [
    {
     "name": "stdout",
     "output_type": "stream",
     "text": [
      "['descriptions', 'prices', 'total returns', 'excess returns']\n"
     ]
    }
   ],
   "source": [
    "import pandas as pd \n",
    "\n",
    "xls = pd.ExcelFile('./../data/multi_asset_etf_data.xlsx')\n",
    "sheet_names = xls.sheet_names\n",
    "print(sheet_names)\n",
    "\n"
   ]
  },
  {
   "cell_type": "code",
   "execution_count": 4,
   "id": "f3d78467-cf9e-4d88-88e0-ad5fe64e768a",
   "metadata": {},
   "outputs": [],
   "source": [
    "data = pd.read_excel('./../data/multi_asset_etf_data.xlsx', sheet_name='excess returns')\n",
    "data = data.set_index('Date')"
   ]
  },
  {
   "cell_type": "code",
   "execution_count": 5,
   "id": "5a6f2e7d-14fe-43fc-ac6d-c9412b836571",
   "metadata": {},
   "outputs": [
    {
     "data": {
      "text/html": [
       "<div>\n",
       "<style scoped>\n",
       "    .dataframe tbody tr th:only-of-type {\n",
       "        vertical-align: middle;\n",
       "    }\n",
       "\n",
       "    .dataframe tbody tr th {\n",
       "        vertical-align: top;\n",
       "    }\n",
       "\n",
       "    .dataframe thead th {\n",
       "        text-align: right;\n",
       "    }\n",
       "</style>\n",
       "<table border=\"1\" class=\"dataframe\">\n",
       "  <thead>\n",
       "    <tr style=\"text-align: right;\">\n",
       "      <th></th>\n",
       "      <th>BWX</th>\n",
       "      <th>DBC</th>\n",
       "      <th>EEM</th>\n",
       "      <th>EFA</th>\n",
       "      <th>HYG</th>\n",
       "      <th>IEF</th>\n",
       "      <th>IYR</th>\n",
       "      <th>PSP</th>\n",
       "      <th>QAI</th>\n",
       "      <th>SPY</th>\n",
       "      <th>TIP</th>\n",
       "    </tr>\n",
       "    <tr>\n",
       "      <th>Date</th>\n",
       "      <th></th>\n",
       "      <th></th>\n",
       "      <th></th>\n",
       "      <th></th>\n",
       "      <th></th>\n",
       "      <th></th>\n",
       "      <th></th>\n",
       "      <th></th>\n",
       "      <th></th>\n",
       "      <th></th>\n",
       "      <th></th>\n",
       "    </tr>\n",
       "  </thead>\n",
       "  <tbody>\n",
       "    <tr>\n",
       "      <th>2024-05-31</th>\n",
       "      <td>0.009647</td>\n",
       "      <td>-0.007581</td>\n",
       "      <td>0.014935</td>\n",
       "      <td>0.046020</td>\n",
       "      <td>0.011758</td>\n",
       "      <td>0.013420</td>\n",
       "      <td>0.044692</td>\n",
       "      <td>0.034457</td>\n",
       "      <td>0.008852</td>\n",
       "      <td>0.045998</td>\n",
       "      <td>0.013189</td>\n",
       "    </tr>\n",
       "    <tr>\n",
       "      <th>2024-06-30</th>\n",
       "      <td>-0.013674</td>\n",
       "      <td>-0.005917</td>\n",
       "      <td>0.021982</td>\n",
       "      <td>-0.022466</td>\n",
       "      <td>0.000595</td>\n",
       "      <td>0.007972</td>\n",
       "      <td>0.014565</td>\n",
       "      <td>-0.021305</td>\n",
       "      <td>-0.000965</td>\n",
       "      <td>0.031082</td>\n",
       "      <td>0.003417</td>\n",
       "    </tr>\n",
       "    <tr>\n",
       "      <th>2024-07-31</th>\n",
       "      <td>0.033913</td>\n",
       "      <td>-0.032580</td>\n",
       "      <td>0.003854</td>\n",
       "      <td>0.021317</td>\n",
       "      <td>0.018924</td>\n",
       "      <td>0.024373</td>\n",
       "      <td>0.071649</td>\n",
       "      <td>0.063989</td>\n",
       "      <td>0.006681</td>\n",
       "      <td>0.007510</td>\n",
       "      <td>0.012676</td>\n",
       "    </tr>\n",
       "    <tr>\n",
       "      <th>2024-08-31</th>\n",
       "      <td>0.025539</td>\n",
       "      <td>-0.025794</td>\n",
       "      <td>0.004799</td>\n",
       "      <td>0.027624</td>\n",
       "      <td>0.010495</td>\n",
       "      <td>0.008478</td>\n",
       "      <td>0.049029</td>\n",
       "      <td>-0.003754</td>\n",
       "      <td>0.002669</td>\n",
       "      <td>0.018386</td>\n",
       "      <td>0.003011</td>\n",
       "    </tr>\n",
       "    <tr>\n",
       "      <th>2024-09-30</th>\n",
       "      <td>0.023280</td>\n",
       "      <td>0.004912</td>\n",
       "      <td>0.070120</td>\n",
       "      <td>0.006742</td>\n",
       "      <td>0.013145</td>\n",
       "      <td>0.012029</td>\n",
       "      <td>0.018761</td>\n",
       "      <td>0.051810</td>\n",
       "      <td>0.010278</td>\n",
       "      <td>0.012344</td>\n",
       "      <td>0.011034</td>\n",
       "    </tr>\n",
       "  </tbody>\n",
       "</table>\n",
       "</div>"
      ],
      "text/plain": [
       "                 BWX       DBC       EEM       EFA       HYG       IEF  \\\n",
       "Date                                                                     \n",
       "2024-05-31  0.009647 -0.007581  0.014935  0.046020  0.011758  0.013420   \n",
       "2024-06-30 -0.013674 -0.005917  0.021982 -0.022466  0.000595  0.007972   \n",
       "2024-07-31  0.033913 -0.032580  0.003854  0.021317  0.018924  0.024373   \n",
       "2024-08-31  0.025539 -0.025794  0.004799  0.027624  0.010495  0.008478   \n",
       "2024-09-30  0.023280  0.004912  0.070120  0.006742  0.013145  0.012029   \n",
       "\n",
       "                 IYR       PSP       QAI       SPY       TIP  \n",
       "Date                                                          \n",
       "2024-05-31  0.044692  0.034457  0.008852  0.045998  0.013189  \n",
       "2024-06-30  0.014565 -0.021305 -0.000965  0.031082  0.003417  \n",
       "2024-07-31  0.071649  0.063989  0.006681  0.007510  0.012676  \n",
       "2024-08-31  0.049029 -0.003754  0.002669  0.018386  0.003011  \n",
       "2024-09-30  0.018761  0.051810  0.010278  0.012344  0.011034  "
      ]
     },
     "execution_count": 5,
     "metadata": {},
     "output_type": "execute_result"
    }
   ],
   "source": [
    "data.tail() "
   ]
  },
  {
   "cell_type": "code",
   "execution_count": 6,
   "id": "45688880-5b62-4dfa-97d3-9bb9c288a57a",
   "metadata": {},
   "outputs": [
    {
     "data": {
      "text/plain": [
       "(BWX   -0.011888\n",
       " DBC   -0.009086\n",
       " EEM    0.026960\n",
       " EFA    0.055037\n",
       " HYG    0.037356\n",
       " IEF    0.013939\n",
       " IYR    0.077912\n",
       " PSP    0.092851\n",
       " QAI    0.014959\n",
       " SPY    0.126983\n",
       " TIP    0.016844\n",
       " dtype: float64,\n",
       " BWX    0.081671\n",
       " DBC    0.168455\n",
       " EEM    0.179940\n",
       " EFA    0.152203\n",
       " HYG    0.077289\n",
       " IEF    0.063197\n",
       " IYR    0.169585\n",
       " PSP    0.215238\n",
       " QAI    0.049007\n",
       " SPY    0.143066\n",
       " TIP    0.051258\n",
       " dtype: float64)"
      ]
     },
     "execution_count": 6,
     "metadata": {},
     "output_type": "execute_result"
    }
   ],
   "source": [
    "import numpy as np \n",
    "annualized_er = (data * 12).mean() \n",
    "annualized_vol = data.std() * np.sqrt(12) \n",
    "annualized_er, annualized_vol"
   ]
  },
  {
   "cell_type": "code",
   "execution_count": 7,
   "id": "4d95666b-82ba-4321-93fd-acad849a218e",
   "metadata": {},
   "outputs": [],
   "source": [
    "def portfolio_metrics(returns): \n",
    "    metrics_df = pd.DataFrame(index = returns.columns)\n",
    "    metrics_df['er'] = returns.mean() * 12\n",
    "    metrics_df['vol'] = returns.std() * np.sqrt(12)\n",
    "    metrics_df['sr'] = (returns.mean() / returns.std()) * np.sqrt(12)\n",
    "    return metrics_df"
   ]
  },
  {
   "cell_type": "code",
   "execution_count": 8,
   "id": "70a4a5af-0470-4227-b9b8-2eccbd6352ef",
   "metadata": {},
   "outputs": [
    {
     "data": {
      "text/html": [
       "<div>\n",
       "<style scoped>\n",
       "    .dataframe tbody tr th:only-of-type {\n",
       "        vertical-align: middle;\n",
       "    }\n",
       "\n",
       "    .dataframe tbody tr th {\n",
       "        vertical-align: top;\n",
       "    }\n",
       "\n",
       "    .dataframe thead th {\n",
       "        text-align: right;\n",
       "    }\n",
       "</style>\n",
       "<table border=\"1\" class=\"dataframe\">\n",
       "  <thead>\n",
       "    <tr style=\"text-align: right;\">\n",
       "      <th></th>\n",
       "      <th>er</th>\n",
       "      <th>vol</th>\n",
       "      <th>sr</th>\n",
       "    </tr>\n",
       "  </thead>\n",
       "  <tbody>\n",
       "    <tr>\n",
       "      <th>BWX</th>\n",
       "      <td>-0.011888</td>\n",
       "      <td>0.081671</td>\n",
       "      <td>-0.145563</td>\n",
       "    </tr>\n",
       "    <tr>\n",
       "      <th>DBC</th>\n",
       "      <td>-0.009086</td>\n",
       "      <td>0.168455</td>\n",
       "      <td>-0.053935</td>\n",
       "    </tr>\n",
       "    <tr>\n",
       "      <th>EEM</th>\n",
       "      <td>0.026960</td>\n",
       "      <td>0.179940</td>\n",
       "      <td>0.149829</td>\n",
       "    </tr>\n",
       "    <tr>\n",
       "      <th>IEF</th>\n",
       "      <td>0.013939</td>\n",
       "      <td>0.063197</td>\n",
       "      <td>0.220561</td>\n",
       "    </tr>\n",
       "    <tr>\n",
       "      <th>QAI</th>\n",
       "      <td>0.014959</td>\n",
       "      <td>0.049007</td>\n",
       "      <td>0.305241</td>\n",
       "    </tr>\n",
       "    <tr>\n",
       "      <th>TIP</th>\n",
       "      <td>0.016844</td>\n",
       "      <td>0.051258</td>\n",
       "      <td>0.328618</td>\n",
       "    </tr>\n",
       "    <tr>\n",
       "      <th>EFA</th>\n",
       "      <td>0.055037</td>\n",
       "      <td>0.152203</td>\n",
       "      <td>0.361605</td>\n",
       "    </tr>\n",
       "    <tr>\n",
       "      <th>PSP</th>\n",
       "      <td>0.092851</td>\n",
       "      <td>0.215238</td>\n",
       "      <td>0.431386</td>\n",
       "    </tr>\n",
       "    <tr>\n",
       "      <th>IYR</th>\n",
       "      <td>0.077912</td>\n",
       "      <td>0.169585</td>\n",
       "      <td>0.459426</td>\n",
       "    </tr>\n",
       "    <tr>\n",
       "      <th>HYG</th>\n",
       "      <td>0.037356</td>\n",
       "      <td>0.077289</td>\n",
       "      <td>0.483335</td>\n",
       "    </tr>\n",
       "    <tr>\n",
       "      <th>SPY</th>\n",
       "      <td>0.126983</td>\n",
       "      <td>0.143066</td>\n",
       "      <td>0.887578</td>\n",
       "    </tr>\n",
       "  </tbody>\n",
       "</table>\n",
       "</div>"
      ],
      "text/plain": [
       "           er       vol        sr\n",
       "BWX -0.011888  0.081671 -0.145563\n",
       "DBC -0.009086  0.168455 -0.053935\n",
       "EEM  0.026960  0.179940  0.149829\n",
       "IEF  0.013939  0.063197  0.220561\n",
       "QAI  0.014959  0.049007  0.305241\n",
       "TIP  0.016844  0.051258  0.328618\n",
       "EFA  0.055037  0.152203  0.361605\n",
       "PSP  0.092851  0.215238  0.431386\n",
       "IYR  0.077912  0.169585  0.459426\n",
       "HYG  0.037356  0.077289  0.483335\n",
       "SPY  0.126983  0.143066  0.887578"
      ]
     },
     "execution_count": 8,
     "metadata": {},
     "output_type": "execute_result"
    }
   ],
   "source": [
    "portfolio_metrics(data).sort_values(by = 'sr')"
   ]
  },
  {
   "cell_type": "markdown",
   "id": "b4ad9358-fed9-4548-9eee-dcf91c72124d",
   "metadata": {},
   "source": [
    "BWX has the worst SR, while SPY has the best SR"
   ]
  },
  {
   "cell_type": "code",
   "execution_count": 9,
   "id": "4262adcb-9dc8-4e28-8914-9bca2bc6e231",
   "metadata": {},
   "outputs": [
    {
     "data": {
      "text/html": [
       "<div>\n",
       "<style scoped>\n",
       "    .dataframe tbody tr th:only-of-type {\n",
       "        vertical-align: middle;\n",
       "    }\n",
       "\n",
       "    .dataframe tbody tr th {\n",
       "        vertical-align: top;\n",
       "    }\n",
       "\n",
       "    .dataframe thead th {\n",
       "        text-align: right;\n",
       "    }\n",
       "</style>\n",
       "<table border=\"1\" class=\"dataframe\">\n",
       "  <thead>\n",
       "    <tr style=\"text-align: right;\">\n",
       "      <th></th>\n",
       "      <th>BWX</th>\n",
       "      <th>DBC</th>\n",
       "      <th>EEM</th>\n",
       "      <th>EFA</th>\n",
       "      <th>HYG</th>\n",
       "      <th>IEF</th>\n",
       "      <th>IYR</th>\n",
       "      <th>PSP</th>\n",
       "      <th>QAI</th>\n",
       "      <th>SPY</th>\n",
       "      <th>TIP</th>\n",
       "    </tr>\n",
       "  </thead>\n",
       "  <tbody>\n",
       "    <tr>\n",
       "      <th>BWX</th>\n",
       "      <td>1.000000</td>\n",
       "      <td>0.233222</td>\n",
       "      <td>0.638705</td>\n",
       "      <td>0.600620</td>\n",
       "      <td>0.620946</td>\n",
       "      <td>0.568903</td>\n",
       "      <td>0.562599</td>\n",
       "      <td>0.552010</td>\n",
       "      <td>0.662425</td>\n",
       "      <td>0.466152</td>\n",
       "      <td>0.680001</td>\n",
       "    </tr>\n",
       "    <tr>\n",
       "      <th>DBC</th>\n",
       "      <td>0.233222</td>\n",
       "      <td>1.000000</td>\n",
       "      <td>0.516908</td>\n",
       "      <td>0.521447</td>\n",
       "      <td>0.471924</td>\n",
       "      <td>-0.300523</td>\n",
       "      <td>0.290040</td>\n",
       "      <td>0.467111</td>\n",
       "      <td>0.494467</td>\n",
       "      <td>0.448389</td>\n",
       "      <td>0.114379</td>\n",
       "    </tr>\n",
       "    <tr>\n",
       "      <th>EEM</th>\n",
       "      <td>0.638705</td>\n",
       "      <td>0.516908</td>\n",
       "      <td>1.000000</td>\n",
       "      <td>0.820770</td>\n",
       "      <td>0.694174</td>\n",
       "      <td>0.020477</td>\n",
       "      <td>0.589003</td>\n",
       "      <td>0.761796</td>\n",
       "      <td>0.791130</td>\n",
       "      <td>0.699939</td>\n",
       "      <td>0.379465</td>\n",
       "    </tr>\n",
       "    <tr>\n",
       "      <th>EFA</th>\n",
       "      <td>0.600620</td>\n",
       "      <td>0.521447</td>\n",
       "      <td>0.820770</td>\n",
       "      <td>1.000000</td>\n",
       "      <td>0.790742</td>\n",
       "      <td>0.018537</td>\n",
       "      <td>0.705926</td>\n",
       "      <td>0.910596</td>\n",
       "      <td>0.863957</td>\n",
       "      <td>0.864822</td>\n",
       "      <td>0.386677</td>\n",
       "    </tr>\n",
       "    <tr>\n",
       "      <th>HYG</th>\n",
       "      <td>0.620946</td>\n",
       "      <td>0.471924</td>\n",
       "      <td>0.694174</td>\n",
       "      <td>0.790742</td>\n",
       "      <td>1.000000</td>\n",
       "      <td>0.180087</td>\n",
       "      <td>0.739567</td>\n",
       "      <td>0.814182</td>\n",
       "      <td>0.811161</td>\n",
       "      <td>0.794782</td>\n",
       "      <td>0.541758</td>\n",
       "    </tr>\n",
       "    <tr>\n",
       "      <th>IEF</th>\n",
       "      <td>0.568903</td>\n",
       "      <td>-0.300523</td>\n",
       "      <td>0.020477</td>\n",
       "      <td>0.018537</td>\n",
       "      <td>0.180087</td>\n",
       "      <td>1.000000</td>\n",
       "      <td>0.297047</td>\n",
       "      <td>0.017486</td>\n",
       "      <td>0.176287</td>\n",
       "      <td>-0.005053</td>\n",
       "      <td>0.745025</td>\n",
       "    </tr>\n",
       "    <tr>\n",
       "      <th>IYR</th>\n",
       "      <td>0.562599</td>\n",
       "      <td>0.290040</td>\n",
       "      <td>0.589003</td>\n",
       "      <td>0.705926</td>\n",
       "      <td>0.739567</td>\n",
       "      <td>0.297047</td>\n",
       "      <td>1.000000</td>\n",
       "      <td>0.753810</td>\n",
       "      <td>0.718397</td>\n",
       "      <td>0.760646</td>\n",
       "      <td>0.590805</td>\n",
       "    </tr>\n",
       "    <tr>\n",
       "      <th>PSP</th>\n",
       "      <td>0.552010</td>\n",
       "      <td>0.467111</td>\n",
       "      <td>0.761796</td>\n",
       "      <td>0.910596</td>\n",
       "      <td>0.814182</td>\n",
       "      <td>0.017486</td>\n",
       "      <td>0.753810</td>\n",
       "      <td>1.000000</td>\n",
       "      <td>0.870673</td>\n",
       "      <td>0.890719</td>\n",
       "      <td>0.415854</td>\n",
       "    </tr>\n",
       "    <tr>\n",
       "      <th>QAI</th>\n",
       "      <td>0.662425</td>\n",
       "      <td>0.494467</td>\n",
       "      <td>0.791130</td>\n",
       "      <td>0.863957</td>\n",
       "      <td>0.811161</td>\n",
       "      <td>0.176287</td>\n",
       "      <td>0.718397</td>\n",
       "      <td>0.870673</td>\n",
       "      <td>1.000000</td>\n",
       "      <td>0.862479</td>\n",
       "      <td>0.527724</td>\n",
       "    </tr>\n",
       "    <tr>\n",
       "      <th>SPY</th>\n",
       "      <td>0.466152</td>\n",
       "      <td>0.448389</td>\n",
       "      <td>0.699939</td>\n",
       "      <td>0.864822</td>\n",
       "      <td>0.794782</td>\n",
       "      <td>-0.005053</td>\n",
       "      <td>0.760646</td>\n",
       "      <td>0.890719</td>\n",
       "      <td>0.862479</td>\n",
       "      <td>1.000000</td>\n",
       "      <td>0.393647</td>\n",
       "    </tr>\n",
       "    <tr>\n",
       "      <th>TIP</th>\n",
       "      <td>0.680001</td>\n",
       "      <td>0.114379</td>\n",
       "      <td>0.379465</td>\n",
       "      <td>0.386677</td>\n",
       "      <td>0.541758</td>\n",
       "      <td>0.745025</td>\n",
       "      <td>0.590805</td>\n",
       "      <td>0.415854</td>\n",
       "      <td>0.527724</td>\n",
       "      <td>0.393647</td>\n",
       "      <td>1.000000</td>\n",
       "    </tr>\n",
       "  </tbody>\n",
       "</table>\n",
       "</div>"
      ],
      "text/plain": [
       "          BWX       DBC       EEM       EFA       HYG       IEF       IYR  \\\n",
       "BWX  1.000000  0.233222  0.638705  0.600620  0.620946  0.568903  0.562599   \n",
       "DBC  0.233222  1.000000  0.516908  0.521447  0.471924 -0.300523  0.290040   \n",
       "EEM  0.638705  0.516908  1.000000  0.820770  0.694174  0.020477  0.589003   \n",
       "EFA  0.600620  0.521447  0.820770  1.000000  0.790742  0.018537  0.705926   \n",
       "HYG  0.620946  0.471924  0.694174  0.790742  1.000000  0.180087  0.739567   \n",
       "IEF  0.568903 -0.300523  0.020477  0.018537  0.180087  1.000000  0.297047   \n",
       "IYR  0.562599  0.290040  0.589003  0.705926  0.739567  0.297047  1.000000   \n",
       "PSP  0.552010  0.467111  0.761796  0.910596  0.814182  0.017486  0.753810   \n",
       "QAI  0.662425  0.494467  0.791130  0.863957  0.811161  0.176287  0.718397   \n",
       "SPY  0.466152  0.448389  0.699939  0.864822  0.794782 -0.005053  0.760646   \n",
       "TIP  0.680001  0.114379  0.379465  0.386677  0.541758  0.745025  0.590805   \n",
       "\n",
       "          PSP       QAI       SPY       TIP  \n",
       "BWX  0.552010  0.662425  0.466152  0.680001  \n",
       "DBC  0.467111  0.494467  0.448389  0.114379  \n",
       "EEM  0.761796  0.791130  0.699939  0.379465  \n",
       "EFA  0.910596  0.863957  0.864822  0.386677  \n",
       "HYG  0.814182  0.811161  0.794782  0.541758  \n",
       "IEF  0.017486  0.176287 -0.005053  0.745025  \n",
       "IYR  0.753810  0.718397  0.760646  0.590805  \n",
       "PSP  1.000000  0.870673  0.890719  0.415854  \n",
       "QAI  0.870673  1.000000  0.862479  0.527724  \n",
       "SPY  0.890719  0.862479  1.000000  0.393647  \n",
       "TIP  0.415854  0.527724  0.393647  1.000000  "
      ]
     },
     "execution_count": 9,
     "metadata": {},
     "output_type": "execute_result"
    }
   ],
   "source": [
    "er = data* 12\n",
    "corr_matrix = er.corr()\n",
    "corr_matrix"
   ]
  },
  {
   "cell_type": "code",
   "execution_count": 10,
   "id": "3a065b9d-c1d8-4348-a3ef-7fbcaa13fcfa",
   "metadata": {},
   "outputs": [
    {
     "data": {
      "image/png": "[encoded data removed]",
      "text/plain": [
       "<Figure size 640x480 with 2 Axes>"
      ]
     },
     "metadata": {},
     "output_type": "display_data"
    }
   ],
   "source": [
    "import seaborn as sns \n",
    "import matplotlib.pyplot as plt \n",
    "mask = np.eye(corr_matrix.shape[0], dtype=bool)\n",
    "sns.heatmap(corr_matrix, mask=mask, annot=True, cmap='coolwarm')\n",
    "plt.show()\n"
   ]
  },
  {
   "cell_type": "code",
   "execution_count": 11,
   "id": "056162bc-b140-4faf-9cac-261f557becdd",
   "metadata": {},
   "outputs": [
    {
     "name": "stdout",
     "output_type": "stream",
     "text": [
      "Lowest correlation pair: IEF  DBC   -0.300523\n",
      "dtype: float64\n",
      "Highest correlation pair: PSP  EFA    0.910596\n",
      "dtype: float64\n"
     ]
    }
   ],
   "source": [
    "corr_pairs = corr_matrix.unstack()\n",
    "corr_pairs = corr_pairs[corr_pairs != 1]\n",
    "sorted_corr = corr_pairs.sort_values()\n",
    "lowest_corr = sorted_corr.head(1)\n",
    "highest_corr = sorted_corr.tail(1)\n",
    "\n",
    "print(\"Lowest correlation pair:\", lowest_corr)\n",
    "print(\"Highest correlation pair:\", highest_corr)"
   ]
  },
  {
   "cell_type": "code",
   "execution_count": 12,
   "id": "64c0a569-4583-4ee2-85e0-634763da825a",
   "metadata": {},
   "outputs": [
    {
     "data": {
      "text/plain": [
       "<Axes: xlabel='Date'>"
      ]
     },
     "execution_count": 12,
     "metadata": {},
     "output_type": "execute_result"
    },
    {
     "data": {
      "image/png": "[encoded data removed]",
      "text/plain": [
       "<Figure size 640x480 with 1 Axes>"
      ]
     },
     "metadata": {},
     "output_type": "display_data"
    }
   ],
   "source": [
    "er['TIP'].cumsum().plot()"
   ]
  },
  {
   "cell_type": "code",
   "execution_count": 13,
   "id": "b5ab5187-01a9-4496-b8d4-f0d931d9d486",
   "metadata": {},
   "outputs": [
    {
     "data": {
      "text/html": [
       "<div>\n",
       "<style scoped>\n",
       "    .dataframe tbody tr th:only-of-type {\n",
       "        vertical-align: middle;\n",
       "    }\n",
       "\n",
       "    .dataframe tbody tr th {\n",
       "        vertical-align: top;\n",
       "    }\n",
       "\n",
       "    .dataframe thead th {\n",
       "        text-align: right;\n",
       "    }\n",
       "</style>\n",
       "<table border=\"1\" class=\"dataframe\">\n",
       "  <thead>\n",
       "    <tr style=\"text-align: right;\">\n",
       "      <th></th>\n",
       "      <th>er</th>\n",
       "      <th>vol</th>\n",
       "      <th>sr</th>\n",
       "    </tr>\n",
       "  </thead>\n",
       "  <tbody>\n",
       "    <tr>\n",
       "      <th>BWX</th>\n",
       "      <td>-0.011888</td>\n",
       "      <td>0.081671</td>\n",
       "      <td>-0.145563</td>\n",
       "    </tr>\n",
       "    <tr>\n",
       "      <th>DBC</th>\n",
       "      <td>-0.009086</td>\n",
       "      <td>0.168455</td>\n",
       "      <td>-0.053935</td>\n",
       "    </tr>\n",
       "    <tr>\n",
       "      <th>EEM</th>\n",
       "      <td>0.026960</td>\n",
       "      <td>0.179940</td>\n",
       "      <td>0.149829</td>\n",
       "    </tr>\n",
       "    <tr>\n",
       "      <th>IEF</th>\n",
       "      <td>0.013939</td>\n",
       "      <td>0.063197</td>\n",
       "      <td>0.220561</td>\n",
       "    </tr>\n",
       "    <tr>\n",
       "      <th>QAI</th>\n",
       "      <td>0.014959</td>\n",
       "      <td>0.049007</td>\n",
       "      <td>0.305241</td>\n",
       "    </tr>\n",
       "    <tr>\n",
       "      <th>TIP</th>\n",
       "      <td>0.016844</td>\n",
       "      <td>0.051258</td>\n",
       "      <td>0.328618</td>\n",
       "    </tr>\n",
       "    <tr>\n",
       "      <th>EFA</th>\n",
       "      <td>0.055037</td>\n",
       "      <td>0.152203</td>\n",
       "      <td>0.361605</td>\n",
       "    </tr>\n",
       "    <tr>\n",
       "      <th>PSP</th>\n",
       "      <td>0.092851</td>\n",
       "      <td>0.215238</td>\n",
       "      <td>0.431386</td>\n",
       "    </tr>\n",
       "    <tr>\n",
       "      <th>IYR</th>\n",
       "      <td>0.077912</td>\n",
       "      <td>0.169585</td>\n",
       "      <td>0.459426</td>\n",
       "    </tr>\n",
       "    <tr>\n",
       "      <th>HYG</th>\n",
       "      <td>0.037356</td>\n",
       "      <td>0.077289</td>\n",
       "      <td>0.483335</td>\n",
       "    </tr>\n",
       "    <tr>\n",
       "      <th>SPY</th>\n",
       "      <td>0.126983</td>\n",
       "      <td>0.143066</td>\n",
       "      <td>0.887578</td>\n",
       "    </tr>\n",
       "  </tbody>\n",
       "</table>\n",
       "</div>"
      ],
      "text/plain": [
       "           er       vol        sr\n",
       "BWX -0.011888  0.081671 -0.145563\n",
       "DBC -0.009086  0.168455 -0.053935\n",
       "EEM  0.026960  0.179940  0.149829\n",
       "IEF  0.013939  0.063197  0.220561\n",
       "QAI  0.014959  0.049007  0.305241\n",
       "TIP  0.016844  0.051258  0.328618\n",
       "EFA  0.055037  0.152203  0.361605\n",
       "PSP  0.092851  0.215238  0.431386\n",
       "IYR  0.077912  0.169585  0.459426\n",
       "HYG  0.037356  0.077289  0.483335\n",
       "SPY  0.126983  0.143066  0.887578"
      ]
     },
     "execution_count": 13,
     "metadata": {},
     "output_type": "execute_result"
    }
   ],
   "source": [
    "merged_df = portfolio_metrics(data).sort_values(by = 'sr')\n",
    "merged_df"
   ]
  },
  {
   "cell_type": "markdown",
   "id": "929dea02-bd73-4ef6-b53a-74b16aab4ca4",
   "metadata": {},
   "source": [
    "TIP has performed relatively well with an increase in the expected returns with a SR of 0.329. \n",
    "\n",
    "As for the comparison with the other bonds: \n",
    "\n",
    "Foreign Bonds:\n",
    "BWX – SPDR Bloomberg International Treasury Bond ETF: Invests in foreign government bonds.\n",
    "\n",
    "\n",
    "Domestic Bonds (U.S.):\n",
    "IEF – iShares 7-10 Year Treasury Bond ETF: Invests in U.S. Treasury bonds.\n",
    "TIP – iShares TIPS Bond ETF: Invests in U.S. Treasury Inflation-Protected Securities (TIPS).\n",
    "HYG – iShares iBoxx $ High Yield Corporate Bond ETF: Invests in U.S. high-yield corporate bonds.\n",
    "\n",
    "TIP has outperformed IEF and BWX with a higher expected return but underperformed relative to HYG. However, TIP has a lower vol compared to the others. "
   ]
  },
  {
   "cell_type": "code",
   "execution_count": 67,
   "id": "640333ea-c9bd-4bd0-84a6-3b9571fceb5d",
   "metadata": {},
   "outputs": [
    {
     "ename": "TypeError",
     "evalue": "Series.cov() missing 1 required positional argument: 'other'",
     "output_type": "error",
     "traceback": [
      "\u001b[0;31m---------------------------------------------------------------------------\u001b[0m",
      "\u001b[0;31mTypeError\u001b[0m                                 Traceback (most recent call last)",
      "Cell \u001b[0;32mIn[67], line 19\u001b[0m\n\u001b[1;32m     14\u001b[0m     weights \u001b[38;5;241m=\u001b[39m weights \u001b[38;5;241m/\u001b[39m weights\u001b[38;5;241m.\u001b[39msum()\n\u001b[1;32m     16\u001b[0m     \u001b[38;5;28;01mreturn\u001b[39;00m pd\u001b[38;5;241m.\u001b[39mDataFrame(weights, index\u001b[38;5;241m=\u001b[39mreturns\u001b[38;5;241m.\u001b[39mcolumns)\n\u001b[0;32m---> 19\u001b[0m weights \u001b[38;5;241m=\u001b[39m tangency_weights(er)\n\u001b[1;32m     20\u001b[0m weights\u001b[38;5;241m.\u001b[39mrename(columns \u001b[38;5;241m=\u001b[39m {\u001b[38;5;241m0\u001b[39m: \u001b[38;5;124m'\u001b[39m\u001b[38;5;124mWeight\u001b[39m\u001b[38;5;124m'\u001b[39m}, inplace\u001b[38;5;241m=\u001b[39m\u001b[38;5;28;01mTrue\u001b[39;00m)\n\u001b[1;32m     21\u001b[0m weights\u001b[38;5;241m.\u001b[39msort_values(by \u001b[38;5;241m=\u001b[39m \u001b[38;5;124m'\u001b[39m\u001b[38;5;124mWeight\u001b[39m\u001b[38;5;124m'\u001b[39m )\n",
      "Cell \u001b[0;32mIn[67], line 9\u001b[0m, in \u001b[0;36mtangency_weights\u001b[0;34m(returns, dropna, scale_cov)\u001b[0m\n\u001b[1;32m      6\u001b[0m \u001b[38;5;28;01mif\u001b[39;00m dropna:\n\u001b[1;32m      7\u001b[0m     returns \u001b[38;5;241m=\u001b[39m returns\u001b[38;5;241m.\u001b[39mdropna()\n\u001b[0;32m----> 9\u001b[0m covmat_full \u001b[38;5;241m=\u001b[39m returns\u001b[38;5;241m.\u001b[39mcov()\n\u001b[1;32m     10\u001b[0m covmat_diag \u001b[38;5;241m=\u001b[39m np\u001b[38;5;241m.\u001b[39mdiag(np\u001b[38;5;241m.\u001b[39mdiag(covmat_full))\n\u001b[1;32m     11\u001b[0m covmat \u001b[38;5;241m=\u001b[39m scale_cov \u001b[38;5;241m*\u001b[39m covmat_full \u001b[38;5;241m+\u001b[39m (\u001b[38;5;241m1\u001b[39m\u001b[38;5;241m-\u001b[39mscale_cov) \u001b[38;5;241m*\u001b[39m covmat_diag\n",
      "\u001b[0;31mTypeError\u001b[0m: Series.cov() missing 1 required positional argument: 'other'"
     ]
    }
   ],
   "source": [
    "# tangency portfolio \n",
    "\n",
    "# Using the solutions from 2023, I used the function for tangency weights to construct the tangency portfolio\n",
    "\n",
    "def tangency_weights(returns,dropna=True,scale_cov=1):\n",
    "    if dropna:\n",
    "        returns = returns.dropna()\n",
    "\n",
    "    covmat_full = returns.cov()\n",
    "    covmat_diag = np.diag(np.diag(covmat_full))\n",
    "    covmat = scale_cov * covmat_full + (1-scale_cov) * covmat_diag\n",
    "\n",
    "    weights = np.linalg.solve(covmat,returns.mean())\n",
    "    weights = weights / weights.sum()\n",
    "\n",
    "    return pd.DataFrame(weights, index=returns.columns)\n",
    "\n",
    "\n",
    "weights = tangency_weights(er)\n",
    "weights.rename(columns = {0: 'Weight'}, inplace=True)\n",
    "weights.sort_values(by = 'Weight' )\n"
   ]
  },
  {
   "cell_type": "code",
   "execution_count": null,
   "id": "773f713c-112b-44f7-876c-bd8ed94cc24d",
   "metadata": {},
   "outputs": [],
   "source": []
  },
  {
   "cell_type": "code",
   "execution_count": 15,
   "id": "e809a67f-f86a-4d47-850a-03eafe3c0929",
   "metadata": {},
   "outputs": [
    {
     "data": {
      "text/html": [
       "<div>\n",
       "<style scoped>\n",
       "    .dataframe tbody tr th:only-of-type {\n",
       "        vertical-align: middle;\n",
       "    }\n",
       "\n",
       "    .dataframe tbody tr th {\n",
       "        vertical-align: top;\n",
       "    }\n",
       "\n",
       "    .dataframe thead th {\n",
       "        text-align: right;\n",
       "    }\n",
       "</style>\n",
       "<table border=\"1\" class=\"dataframe\">\n",
       "  <thead>\n",
       "    <tr style=\"text-align: right;\">\n",
       "      <th></th>\n",
       "      <th>er</th>\n",
       "      <th>vol</th>\n",
       "      <th>sr</th>\n",
       "      <th>Weight</th>\n",
       "      <th>Weight_Rank</th>\n",
       "      <th>SR_Rank</th>\n",
       "    </tr>\n",
       "    <tr>\n",
       "      <th>key_0</th>\n",
       "      <th></th>\n",
       "      <th></th>\n",
       "      <th></th>\n",
       "      <th></th>\n",
       "      <th></th>\n",
       "      <th></th>\n",
       "    </tr>\n",
       "  </thead>\n",
       "  <tbody>\n",
       "    <tr>\n",
       "      <th>BWX</th>\n",
       "      <td>-0.011888</td>\n",
       "      <td>0.081671</td>\n",
       "      <td>-0.145563</td>\n",
       "      <td>2.730253</td>\n",
       "      <td>2.0</td>\n",
       "      <td>11.0</td>\n",
       "    </tr>\n",
       "    <tr>\n",
       "      <th>DBC</th>\n",
       "      <td>-0.009086</td>\n",
       "      <td>0.168455</td>\n",
       "      <td>-0.053935</td>\n",
       "      <td>-0.111241</td>\n",
       "      <td>7.0</td>\n",
       "      <td>10.0</td>\n",
       "    </tr>\n",
       "    <tr>\n",
       "      <th>EEM</th>\n",
       "      <td>0.026960</td>\n",
       "      <td>0.179940</td>\n",
       "      <td>0.149829</td>\n",
       "      <td>-0.615698</td>\n",
       "      <td>8.0</td>\n",
       "      <td>9.0</td>\n",
       "    </tr>\n",
       "    <tr>\n",
       "      <th>IEF</th>\n",
       "      <td>0.013939</td>\n",
       "      <td>0.063197</td>\n",
       "      <td>0.220561</td>\n",
       "      <td>0.530692</td>\n",
       "      <td>4.0</td>\n",
       "      <td>8.0</td>\n",
       "    </tr>\n",
       "    <tr>\n",
       "      <th>QAI</th>\n",
       "      <td>0.014959</td>\n",
       "      <td>0.049007</td>\n",
       "      <td>0.305241</td>\n",
       "      <td>-0.832578</td>\n",
       "      <td>9.0</td>\n",
       "      <td>7.0</td>\n",
       "    </tr>\n",
       "    <tr>\n",
       "      <th>TIP</th>\n",
       "      <td>0.016844</td>\n",
       "      <td>0.051258</td>\n",
       "      <td>0.328618</td>\n",
       "      <td>-4.682480</td>\n",
       "      <td>10.0</td>\n",
       "      <td>6.0</td>\n",
       "    </tr>\n",
       "    <tr>\n",
       "      <th>EFA</th>\n",
       "      <td>0.055037</td>\n",
       "      <td>0.152203</td>\n",
       "      <td>0.361605</td>\n",
       "      <td>0.877108</td>\n",
       "      <td>3.0</td>\n",
       "      <td>5.0</td>\n",
       "    </tr>\n",
       "    <tr>\n",
       "      <th>PSP</th>\n",
       "      <td>0.092851</td>\n",
       "      <td>0.215238</td>\n",
       "      <td>0.431386</td>\n",
       "      <td>0.277002</td>\n",
       "      <td>6.0</td>\n",
       "      <td>4.0</td>\n",
       "    </tr>\n",
       "    <tr>\n",
       "      <th>IYR</th>\n",
       "      <td>0.077912</td>\n",
       "      <td>0.169585</td>\n",
       "      <td>0.459426</td>\n",
       "      <td>7.220592</td>\n",
       "      <td>1.0</td>\n",
       "      <td>3.0</td>\n",
       "    </tr>\n",
       "    <tr>\n",
       "      <th>HYG</th>\n",
       "      <td>0.037356</td>\n",
       "      <td>0.077289</td>\n",
       "      <td>0.483335</td>\n",
       "      <td>-4.904086</td>\n",
       "      <td>11.0</td>\n",
       "      <td>2.0</td>\n",
       "    </tr>\n",
       "    <tr>\n",
       "      <th>SPY</th>\n",
       "      <td>0.126983</td>\n",
       "      <td>0.143066</td>\n",
       "      <td>0.887578</td>\n",
       "      <td>0.510436</td>\n",
       "      <td>5.0</td>\n",
       "      <td>1.0</td>\n",
       "    </tr>\n",
       "  </tbody>\n",
       "</table>\n",
       "</div>"
      ],
      "text/plain": [
       "             er       vol        sr    Weight  Weight_Rank  SR_Rank\n",
       "key_0                                                              \n",
       "BWX   -0.011888  0.081671 -0.145563  2.730253          2.0     11.0\n",
       "DBC   -0.009086  0.168455 -0.053935 -0.111241          7.0     10.0\n",
       "EEM    0.026960  0.179940  0.149829 -0.615698          8.0      9.0\n",
       "IEF    0.013939  0.063197  0.220561  0.530692          4.0      8.0\n",
       "QAI    0.014959  0.049007  0.305241 -0.832578          9.0      7.0\n",
       "TIP    0.016844  0.051258  0.328618 -4.682480         10.0      6.0\n",
       "EFA    0.055037  0.152203  0.361605  0.877108          3.0      5.0\n",
       "PSP    0.092851  0.215238  0.431386  0.277002          6.0      4.0\n",
       "IYR    0.077912  0.169585  0.459426  7.220592          1.0      3.0\n",
       "HYG    0.037356  0.077289  0.483335 -4.904086         11.0      2.0\n",
       "SPY    0.126983  0.143066  0.887578  0.510436          5.0      1.0"
      ]
     },
     "execution_count": 15,
     "metadata": {},
     "output_type": "execute_result"
    }
   ],
   "source": [
    "weights_df = pd.merge(merged_df, weights, on = merged_df.index).set_index('key_0') \n",
    "weights_df['Weight_Rank'] = weights_df['Weight'].rank(ascending=False)\n",
    "weights_df['SR_Rank'] = weights_df['sr'].rank(ascending=False)\n",
    "weights_df"
   ]
  },
  {
   "cell_type": "markdown",
   "id": "72ce497f-2da3-45b8-9d07-8a7ba040db7b",
   "metadata": {},
   "source": [
    "no the rankings do not ali"
   ]
  },
  {
   "cell_type": "code",
   "execution_count": 16,
   "id": "7c0ddca0-afa6-4758-9c6e-e0f54f231063",
   "metadata": {},
   "outputs": [
    {
     "data": {
      "text/html": [
       "<div>\n",
       "<style scoped>\n",
       "    .dataframe tbody tr th:only-of-type {\n",
       "        vertical-align: middle;\n",
       "    }\n",
       "\n",
       "    .dataframe tbody tr th {\n",
       "        vertical-align: top;\n",
       "    }\n",
       "\n",
       "    .dataframe thead th {\n",
       "        text-align: right;\n",
       "    }\n",
       "</style>\n",
       "<table border=\"1\" class=\"dataframe\">\n",
       "  <thead>\n",
       "    <tr style=\"text-align: right;\">\n",
       "      <th></th>\n",
       "      <th>er</th>\n",
       "      <th>vol</th>\n",
       "      <th>sr</th>\n",
       "    </tr>\n",
       "  </thead>\n",
       "  <tbody>\n",
       "    <tr>\n",
       "      <th>tangency</th>\n",
       "      <td>-0.527276</td>\n",
       "      <td>0.328513</td>\n",
       "      <td>-1.605037</td>\n",
       "    </tr>\n",
       "  </tbody>\n",
       "</table>\n",
       "</div>"
      ],
      "text/plain": [
       "                er       vol        sr\n",
       "tangency -0.527276  0.328513 -1.605037"
      ]
     },
     "execution_count": 16,
     "metadata": {},
     "output_type": "execute_result"
    }
   ],
   "source": [
    "# using the weights construct the er \n",
    "weights = pd.DataFrame(index = data.columns)\n",
    "weights['tangency'] = tangency_weights(er)\n",
    "port = pd.DataFrame(data @ weights['tangency'],columns=['tangency'])    \n",
    "portfolio_metrics(port).sort_values(by = 'sr')"
   ]
  },
  {
   "cell_type": "code",
   "execution_count": 17,
   "id": "d8dac71e-9659-4d1a-9beb-f472230179fe",
   "metadata": {},
   "outputs": [
    {
     "data": {
      "text/plain": [
       "<Axes: >"
      ]
     },
     "execution_count": 17,
     "metadata": {},
     "output_type": "execute_result"
    },
    {
     "data": {
      "image/png": "[encoded data removed]",
      "text/plain": [
       "<Figure size 640x480 with 1 Axes>"
      ]
     },
     "metadata": {},
     "output_type": "display_data"
    }
   ],
   "source": [
    "weights.plot.bar()"
   ]
  },
  {
   "cell_type": "code",
   "execution_count": 18,
   "id": "0d78d5a6-e638-450c-b9c1-4f8e168af7ab",
   "metadata": {},
   "outputs": [
    {
     "data": {
      "text/html": [
       "<div>\n",
       "<style scoped>\n",
       "    .dataframe tbody tr th:only-of-type {\n",
       "        vertical-align: middle;\n",
       "    }\n",
       "\n",
       "    .dataframe tbody tr th {\n",
       "        vertical-align: top;\n",
       "    }\n",
       "\n",
       "    .dataframe thead th {\n",
       "        text-align: right;\n",
       "    }\n",
       "</style>\n",
       "<table border=\"1\" class=\"dataframe\">\n",
       "  <thead>\n",
       "    <tr style=\"text-align: right;\">\n",
       "      <th></th>\n",
       "      <th>er</th>\n",
       "      <th>vol</th>\n",
       "      <th>sr</th>\n",
       "    </tr>\n",
       "  </thead>\n",
       "  <tbody>\n",
       "    <tr>\n",
       "      <th>tangency</th>\n",
       "      <td>-0.580806</td>\n",
       "      <td>0.362125</td>\n",
       "      <td>-1.603881</td>\n",
       "    </tr>\n",
       "  </tbody>\n",
       "</table>\n",
       "</div>"
      ],
      "text/plain": [
       "                er       vol        sr\n",
       "tangency -0.580806  0.362125 -1.603881"
      ]
     },
     "execution_count": 18,
     "metadata": {},
     "output_type": "execute_result"
    }
   ],
   "source": [
    "# Scenario 1 : Dropping TIP \n",
    "\n",
    "asset = 'TIP' \n",
    "\n",
    "new_data = data.drop(columns = [asset]) \n",
    "\n",
    "# using the weights construct the er \n",
    "weights = pd.DataFrame(index = new_data.columns)\n",
    "weights['tangency'] = tangency_weights(new_data)\n",
    "port = pd.DataFrame(new_data @ weights['tangency'],columns=['tangency'])    \n",
    "portfolio_metrics(port).sort_values(by = 'sr')"
   ]
  },
  {
   "cell_type": "code",
   "execution_count": 19,
   "id": "85f60572-8c03-4d05-a3b5-ea99c59a9a3c",
   "metadata": {},
   "outputs": [
    {
     "data": {
      "text/plain": [
       "<Axes: >"
      ]
     },
     "execution_count": 19,
     "metadata": {},
     "output_type": "execute_result"
    },
    {
     "data": {
      "image/png": "[encoded data removed]",
      "text/plain": [
       "<Figure size 640x480 with 1 Axes>"
      ]
     },
     "metadata": {},
     "output_type": "display_data"
    }
   ],
   "source": [
    "weights.plot.bar()\n"
   ]
  },
  {
   "cell_type": "markdown",
   "id": "52d44576-6188-43ae-a4f3-1feb62d7447d",
   "metadata": {},
   "source": [
    "The weights do not change substantially from dropping TIP. "
   ]
  },
  {
   "cell_type": "code",
   "execution_count": 20,
   "id": "09a1e1a6-975d-417f-9c6a-df5f34ae4b22",
   "metadata": {},
   "outputs": [
    {
     "data": {
      "text/html": [
       "<div>\n",
       "<style scoped>\n",
       "    .dataframe tbody tr th:only-of-type {\n",
       "        vertical-align: middle;\n",
       "    }\n",
       "\n",
       "    .dataframe tbody tr th {\n",
       "        vertical-align: top;\n",
       "    }\n",
       "\n",
       "    .dataframe thead th {\n",
       "        text-align: right;\n",
       "    }\n",
       "</style>\n",
       "<table border=\"1\" class=\"dataframe\">\n",
       "  <thead>\n",
       "    <tr style=\"text-align: right;\">\n",
       "      <th></th>\n",
       "      <th>er</th>\n",
       "      <th>vol</th>\n",
       "      <th>sr</th>\n",
       "    </tr>\n",
       "  </thead>\n",
       "  <tbody>\n",
       "    <tr>\n",
       "      <th>tangency</th>\n",
       "      <td>-6.174021</td>\n",
       "      <td>3.655768</td>\n",
       "      <td>-1.688844</td>\n",
       "    </tr>\n",
       "  </tbody>\n",
       "</table>\n",
       "</div>"
      ],
      "text/plain": [
       "                er       vol        sr\n",
       "tangency -6.174021  3.655768 -1.688844"
      ]
     },
     "execution_count": 20,
     "metadata": {},
     "output_type": "execute_result"
    }
   ],
   "source": [
    "# Scenario 2: Increasing expected return to + 0.0012 \n",
    "\n",
    "\n",
    "new_data = data.copy() \n",
    "new_data['TIP'] = new_data['TIP'] + 0.0012\n",
    "weights = pd.DataFrame(index = new_data.columns)\n",
    "weights['tangency'] = tangency_weights(new_data)\n",
    "port = pd.DataFrame(new_data @ weights['tangency'],columns=['tangency'])    \n",
    "portfolio_metrics(port).sort_values(by = 'sr')"
   ]
  },
  {
   "cell_type": "code",
   "execution_count": 21,
   "id": "5b6292c9-3bf9-435b-860e-e798b4209a03",
   "metadata": {},
   "outputs": [
    {
     "data": {
      "text/plain": [
       "<Axes: >"
      ]
     },
     "execution_count": 21,
     "metadata": {},
     "output_type": "execute_result"
    },
    {
     "data": {
      "image/png": "[encoded data removed]",
      "text/plain": [
       "<Figure size 640x480 with 1 Axes>"
      ]
     },
     "metadata": {},
     "output_type": "display_data"
    }
   ],
   "source": [
    "weights.plot.bar()"
   ]
  },
  {
   "cell_type": "markdown",
   "id": "1448b52b-be41-4bf5-982a-5f20e52c416d",
   "metadata": {},
   "source": [
    "No it does not. Hardly any changes in the overall returns, volatility and sharpe ratios for both portfolio scenarios. "
   ]
  },
  {
   "cell_type": "markdown",
   "id": "75571c8a-0a54-48a0-866c-a8ec198417be",
   "metadata": {},
   "source": [
    "# Allocations"
   ]
  },
  {
   "cell_type": "code",
   "execution_count": 83,
   "id": "a57254fc-325d-47dd-b4d1-915578b21398",
   "metadata": {},
   "outputs": [
    {
     "data": {
      "text/plain": [
       "ewp     0.003347\n",
       "rp     34.406684\n",
       "reg     0.012669\n",
       "dtype: float64"
      ]
     },
     "execution_count": 83,
     "metadata": {},
     "output_type": "execute_result"
    }
   ],
   "source": [
    "target = 0.01\n",
    "n_assets = len(data.columns)\n",
    "\n",
    "ewp_weight = 1/n_assets \n",
    "rp_weight = 1/data.var() \n",
    "regularized_weights = tangency_weights(data, scale_cov = 0.5) \n",
    "\n",
    "weights_df = pd.DataFrame() \n",
    "stocks = data.columns \n",
    "weights_df.index = stocks\n",
    "weights_df['ewp'] = ewp_weight\n",
    "weights_df['rp'] = rp_weight\n",
    "weights_df['reg'] = regularized_weights\n",
    "# rp_weight *= target / (data.mean() @ rp_weight)\n",
    "# ewp_weights.value = [ewp_weight * n_assets]\n",
    "# ewp_weights.index = stocks \n",
    "data.mean() @ weights_df"
   ]
  },
  {
   "cell_type": "code",
   "execution_count": 45,
   "id": "db765e1b-befb-4d3f-b71e-86af8e27b17d",
   "metadata": {},
   "outputs": [
    {
     "data": {
      "text/plain": [
       "0.0033474736069806976"
      ]
     },
     "execution_count": 45,
     "metadata": {},
     "output_type": "execute_result"
    }
   ],
   "source": [
    "er = data.mean()\n",
    "current_portfolio_return = np.dot(ewp_weight, er).sum()\n",
    "scaling_factor = target / current_portfolio_return\n",
    "adjusted_weights = weights * scaling_factor\n",
    "adjusted_weights = adjusted_weights / np.sum(adjusted_weights)\n",
    "\n",
    "# Display the adjusted weights\n",
    "print(adjusted_weights)\n"
   ]
  }
 ],
 "metadata": {
  "kernelspec": {
   "display_name": "Python 3 (ipykernel)",
   "language": "python",
   "name": "python3"
  },
  "language_info": {
   "codemirror_mode": {
    "name": "ipython",
    "version": 3
   },
   "file_extension": ".py",
   "mimetype": "text/x-python",
   "name": "python",
   "nbconvert_exporter": "python",
   "pygments_lexer": "ipython3",
   "version": "3.12.4"
  }
 },
 "nbformat": 4,
 "nbformat_minor": 5
}
