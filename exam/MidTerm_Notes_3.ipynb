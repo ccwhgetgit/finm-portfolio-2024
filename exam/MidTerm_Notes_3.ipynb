{
 "cells": [
  {
   "cell_type": "code",
   "execution_count": null,
   "id": "558b9e02-0312-46f7-8f62-9ced9524d843",
   "metadata": {},
   "outputs": [],
   "source": [
    "annualization_factor = 12 \n",
    "\n",
    "def time_series_regression(portfolio, factors, FF3F=False, resid=False):\n",
    "    # where ff3f = fama french 3 factor model \n",
    "    \n",
    "    ff_report = pd.DataFrame(index=portfolio.columns)\n",
    "    bm_residuals = pd.DataFrame(columns=portfolio.columns)\n",
    "\n",
    "    x = sm.add_constant(factors)\n",
    "    for portf in portfolio.columns:\n",
    "        y = portfolio[portf]\n",
    "        res = sm.OLS(y, x).fit()\n",
    "        ff_report.loc[portf, 'alpha'] = res.params['const'] * annualization_factor\n",
    "        ff_report.loc[portf, 'beta'] = res.params[1]\n",
    "        \n",
    "        if FF3F:\n",
    "            ff_report.loc[portf, 'Size beta'] = res.params[2]\n",
    "            ff_report.loc[portf, 'Value beta'] = res.params[3]\n",
    "\n",
    "        ff_report.loc[portf, 'info_ratio'] = np.sqrt(annualization_factor) * res.params['const'] / res.resid.std()\n",
    "        ff_report.loc[portf, 'treynor_ratio'] = annualization_factor * portfolio[portf].mean() / res.params[1]\n",
    "        ff_report.loc[portf, 'R-squared'] = res.rsquared\n",
    "        ff_report.loc[portf, 'Tracking Error'] = res.resid.std() * np.sqrt(annualization_factor)\n",
    "\n",
    "        # Calculate the MAE\n",
    "        mae = np.mean(np.abs(res.resid))\n",
    "        ff_report.loc[portf, 'MAE'] = mae\n",
    "\n",
    "        if resid:\n",
    "            bm_residuals[portf] = res.resid\n",
    "    if resid:\n",
    "        return bm_residuals\n",
    "    return ff_report"
   ]
  },
  {
   "cell_type": "code",
   "execution_count": null,
   "id": "adde4410-823f-4bca-a4d9-598446869c4d",
   "metadata": {},
   "outputs": [],
   "source": [
    "def plot_cum_returns(df: pd.DataFrame): \n",
    "    (df+1).cumprod().plot()\n",
    "    "
   ]
  }
 ],
 "metadata": {
  "kernelspec": {
   "display_name": "Python 3 (ipykernel)",
   "language": "python",
   "name": "python3"
  },
  "language_info": {
   "codemirror_mode": {
    "name": "ipython",
    "version": 3
   },
   "file_extension": ".py",
   "mimetype": "text/x-python",
   "name": "python",
   "nbconvert_exporter": "python",
   "pygments_lexer": "ipython3",
   "version": "3.11.5"
  }
 },
 "nbformat": 4,
 "nbformat_minor": 5
}
