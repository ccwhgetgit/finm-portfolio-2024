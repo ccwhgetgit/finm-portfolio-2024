{
 "cells": [
  {
   "cell_type": "markdown",
   "id": "e1dfc38a-56b8-4d51-a066-63cc062531ee",
   "metadata": {},
   "source": [
    "# Question 1"
   ]
  },
  {
   "cell_type": "markdown",
   "id": "286b3f6f-4474-466f-bdc0-8c874f33a411",
   "metadata": {},
   "source": [
    "1) HDG is ProShares' ETF that attempts to track MLFM-ES by including tradable assets and attemt to model after HFRI. \n",
    "\n",
    "\n",
    "2) Normal distribution way \n",
    "\n",
    "3) When TIPS was dropped from the portfolio, the tangency portfolio had a marginally better annualized sharpe ratio. However, it performed slightly worse with a lower annualized mean and higher volatility recorded.\n",
    "\n",
    "However, when we observe the cumulative returns of both portfolios, the one without TIPS had gained momentum from 2021 which can be largely due to the rise in interest rates. This is because TIPs are a direct protection to inflation and due to the rise in inflation, TIPS could have steadily grown in their expected returns. \n",
    "\n",
    "\n",
    "5) When there are many assets in the portfolio, MV optimization becomes highly unstable as the MV solution T requires us to invert the covariance matrix: $\\Sigma^{-1}$. The term is highly unstable for large number of securities, giving also a unstable result. With 1,000 securities, the estimation error of means, volatilities, and covariances produce impactful errors in allocation. The latter happens due to the high sensitivity to changes in input data. If the input data in the out-of-sample is slightly different from the in-sample, the out-of-sample optimal portfolio will have considerably different weights from the in-sample.\n",
    "\n",
    " Regularization penalizes"
   ]
  },
  {
   "cell_type": "code",
   "execution_count": 18,
   "id": "e08fb52e-dcb9-41d2-9e84-4cef373cea84",
   "metadata": {},
   "outputs": [],
   "source": [
    "import pandas as pd \n",
    "import numpy as np \n",
    "\n",
    "FILEIN = './midterm_1_data.xlsx'\n",
    "sheet_exrets = 'excess returns'\n",
    "sheet_spy = 'spy'\n",
    "retsx = pd.read_excel(FILEIN, sheet_name=sheet_exrets).set_index('date')\n",
    "spy = pd.read_excel(FILEIN, sheet_name=sheet_spy).set_index('date')"
   ]
  },
  {
   "cell_type": "code",
   "execution_count": 19,
   "id": "cbaf427f-a3fc-4a4c-bb37-d834fef8e7b8",
   "metadata": {},
   "outputs": [
    {
     "data": {
      "text/html": [
       "<div>\n",
       "<style scoped>\n",
       "    .dataframe tbody tr th:only-of-type {\n",
       "        vertical-align: middle;\n",
       "    }\n",
       "\n",
       "    .dataframe tbody tr th {\n",
       "        vertical-align: top;\n",
       "    }\n",
       "\n",
       "    .dataframe thead th {\n",
       "        text-align: right;\n",
       "    }\n",
       "</style>\n",
       "<table border=\"1\" class=\"dataframe\">\n",
       "  <thead>\n",
       "    <tr style=\"text-align: right;\">\n",
       "      <th></th>\n",
       "      <th>AAPL</th>\n",
       "      <th>MSFT</th>\n",
       "      <th>AMZN</th>\n",
       "      <th>NVDA</th>\n",
       "      <th>GOOGL</th>\n",
       "      <th>TSLA</th>\n",
       "      <th>XOM</th>\n",
       "    </tr>\n",
       "    <tr>\n",
       "      <th>date</th>\n",
       "      <th></th>\n",
       "      <th></th>\n",
       "      <th></th>\n",
       "      <th></th>\n",
       "      <th></th>\n",
       "      <th></th>\n",
       "      <th></th>\n",
       "    </tr>\n",
       "  </thead>\n",
       "  <tbody>\n",
       "    <tr>\n",
       "      <th>2016-01-15</th>\n",
       "      <td>-0.006077</td>\n",
       "      <td>-0.033445</td>\n",
       "      <td>-0.068591</td>\n",
       "      <td>-0.092883</td>\n",
       "      <td>-0.035777</td>\n",
       "      <td>-0.036346</td>\n",
       "      <td>0.030855</td>\n",
       "    </tr>\n",
       "    <tr>\n",
       "      <th>2016-01-22</th>\n",
       "      <td>0.045278</td>\n",
       "      <td>0.026605</td>\n",
       "      <td>0.047061</td>\n",
       "      <td>0.050539</td>\n",
       "      <td>0.050316</td>\n",
       "      <td>-0.010817</td>\n",
       "      <td>-0.011908</td>\n",
       "    </tr>\n",
       "    <tr>\n",
       "      <th>2016-01-29</th>\n",
       "      <td>-0.051720</td>\n",
       "      <td>0.042053</td>\n",
       "      <td>-0.027223</td>\n",
       "      <td>0.018024</td>\n",
       "      <td>0.009834</td>\n",
       "      <td>-0.067483</td>\n",
       "      <td>0.005221</td>\n",
       "    </tr>\n",
       "    <tr>\n",
       "      <th>2016-02-05</th>\n",
       "      <td>-0.036236</td>\n",
       "      <td>-0.096825</td>\n",
       "      <td>-0.151901</td>\n",
       "      <td>-0.104974</td>\n",
       "      <td>-0.082989</td>\n",
       "      <td>-0.156939</td>\n",
       "      <td>0.021309</td>\n",
       "    </tr>\n",
       "    <tr>\n",
       "      <th>2016-02-12</th>\n",
       "      <td>-0.007887</td>\n",
       "      <td>-0.000785</td>\n",
       "      <td>0.002275</td>\n",
       "      <td>-0.034052</td>\n",
       "      <td>-0.003101</td>\n",
       "      <td>-0.078688</td>\n",
       "      <td>0.013486</td>\n",
       "    </tr>\n",
       "  </tbody>\n",
       "</table>\n",
       "</div>"
      ],
      "text/plain": [
       "                AAPL      MSFT      AMZN      NVDA     GOOGL      TSLA  \\\n",
       "date                                                                     \n",
       "2016-01-15 -0.006077 -0.033445 -0.068591 -0.092883 -0.035777 -0.036346   \n",
       "2016-01-22  0.045278  0.026605  0.047061  0.050539  0.050316 -0.010817   \n",
       "2016-01-29 -0.051720  0.042053 -0.027223  0.018024  0.009834 -0.067483   \n",
       "2016-02-05 -0.036236 -0.096825 -0.151901 -0.104974 -0.082989 -0.156939   \n",
       "2016-02-12 -0.007887 -0.000785  0.002275 -0.034052 -0.003101 -0.078688   \n",
       "\n",
       "                 XOM  \n",
       "date                  \n",
       "2016-01-15  0.030855  \n",
       "2016-01-22 -0.011908  \n",
       "2016-01-29  0.005221  \n",
       "2016-02-05  0.021309  \n",
       "2016-02-12  0.013486  "
      ]
     },
     "execution_count": 19,
     "metadata": {},
     "output_type": "execute_result"
    }
   ],
   "source": [
    "retsx.head()"
   ]
  },
  {
   "cell_type": "code",
   "execution_count": 20,
   "id": "74159234-6621-4fc6-8cfc-4e5c0617f84a",
   "metadata": {},
   "outputs": [
    {
     "data": {
      "text/html": [
       "<div>\n",
       "<style scoped>\n",
       "    .dataframe tbody tr th:only-of-type {\n",
       "        vertical-align: middle;\n",
       "    }\n",
       "\n",
       "    .dataframe tbody tr th {\n",
       "        vertical-align: top;\n",
       "    }\n",
       "\n",
       "    .dataframe thead th {\n",
       "        text-align: right;\n",
       "    }\n",
       "</style>\n",
       "<table border=\"1\" class=\"dataframe\">\n",
       "  <thead>\n",
       "    <tr style=\"text-align: right;\">\n",
       "      <th></th>\n",
       "      <th>Annualized Return</th>\n",
       "      <th>Annualized Vol</th>\n",
       "      <th>Annualized SR</th>\n",
       "    </tr>\n",
       "  </thead>\n",
       "  <tbody>\n",
       "    <tr>\n",
       "      <th>AAPL</th>\n",
       "      <td>0.319421</td>\n",
       "      <td>0.283883</td>\n",
       "      <td>1.125183</td>\n",
       "    </tr>\n",
       "    <tr>\n",
       "      <th>MSFT</th>\n",
       "      <td>0.288087</td>\n",
       "      <td>0.240206</td>\n",
       "      <td>1.199334</td>\n",
       "    </tr>\n",
       "    <tr>\n",
       "      <th>AMZN</th>\n",
       "      <td>0.239457</td>\n",
       "      <td>0.310389</td>\n",
       "      <td>0.771474</td>\n",
       "    </tr>\n",
       "    <tr>\n",
       "      <th>NVDA</th>\n",
       "      <td>0.650658</td>\n",
       "      <td>0.468096</td>\n",
       "      <td>1.390011</td>\n",
       "    </tr>\n",
       "    <tr>\n",
       "      <th>GOOGL</th>\n",
       "      <td>0.193328</td>\n",
       "      <td>0.274217</td>\n",
       "      <td>0.705020</td>\n",
       "    </tr>\n",
       "    <tr>\n",
       "      <th>TSLA</th>\n",
       "      <td>0.569728</td>\n",
       "      <td>0.607026</td>\n",
       "      <td>0.938556</td>\n",
       "    </tr>\n",
       "    <tr>\n",
       "      <th>XOM</th>\n",
       "      <td>0.124196</td>\n",
       "      <td>0.311613</td>\n",
       "      <td>0.398557</td>\n",
       "    </tr>\n",
       "  </tbody>\n",
       "</table>\n",
       "</div>"
      ],
      "text/plain": [
       "       Annualized Return  Annualized Vol  Annualized SR\n",
       "AAPL            0.319421        0.283883       1.125183\n",
       "MSFT            0.288087        0.240206       1.199334\n",
       "AMZN            0.239457        0.310389       0.771474\n",
       "NVDA            0.650658        0.468096       1.390011\n",
       "GOOGL           0.193328        0.274217       0.705020\n",
       "TSLA            0.569728        0.607026       0.938556\n",
       "XOM             0.124196        0.311613       0.398557"
      ]
     },
     "execution_count": 20,
     "metadata": {},
     "output_type": "execute_result"
    }
   ],
   "source": [
    "annualization_factor= 52 # since this is weekly \n",
    "\n",
    "def portfolio_metrics_basic(returns: pd.DataFrame) -> pd.DataFrame: \n",
    "    '''\n",
    "    Returns Annualized ER, Vol, SR, \n",
    "    '''\n",
    "    \n",
    "    returns_df = pd.DataFrame(index = returns.columns) \n",
    "    mu = returns.mean() * annualization_factor\n",
    "    vol = returns.std() * np.sqrt(annualization_factor)\n",
    "    sr = mu / vol\n",
    "\n",
    "    \n",
    "    returns_df['Annualized Return'] = mu.values \n",
    "    returns_df['Annualized Vol'] = vol.values \n",
    "    returns_df['Annualized SR'] = sr.values\n",
    "    \n",
    "    return returns_df\n",
    "\n",
    "metrics = portfolio_metrics_basic(retsx)\n",
    "metrics"
   ]
  },
  {
   "cell_type": "code",
   "execution_count": 21,
   "id": "de6211fc-03d7-43f2-8961-12c0028b0605",
   "metadata": {},
   "outputs": [
    {
     "data": {
      "text/html": [
       "<div>\n",
       "<style scoped>\n",
       "    .dataframe tbody tr th:only-of-type {\n",
       "        vertical-align: middle;\n",
       "    }\n",
       "\n",
       "    .dataframe tbody tr th {\n",
       "        vertical-align: top;\n",
       "    }\n",
       "\n",
       "    .dataframe thead th {\n",
       "        text-align: right;\n",
       "    }\n",
       "</style>\n",
       "<table border=\"1\" class=\"dataframe\">\n",
       "  <thead>\n",
       "    <tr style=\"text-align: right;\">\n",
       "      <th></th>\n",
       "      <th>Annualized Return</th>\n",
       "      <th>Annualized Vol</th>\n",
       "      <th>Annualized SR</th>\n",
       "      <th>SR Rank</th>\n",
       "    </tr>\n",
       "  </thead>\n",
       "  <tbody>\n",
       "    <tr>\n",
       "      <th>AAPL</th>\n",
       "      <td>0.319421</td>\n",
       "      <td>0.283883</td>\n",
       "      <td>1.125183</td>\n",
       "      <td>3.0</td>\n",
       "    </tr>\n",
       "    <tr>\n",
       "      <th>MSFT</th>\n",
       "      <td>0.288087</td>\n",
       "      <td>0.240206</td>\n",
       "      <td>1.199334</td>\n",
       "      <td>2.0</td>\n",
       "    </tr>\n",
       "    <tr>\n",
       "      <th>AMZN</th>\n",
       "      <td>0.239457</td>\n",
       "      <td>0.310389</td>\n",
       "      <td>0.771474</td>\n",
       "      <td>5.0</td>\n",
       "    </tr>\n",
       "    <tr>\n",
       "      <th>NVDA</th>\n",
       "      <td>0.650658</td>\n",
       "      <td>0.468096</td>\n",
       "      <td>1.390011</td>\n",
       "      <td>1.0</td>\n",
       "    </tr>\n",
       "    <tr>\n",
       "      <th>GOOGL</th>\n",
       "      <td>0.193328</td>\n",
       "      <td>0.274217</td>\n",
       "      <td>0.705020</td>\n",
       "      <td>6.0</td>\n",
       "    </tr>\n",
       "    <tr>\n",
       "      <th>TSLA</th>\n",
       "      <td>0.569728</td>\n",
       "      <td>0.607026</td>\n",
       "      <td>0.938556</td>\n",
       "      <td>4.0</td>\n",
       "    </tr>\n",
       "    <tr>\n",
       "      <th>XOM</th>\n",
       "      <td>0.124196</td>\n",
       "      <td>0.311613</td>\n",
       "      <td>0.398557</td>\n",
       "      <td>7.0</td>\n",
       "    </tr>\n",
       "  </tbody>\n",
       "</table>\n",
       "</div>"
      ],
      "text/plain": [
       "       Annualized Return  Annualized Vol  Annualized SR  SR Rank\n",
       "AAPL            0.319421        0.283883       1.125183      3.0\n",
       "MSFT            0.288087        0.240206       1.199334      2.0\n",
       "AMZN            0.239457        0.310389       0.771474      5.0\n",
       "NVDA            0.650658        0.468096       1.390011      1.0\n",
       "GOOGL           0.193328        0.274217       0.705020      6.0\n",
       "TSLA            0.569728        0.607026       0.938556      4.0\n",
       "XOM             0.124196        0.311613       0.398557      7.0"
      ]
     },
     "execution_count": 21,
     "metadata": {},
     "output_type": "execute_result"
    }
   ],
   "source": [
    "metrics['SR Rank'] = metrics['Annualized SR'].rank(ascending=False)\n",
    "metrics"
   ]
  },
  {
   "cell_type": "markdown",
   "id": "d18857f3-0e82-490f-aaae-32f165d72232",
   "metadata": {},
   "source": [
    "Highest SR = NVDA, Lowest SR = XOM"
   ]
  },
  {
   "cell_type": "code",
   "execution_count": 23,
   "id": "db6e87d9-9f0b-461b-851b-dfe1912322de",
   "metadata": {},
   "outputs": [
    {
     "data": {
      "text/html": [
       "<div>\n",
       "<style scoped>\n",
       "    .dataframe tbody tr th:only-of-type {\n",
       "        vertical-align: middle;\n",
       "    }\n",
       "\n",
       "    .dataframe tbody tr th {\n",
       "        vertical-align: top;\n",
       "    }\n",
       "\n",
       "    .dataframe thead th {\n",
       "        text-align: right;\n",
       "    }\n",
       "</style>\n",
       "<table border=\"1\" class=\"dataframe\">\n",
       "  <thead>\n",
       "    <tr style=\"text-align: right;\">\n",
       "      <th></th>\n",
       "      <th>Tangency Weights</th>\n",
       "    </tr>\n",
       "  </thead>\n",
       "  <tbody>\n",
       "    <tr>\n",
       "      <th>AAPL</th>\n",
       "      <td>0.322605</td>\n",
       "    </tr>\n",
       "    <tr>\n",
       "      <th>MSFT</th>\n",
       "      <td>0.787496</td>\n",
       "    </tr>\n",
       "    <tr>\n",
       "      <th>AMZN</th>\n",
       "      <td>-0.228607</td>\n",
       "    </tr>\n",
       "    <tr>\n",
       "      <th>NVDA</th>\n",
       "      <td>0.495996</td>\n",
       "    </tr>\n",
       "    <tr>\n",
       "      <th>GOOGL</th>\n",
       "      <td>-0.502721</td>\n",
       "    </tr>\n",
       "    <tr>\n",
       "      <th>TSLA</th>\n",
       "      <td>0.105975</td>\n",
       "    </tr>\n",
       "    <tr>\n",
       "      <th>XOM</th>\n",
       "      <td>0.019257</td>\n",
       "    </tr>\n",
       "  </tbody>\n",
       "</table>\n",
       "</div>"
      ],
      "text/plain": [
       "       Tangency Weights\n",
       "AAPL           0.322605\n",
       "MSFT           0.787496\n",
       "AMZN          -0.228607\n",
       "NVDA           0.495996\n",
       "GOOGL         -0.502721\n",
       "TSLA           0.105975\n",
       "XOM            0.019257"
      ]
     },
     "execution_count": 23,
     "metadata": {},
     "output_type": "execute_result"
    }
   ],
   "source": [
    "# Tangency Portfolio \n",
    "\n",
    "def tangency_weights(returns,dropna=True,scale_cov=1, name = 'Tangency'):\n",
    "    if dropna:\n",
    "        returns = returns.dropna()\n",
    "\n",
    "    covmat_full = returns.cov()\n",
    "    covmat_diag = np.diag(np.diag(covmat_full))\n",
    "    covmat = scale_cov * covmat_full + (1-scale_cov) * covmat_diag\n",
    "\n",
    "    weights = np.linalg.solve(covmat,returns.mean())\n",
    "    weights = weights / weights.sum()\n",
    "    tangency_weights_df = pd.DataFrame(weights, index=returns.columns, columns=[f'{name} Weights'])\n",
    "\n",
    "    return tangency_weights_df\n",
    "    \n",
    "def portfolio_returns_calc(data, weights_df): \n",
    "    return pd.DataFrame(data @ (weights_df.values)) \n",
    "    \n",
    "tangency_weights_df = tangency_weights(retsx)\n",
    "portfolio_returns = portfolio_returns_calc(retsx, tangency_weights_df)\n",
    "\n",
    "tangency_weights_df"
   ]
  },
  {
   "cell_type": "code",
   "execution_count": 24,
   "id": "d2d59b74-fc4f-4d8a-be43-c7a674f3e707",
   "metadata": {},
   "outputs": [
    {
     "data": {
      "text/html": [
       "<div>\n",
       "<style scoped>\n",
       "    .dataframe tbody tr th:only-of-type {\n",
       "        vertical-align: middle;\n",
       "    }\n",
       "\n",
       "    .dataframe tbody tr th {\n",
       "        vertical-align: top;\n",
       "    }\n",
       "\n",
       "    .dataframe thead th {\n",
       "        text-align: right;\n",
       "    }\n",
       "</style>\n",
       "<table border=\"1\" class=\"dataframe\">\n",
       "  <thead>\n",
       "    <tr style=\"text-align: right;\">\n",
       "      <th></th>\n",
       "      <th>Annualized Return</th>\n",
       "      <th>Annualized Vol</th>\n",
       "      <th>Annualized SR</th>\n",
       "    </tr>\n",
       "  </thead>\n",
       "  <tbody>\n",
       "    <tr>\n",
       "      <th>0</th>\n",
       "      <td>0.563474</td>\n",
       "      <td>0.358351</td>\n",
       "      <td>1.572409</td>\n",
       "    </tr>\n",
       "  </tbody>\n",
       "</table>\n",
       "</div>"
      ],
      "text/plain": [
       "   Annualized Return  Annualized Vol  Annualized SR\n",
       "0           0.563474        0.358351       1.572409"
      ]
     },
     "execution_count": 24,
     "metadata": {},
     "output_type": "execute_result"
    }
   ],
   "source": [
    "metrics = portfolio_metrics_basic(portfolio_returns)\n",
    "metrics"
   ]
  },
  {
   "cell_type": "markdown",
   "id": "da10529c-8ae2-49a3-8887-a292d69bbb27",
   "metadata": {},
   "source": [
    "SR = 1.57. XOM had a weight of 1.93%. Asset with lowest weight had a sharpe ratio of 0.705. \n"
   ]
  },
  {
   "cell_type": "code",
   "execution_count": 26,
   "id": "012f2d7e-f966-4701-af15-ac6000cbd14c",
   "metadata": {},
   "outputs": [
    {
     "data": {
      "text/html": [
       "<div>\n",
       "<style scoped>\n",
       "    .dataframe tbody tr th:only-of-type {\n",
       "        vertical-align: middle;\n",
       "    }\n",
       "\n",
       "    .dataframe tbody tr th {\n",
       "        vertical-align: top;\n",
       "    }\n",
       "\n",
       "    .dataframe thead th {\n",
       "        text-align: right;\n",
       "    }\n",
       "</style>\n",
       "<table border=\"1\" class=\"dataframe\">\n",
       "  <thead>\n",
       "    <tr style=\"text-align: right;\">\n",
       "      <th></th>\n",
       "      <th>Regularized Weights</th>\n",
       "    </tr>\n",
       "  </thead>\n",
       "  <tbody>\n",
       "    <tr>\n",
       "      <th>AAPL</th>\n",
       "      <td>0.237267</td>\n",
       "    </tr>\n",
       "    <tr>\n",
       "      <th>MSFT</th>\n",
       "      <td>0.330835</td>\n",
       "    </tr>\n",
       "    <tr>\n",
       "      <th>AMZN</th>\n",
       "      <td>0.047178</td>\n",
       "    </tr>\n",
       "    <tr>\n",
       "      <th>NVDA</th>\n",
       "      <td>0.196774</td>\n",
       "    </tr>\n",
       "    <tr>\n",
       "      <th>GOOGL</th>\n",
       "      <td>0.011382</td>\n",
       "    </tr>\n",
       "  </tbody>\n",
       "</table>\n",
       "</div>"
      ],
      "text/plain": [
       "       Regularized Weights\n",
       "AAPL              0.237267\n",
       "MSFT              0.330835\n",
       "AMZN              0.047178\n",
       "NVDA              0.196774\n",
       "GOOGL             0.011382"
      ]
     },
     "execution_count": 26,
     "metadata": {},
     "output_type": "execute_result"
    }
   ],
   "source": [
    "data = retsx.loc[:'2022']\n",
    "oos_data = retsx.loc['2023':]\n",
    "\n",
    "def equal_weights(returns): \n",
    "    return pd.DataFrame(index = returns.columns, data = 1/len(returns.columns), columns = ['EWP Weights'])\n",
    "\n",
    "equal_weights_df = equal_weights(data)\n",
    "portfolio_ewp = portfolio_returns_calc(data, equal_weights_df)\n",
    "portfolio_ewp.columns = ['equal_weights']\n",
    "portfolio_ewp.head()\n",
    "\n",
    "tangency_weights_df = tangency_weights(data)\n",
    "portfolio_tan = portfolio_returns_calc(data, tangency_weights_df)\n",
    "portfolio_tan.columns = ['tan_weights']\n",
    "\n",
    "regularized_weights_df = tangency_weights(data, scale_cov=1/3, name = 'Regularized')\n",
    "portfolio_reg = portfolio_returns_calc(data, regularized_weights_df)\n",
    "portfolio_reg.columns = ['reg_weights']\n",
    "regularized_weights_df.head()"
   ]
  },
  {
   "cell_type": "code",
   "execution_count": 27,
   "id": "c8fb5a73-4aae-4784-a33d-2b7633be2a7d",
   "metadata": {},
   "outputs": [
    {
     "data": {
      "text/html": [
       "<div>\n",
       "<style scoped>\n",
       "    .dataframe tbody tr th:only-of-type {\n",
       "        vertical-align: middle;\n",
       "    }\n",
       "\n",
       "    .dataframe tbody tr th {\n",
       "        vertical-align: top;\n",
       "    }\n",
       "\n",
       "    .dataframe thead th {\n",
       "        text-align: right;\n",
       "    }\n",
       "</style>\n",
       "<table border=\"1\" class=\"dataframe\">\n",
       "  <thead>\n",
       "    <tr style=\"text-align: right;\">\n",
       "      <th></th>\n",
       "      <th>Annualized Return</th>\n",
       "      <th>Annualized Vol</th>\n",
       "      <th>Annualized SR</th>\n",
       "    </tr>\n",
       "  </thead>\n",
       "  <tbody>\n",
       "    <tr>\n",
       "      <th>tan</th>\n",
       "      <td>0.471913</td>\n",
       "      <td>0.331179</td>\n",
       "      <td>1.424947</td>\n",
       "    </tr>\n",
       "    <tr>\n",
       "      <th>equal</th>\n",
       "      <td>0.293432</td>\n",
       "      <td>0.260804</td>\n",
       "      <td>1.125106</td>\n",
       "    </tr>\n",
       "    <tr>\n",
       "      <th>reg</th>\n",
       "      <td>0.325593</td>\n",
       "      <td>0.260874</td>\n",
       "      <td>1.248085</td>\n",
       "    </tr>\n",
       "  </tbody>\n",
       "</table>\n",
       "</div>"
      ],
      "text/plain": [
       "       Annualized Return  Annualized Vol  Annualized SR\n",
       "tan             0.471913        0.331179       1.424947\n",
       "equal           0.293432        0.260804       1.125106\n",
       "reg             0.325593        0.260874       1.248085"
      ]
     },
     "execution_count": 27,
     "metadata": {},
     "output_type": "execute_result"
    }
   ],
   "source": [
    "portfolios = pd.concat([\n",
    "    portfolio_tan, \n",
    "    portfolio_ewp,\n",
    "    portfolio_reg\n",
    "], axis=1)\n",
    "portfolios.columns = [_.split('_')[0] for _ in portfolios.columns]\n",
    "portfolio_metrics_basic(portfolios)"
   ]
  },
  {
   "cell_type": "code",
   "execution_count": 28,
   "id": "a2bbf1c5-0098-4526-b5d0-5438a47e57f3",
   "metadata": {},
   "outputs": [
    {
     "data": {
      "text/html": [
       "<div>\n",
       "<style scoped>\n",
       "    .dataframe tbody tr th:only-of-type {\n",
       "        vertical-align: middle;\n",
       "    }\n",
       "\n",
       "    .dataframe tbody tr th {\n",
       "        vertical-align: top;\n",
       "    }\n",
       "\n",
       "    .dataframe thead th {\n",
       "        text-align: right;\n",
       "    }\n",
       "</style>\n",
       "<table border=\"1\" class=\"dataframe\">\n",
       "  <thead>\n",
       "    <tr style=\"text-align: right;\">\n",
       "      <th></th>\n",
       "      <th>GMV Weights</th>\n",
       "    </tr>\n",
       "  </thead>\n",
       "  <tbody>\n",
       "    <tr>\n",
       "      <th>AAPL</th>\n",
       "      <td>0.206231</td>\n",
       "    </tr>\n",
       "    <tr>\n",
       "      <th>MSFT</th>\n",
       "      <td>0.491250</td>\n",
       "    </tr>\n",
       "    <tr>\n",
       "      <th>AMZN</th>\n",
       "      <td>0.160866</td>\n",
       "    </tr>\n",
       "    <tr>\n",
       "      <th>NVDA</th>\n",
       "      <td>-0.119168</td>\n",
       "    </tr>\n",
       "    <tr>\n",
       "      <th>GOOGL</th>\n",
       "      <td>0.011378</td>\n",
       "    </tr>\n",
       "    <tr>\n",
       "      <th>TSLA</th>\n",
       "      <td>-0.046927</td>\n",
       "    </tr>\n",
       "    <tr>\n",
       "      <th>XOM</th>\n",
       "      <td>0.296369</td>\n",
       "    </tr>\n",
       "  </tbody>\n",
       "</table>\n",
       "</div>"
      ],
      "text/plain": [
       "       GMV Weights\n",
       "AAPL      0.206231\n",
       "MSFT      0.491250\n",
       "AMZN      0.160866\n",
       "NVDA     -0.119168\n",
       "GOOGL     0.011378\n",
       "TSLA     -0.046927\n",
       "XOM       0.296369"
      ]
     },
     "execution_count": 28,
     "metadata": {},
     "output_type": "execute_result"
    }
   ],
   "source": [
    "# GMV \n",
    "MU_TARGET = 0.005/100\n",
    "\n",
    "def gmv_weights(returns):\n",
    "    ones = np.ones(returns.columns.shape)\n",
    "    cov = returns.cov()* annualization_factor\n",
    "    cov_inv = np.linalg.inv(cov)\n",
    "    scaling = 1/(np.transpose(ones) @ cov_inv @ ones)\n",
    "    gmv_tot = scaling * cov_inv @ ones\n",
    "    gmv_weights_df = pd.DataFrame(gmv_tot, index=returns.columns, columns=['GMV Weights'])\n",
    "    return gmv_weights_df\n",
    "\n",
    "gmv_weights_df = gmv_weights(retsx)\n",
    "gmv_weights_df"
   ]
  },
  {
   "cell_type": "code",
   "execution_count": null,
   "id": "b99b3535-aba8-435a-8679-b9d3470013d5",
   "metadata": {},
   "outputs": [],
   "source": []
  },
  {
   "cell_type": "markdown",
   "id": "6958c9ae-20ea-49f1-9a00-42e76e5b8c55",
   "metadata": {},
   "source": [
    "# Q3"
   ]
  },
  {
   "cell_type": "code",
   "execution_count": 30,
   "id": "14e6bd06-f774-4d28-86fb-497fd8250a3e",
   "metadata": {},
   "outputs": [
    {
     "data": {
      "text/plain": [
       "(0.44145458268186166, 1.5273762473269983)"
      ]
     },
     "execution_count": 30,
     "metadata": {},
     "output_type": "execute_result"
    }
   ],
   "source": [
    "tsla = retsx['TSLA']\n",
    "\n",
    "def portfolio_metrics(returns: pd.Series) -> tuple: \n",
    "    '''\n",
    "    For each individual asset's returns \n",
    "    Information Ratio, Kurtosis, Skewness, vAr, cvar, max_dd\n",
    "    '''\n",
    "    \n",
    "    # skewness -> dimensionless data\n",
    "    \n",
    "    skewness = returns.skew()\n",
    "\n",
    "    # kurtosis-> dimensionless data\n",
    "    kurtosis = returns.kurtosis()\n",
    "    \n",
    "\n",
    "    # max_dd \n",
    "    cumulative = (returns + 1).cumprod()\n",
    "    max_cumulative = cumulative.expanding().max()\n",
    "    drawdown = cumulative / max_cumulative - 1\n",
    "    max_dd = drawdown.min()\n",
    "    peak_date = cumulative[:drawdown.idxmin()].idxmax().date()\n",
    "    trough_date = drawdown.idxmin().date()\n",
    "    recovery_date = cumulative[cumulative.index > drawdown.idxmin()].apply(lambda x: x >= max_cumulative[drawdown.idxmin()]).idxmax()\n",
    "\n",
    "    if pd.isna(recovery_date):\n",
    "        recovery_period = np.nan  # No recovery occurred\n",
    "    else:\n",
    "        recovery_date = recovery_date.date()\n",
    "        recovery_period = (recovery_date - trough_date).days\n",
    "\n",
    "\n",
    "    return skewness, kurtosis, max_dd, trough_date, peak_date, recovery_date, recovery_period\n",
    "\n",
    "\n",
    "s, k, max_dd_s, min_dates, peak_dates, recoveries, recovery_periods = portfolio_metrics(tsla)\n",
    "\n",
    "s, k"
   ]
  },
  {
   "cell_type": "code",
   "execution_count": 31,
   "id": "fbe59e4e-8482-4dc1-8a24-ed12b22dc79c",
   "metadata": {},
   "outputs": [
    {
     "data": {
      "text/plain": [
       "<Axes: >"
      ]
     },
     "execution_count": 31,
     "metadata": {},
     "output_type": "execute_result"
    },
    {
     "data": {
      "image/png": "[encoded data removed]",
      "text/plain": [
       "<Figure size 640x480 with 1 Axes>"
      ]
     },
     "metadata": {},
     "output_type": "display_data"
    }
   ],
   "source": [
    "tsla.hist()"
   ]
  },
  {
   "cell_type": "markdown",
   "id": "f7157e90-a416-4bf0-8e17-7c9d93f6f783",
   "metadata": {},
   "source": [
    "The returns are positively skewed. This indicates more big positive returns than negative returns.\n",
    "The returns are leptokurtic, such that it has heavier tails. This implies that outsized returns are more frequent than a normal distribution"
   ]
  },
  {
   "cell_type": "code",
   "execution_count": 33,
   "id": "7a9067af-ee62-4751-a507-6401998a6d86",
   "metadata": {},
   "outputs": [
    {
     "data": {
      "text/plain": [
       "-0.6821852296331565"
      ]
     },
     "execution_count": 33,
     "metadata": {},
     "output_type": "execute_result"
    }
   ],
   "source": [
    "max_dd_s"
   ]
  },
  {
   "cell_type": "code",
   "execution_count": 34,
   "id": "4d753b88-67ac-4f4b-ae3e-88d8d66131f6",
   "metadata": {},
   "outputs": [
    {
     "data": {
      "text/html": [
       "<div>\n",
       "<style scoped>\n",
       "    .dataframe tbody tr th:only-of-type {\n",
       "        vertical-align: middle;\n",
       "    }\n",
       "\n",
       "    .dataframe tbody tr th {\n",
       "        vertical-align: top;\n",
       "    }\n",
       "\n",
       "    .dataframe thead th {\n",
       "        text-align: right;\n",
       "    }\n",
       "</style>\n",
       "<table border=\"1\" class=\"dataframe\">\n",
       "  <thead>\n",
       "    <tr style=\"text-align: right;\">\n",
       "      <th></th>\n",
       "      <th>TSLA</th>\n",
       "      <th>SPY</th>\n",
       "    </tr>\n",
       "    <tr>\n",
       "      <th>Date</th>\n",
       "      <th></th>\n",
       "      <th></th>\n",
       "    </tr>\n",
       "  </thead>\n",
       "  <tbody>\n",
       "    <tr>\n",
       "      <th>2016-01-15</th>\n",
       "      <td>-0.036346</td>\n",
       "      <td>-0.021430</td>\n",
       "    </tr>\n",
       "    <tr>\n",
       "      <th>2016-01-22</th>\n",
       "      <td>-0.010817</td>\n",
       "      <td>0.014429</td>\n",
       "    </tr>\n",
       "    <tr>\n",
       "      <th>2016-01-29</th>\n",
       "      <td>-0.067483</td>\n",
       "      <td>0.016801</td>\n",
       "    </tr>\n",
       "    <tr>\n",
       "      <th>2016-02-05</th>\n",
       "      <td>-0.156939</td>\n",
       "      <td>-0.029789</td>\n",
       "    </tr>\n",
       "    <tr>\n",
       "      <th>2016-02-12</th>\n",
       "      <td>-0.078688</td>\n",
       "      <td>-0.007023</td>\n",
       "    </tr>\n",
       "    <tr>\n",
       "      <th>...</th>\n",
       "      <td>...</td>\n",
       "      <td>...</td>\n",
       "    </tr>\n",
       "    <tr>\n",
       "      <th>2023-06-16</th>\n",
       "      <td>0.066761</td>\n",
       "      <td>0.026036</td>\n",
       "    </tr>\n",
       "    <tr>\n",
       "      <th>2023-06-23</th>\n",
       "      <td>-0.017497</td>\n",
       "      <td>-0.014222</td>\n",
       "    </tr>\n",
       "    <tr>\n",
       "      <th>2023-06-30</th>\n",
       "      <td>0.025297</td>\n",
       "      <td>0.023245</td>\n",
       "    </tr>\n",
       "    <tr>\n",
       "      <th>2023-07-07</th>\n",
       "      <td>0.066815</td>\n",
       "      <td>-0.010670</td>\n",
       "    </tr>\n",
       "    <tr>\n",
       "      <th>2023-07-14</th>\n",
       "      <td>0.004816</td>\n",
       "      <td>0.024467</td>\n",
       "    </tr>\n",
       "  </tbody>\n",
       "</table>\n",
       "<p>392 rows × 2 columns</p>\n",
       "</div>"
      ],
      "text/plain": [
       "                TSLA       SPY\n",
       "Date                          \n",
       "2016-01-15 -0.036346 -0.021430\n",
       "2016-01-22 -0.010817  0.014429\n",
       "2016-01-29 -0.067483  0.016801\n",
       "2016-02-05 -0.156939 -0.029789\n",
       "2016-02-12 -0.078688 -0.007023\n",
       "...              ...       ...\n",
       "2023-06-16  0.066761  0.026036\n",
       "2023-06-23 -0.017497 -0.014222\n",
       "2023-06-30  0.025297  0.023245\n",
       "2023-07-07  0.066815 -0.010670\n",
       "2023-07-14  0.004816  0.024467\n",
       "\n",
       "[392 rows x 2 columns]"
      ]
     },
     "execution_count": 34,
     "metadata": {},
     "output_type": "execute_result"
    }
   ],
   "source": [
    "tsla\n",
    "\n",
    "# spy\n",
    "combined_data = pd.merge(tsla, spy, on = tsla.index).rename(columns = {'key_0':'Date'}).set_index('Date')\n",
    "\n",
    "combined_data"
   ]
  },
  {
   "cell_type": "markdown",
   "id": "89302f93-b8ff-4e23-8370-32d5fa5411a2",
   "metadata": {},
   "source": [
    "For TSLA, calculate the following metrics, relative to SPY:\n",
    "\n",
    "means TSLA: y variable, regress against x"
   ]
  },
  {
   "cell_type": "code",
   "execution_count": 36,
   "id": "6916788f-97af-4ac6-9c03-ec72a1e144ed",
   "metadata": {},
   "outputs": [
    {
     "data": {
      "text/plain": [
       "(1.7768245314443845,\n",
       " 0.3094703790703374,\n",
       " TSLA    1.642329\n",
       " SPY     1.003082\n",
       " dtype: float64)"
      ]
     },
     "execution_count": 36,
     "metadata": {},
     "output_type": "execute_result"
    }
   ],
   "source": [
    "import statsmodels.api as sm\n",
    "\n",
    "x_variable = 'SPY' \n",
    "y_variable = 'TSLA'\n",
    "\n",
    "def eval_performance(data, y_variable, x_variable: str):\n",
    "    y = data[y_variable]\n",
    "    x = sm.add_constant(data[x_variable])\n",
    "    \n",
    "    model = sm.OLS(y, x).fit()\n",
    "\n",
    "    # Betas need not be annualized \n",
    "    beta = model.params[x_variable] # beta term (can be seen as the optimal hedge ratio) \n",
    "    annualized_alpha = model.params['const'] * annualization_factor # alpha term\n",
    "    \n",
    "    residuals = model.resid \n",
    "    std_error = np.std(residuals, ddof=1)\n",
    "\n",
    "    annualized_return = data.mean() * annualization_factor \n",
    "    annualized_sortino_ratio = annualized_return / (data[data<0].std() * np.sqrt(annualization_factor))\n",
    "\n",
    "    return beta, annualized_alpha, annualized_sortino_ratio\n",
    "\n",
    "\n",
    "beta, alpha, annualized_sortino_ratio = eval_performance(combined_data, y_variable, x_variable)\n",
    "beta, alpha, annualized_sortino_ratio\n"
   ]
  },
  {
   "cell_type": "code",
   "execution_count": 37,
   "id": "6c64a9ee-72b7-46d2-b097-7341031a786b",
   "metadata": {},
   "outputs": [
    {
     "data": {
      "text/plain": [
       "-0.17217191106804966"
      ]
     },
     "execution_count": 37,
     "metadata": {},
     "output_type": "execute_result"
    }
   ],
   "source": [
    "from scipy.stats import norm\n",
    "\n",
    "# normal formula -> using the whole sample\n",
    "(-norm.pdf(1.65)  * tsla.std())/ 0.05\n"
   ]
  },
  {
   "cell_type": "code",
   "execution_count": 38,
   "id": "2c987bbf-871c-4ddf-9525-c46a519d39ab",
   "metadata": {},
   "outputs": [
    {
     "data": {
      "text/plain": [
       "date\n",
       "2017-01-13   -0.099884\n",
       "2017-01-20   -0.099711\n",
       "2017-01-27   -0.099878\n",
       "2017-02-03   -0.098615\n",
       "2017-02-10   -0.090954\n",
       "                ...   \n",
       "2023-06-16   -0.157886\n",
       "2023-06-23   -0.157712\n",
       "2023-06-30   -0.155459\n",
       "2023-07-07   -0.153663\n",
       "2023-07-14   -0.152046\n",
       "Name: TSLA, Length: 340, dtype: float64"
      ]
     },
     "execution_count": 38,
     "metadata": {},
     "output_type": "execute_result"
    }
   ],
   "source": [
    "var = -1.65 * tsla.rolling(52).std().shift(1) # not stated in teh qn\n",
    "var = var.dropna() \n",
    "var"
   ]
  },
  {
   "cell_type": "code",
   "execution_count": 39,
   "id": "0048d8e1-d854-44a4-9128-1e678bbda1fd",
   "metadata": {},
   "outputs": [
    {
     "data": {
      "text/plain": [
       "date\n",
       "2017-01-13   -0.099069\n",
       "2017-01-20   -0.099049\n",
       "2017-01-27   -0.099337\n",
       "2017-02-03   -0.098448\n",
       "2017-02-10   -0.091687\n",
       "                ...   \n",
       "2023-06-16   -0.156624\n",
       "2023-06-23   -0.156740\n",
       "2023-06-30   -0.154200\n",
       "2023-07-07   -0.152694\n",
       "2023-07-14   -0.150967\n",
       "Name: TSLA, Length: 340, dtype: float64"
      ]
     },
     "execution_count": 39,
     "metadata": {},
     "output_type": "execute_result"
    }
   ],
   "source": [
    "parametric_var = -1.65 * np.sqrt((tsla**2).rolling(52).mean().shift(1)).dropna()\n",
    "parametric_var\n",
    "\n",
    "# remember to drop na"
   ]
  },
  {
   "cell_type": "code",
   "execution_count": 62,
   "id": "8a793a5a-5809-4b27-844a-22f0071e60bf",
   "metadata": {},
   "outputs": [
    {
     "data": {
      "text/plain": [
       "(date\n",
       " 2017-01-13   -0.099884\n",
       " 2017-01-20   -0.099711\n",
       " 2017-01-27   -0.099878\n",
       " 2017-02-03   -0.098615\n",
       " 2017-02-10   -0.090954\n",
       " Name: TSLA, dtype: float64,\n",
       " date\n",
       " 2016-01-15   -0.036346\n",
       " 2016-01-22   -0.010817\n",
       " 2016-01-29   -0.067483\n",
       " 2016-02-05   -0.156939\n",
       " 2016-02-12   -0.078688\n",
       " Name: TSLA, dtype: float64)"
      ]
     },
     "execution_count": 62,
     "metadata": {},
     "output_type": "execute_result"
    }
   ],
   "source": [
    "var.head(), tsla.head()"
   ]
  },
  {
   "cell_type": "code",
   "execution_count": 40,
   "id": "c0ce70f8-63a9-4f97-b9e0-0b80f6cfa259",
   "metadata": {},
   "outputs": [
    {
     "data": {
      "text/plain": [
       "TSLA\n",
       "False    0.944118\n",
       "True     0.055882\n",
       "Name: proportion, dtype: float64"
      ]
     },
     "execution_count": 40,
     "metadata": {},
     "output_type": "execute_result"
    }
   ],
   "source": [
    "(tsla[var.index] < var).value_counts(normalize=True)"
   ]
  },
  {
   "cell_type": "code",
   "execution_count": 43,
   "id": "c8dde238-513a-4ff7-8fd1-529aba97b8c4",
   "metadata": {},
   "outputs": [
    {
     "data": {
      "text/plain": [
       "TSLA\n",
       "False    0.944118\n",
       "True     0.055882\n",
       "Name: proportion, dtype: float64"
      ]
     },
     "execution_count": 43,
     "metadata": {},
     "output_type": "execute_result"
    }
   ],
   "source": [
    "(tsla[parametric_var.index] < parametric_var).value_counts(normalize=True)"
   ]
  },
  {
   "cell_type": "markdown",
   "id": "174d31b1-63f5-4a5a-b99d-6db7332d20e6",
   "metadata": {},
   "source": [
    "# Q4: hedging"
   ]
  },
  {
   "cell_type": "code",
   "execution_count": 117,
   "id": "631a1a0f-ded7-49d5-9b0a-95c52380c224",
   "metadata": {},
   "outputs": [
    {
     "name": "stderr",
     "output_type": "stream",
     "text": [
      "/var/folders/qq/h84pzsw93xbd60q11ssc5v640000gn/T/ipykernel_8114/3996829784.py:18: FutureWarning: Series.__getitem__ treating keys as positions is deprecated. In a future version, integer keys will always be treated as labels (consistent with DataFrame behavior). To access a value by position, use `ser.iloc[pos]`\n",
      "  alpha_model_alpha = model_alpha.params[0]\n"
     ]
    },
    {
     "data": {
      "text/html": [
       "<div>\n",
       "<style scoped>\n",
       "    .dataframe tbody tr th:only-of-type {\n",
       "        vertical-align: middle;\n",
       "    }\n",
       "\n",
       "    .dataframe tbody tr th {\n",
       "        vertical-align: top;\n",
       "    }\n",
       "\n",
       "    .dataframe thead th {\n",
       "        text-align: right;\n",
       "    }\n",
       "</style>\n",
       "<table border=\"1\" class=\"dataframe\">\n",
       "  <thead>\n",
       "    <tr style=\"text-align: right;\">\n",
       "      <th></th>\n",
       "      <th>With Intercept</th>\n",
       "    </tr>\n",
       "  </thead>\n",
       "  <tbody>\n",
       "    <tr>\n",
       "      <th>Alpha</th>\n",
       "      <td>0.005264</td>\n",
       "    </tr>\n",
       "    <tr>\n",
       "      <th>R-Squared</th>\n",
       "      <td>0.458168</td>\n",
       "    </tr>\n",
       "    <tr>\n",
       "      <th>AAPL</th>\n",
       "      <td>0.341686</td>\n",
       "    </tr>\n",
       "    <tr>\n",
       "      <th>AMZN</th>\n",
       "      <td>0.417260</td>\n",
       "    </tr>\n",
       "    <tr>\n",
       "      <th>GOOGL</th>\n",
       "      <td>-0.007848</td>\n",
       "    </tr>\n",
       "    <tr>\n",
       "      <th>MSFT</th>\n",
       "      <td>0.587897</td>\n",
       "    </tr>\n",
       "    <tr>\n",
       "      <th>Tracking Error</th>\n",
       "      <td>0.344562</td>\n",
       "    </tr>\n",
       "  </tbody>\n",
       "</table>\n",
       "</div>"
      ],
      "text/plain": [
       "                With Intercept\n",
       "Alpha                 0.005264\n",
       "R-Squared             0.458168\n",
       "AAPL                  0.341686\n",
       "AMZN                  0.417260\n",
       "GOOGL                -0.007848\n",
       "MSFT                  0.587897\n",
       "Tracking Error        0.344562"
      ]
     },
     "execution_count": 117,
     "metadata": {},
     "output_type": "execute_result"
    }
   ],
   "source": [
    "y = 'NVDA' \n",
    "l = ['AAPL', 'AMZN', 'GOOGL', 'MSFT']\n",
    "x = [i for i in l if i != y]\n",
    "\n",
    "\n",
    "\n",
    "def get_params(data, y_col: str, x_col: list):\n",
    "    columns = ['Alpha', 'R-Squared'] + x_col + ['Tracking Error']\n",
    "    params_df = pd.DataFrame(index=columns)\n",
    "    \n",
    "    y = data[y_col]\n",
    "    x = data[x_col]\n",
    "    \n",
    "    x = sm.add_constant(x)\n",
    "    model_alpha = sm.OLS(y, x).fit()\n",
    "    r_squared_model_alpha = model_alpha.rsquared\n",
    "    betas_model_alpha = model_alpha.params[1:]\n",
    "    alpha_model_alpha = model_alpha.params[0]\n",
    "    p_values_model_alpha = model_alpha.pvalues\n",
    "    \n",
    "    tracking_error_alpha = (model_alpha.resid).std()*np.sqrt(annualization_factor)\n",
    "    \n",
    "    parameters = [alpha_model_alpha] + [r_squared_model_alpha] + list(betas_model_alpha) + [tracking_error_alpha]\n",
    "    params_df['With Intercept'] = parameters\n",
    "\n",
    "    return params_df \n",
    "\n",
    "\n",
    "# summary['Sortino Ratio'] = summary['Fitted Mean'] / y[y < 0].std()    # \n",
    "# summary['Annualized Sortino Ratio'] = summary['Sortino Ratio'] * np.sqrt(annual_factor)\n",
    "\n",
    "\n",
    "params_df = get_params(retsx, y, x)\n",
    "\n",
    "params_df\n",
    "\n"
   ]
  },
  {
   "cell_type": "code",
   "execution_count": 118,
   "id": "56ee0a4b-919f-46c3-86ad-760c45e70932",
   "metadata": {},
   "outputs": [
    {
     "data": {
      "text/plain": [
       "AAPL    -3.416865e+07\n",
       "AMZN    -4.172599e+07\n",
       "GOOGL    7.847952e+05\n",
       "MSFT    -5.878967e+07\n",
       "Name: With Intercept, dtype: float64"
      ]
     },
     "execution_count": 118,
     "metadata": {},
     "output_type": "execute_result"
    }
   ],
   "source": [
    "params = params_df.iloc[params_df.index.isin(x)]['With Intercept'] * 100*10**6 * (-1)\n",
    "params"
   ]
  },
  {
   "cell_type": "markdown",
   "id": "4acde496-0c91-483c-a39c-b291f71e9ea6",
   "metadata": {},
   "source": [
    "The hedge does marginally well with up to 46% of the time based on the R**2 value. \n",
    "\n",
    "Tracking error is 0.344562. (volatility of the basis)"
   ]
  },
  {
   "cell_type": "code",
   "execution_count": 120,
   "id": "07d5f9c5-dab6-4775-9d58-5dc160688065",
   "metadata": {},
   "outputs": [
    {
     "data": {
      "text/plain": [
       "0.27372799999999997"
      ]
     },
     "execution_count": 120,
     "metadata": {},
     "output_type": "execute_result"
    }
   ],
   "source": [
    "annualized_alpha = 0.005264 * annualization_factor\n",
    "annualized_alpha"
   ]
  },
  {
   "cell_type": "markdown",
   "id": "88d275ed-521a-41a5-b550-1ab43c0e0a5d",
   "metadata": {},
   "source": [
    "The intercept is 0.25. The factors do not perfectly hedge out nvda as nvda had an additional outperformance not explained for by the other tech stocks. the nature of returns of NVDA is far superior than the others. "
   ]
  }
 ],
 "metadata": {
  "kernelspec": {
   "display_name": "Python 3 (ipykernel)",
   "language": "python",
   "name": "python3"
  },
  "language_info": {
   "codemirror_mode": {
    "name": "ipython",
    "version": 3
   },
   "file_extension": ".py",
   "mimetype": "text/x-python",
   "name": "python",
   "nbconvert_exporter": "python",
   "pygments_lexer": "ipython3",
   "version": "3.12.4"
  }
 },
 "nbformat": 4,
 "nbformat_minor": 5
}
