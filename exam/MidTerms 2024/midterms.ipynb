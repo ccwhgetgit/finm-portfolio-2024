{
 "cells": [
  {
   "cell_type": "code",
   "execution_count": 1,
   "id": "37127d8d-38c7-425b-9808-e05e9b56d23e",
   "metadata": {},
   "outputs": [],
   "source": [
    "import pandas as pd\n",
    "import numpy as np\n",
    "import seaborn as sns\n",
    "import statsmodels.api as sm\n",
    "import scipy.stats as stats\n",
    "import warnings\n",
    "warnings.filterwarnings(\"ignore\")\n",
    "\n",
    "import sys\n",
    "\n",
    "\n",
    "annualization_factor = 12 "
   ]
  },
  {
   "cell_type": "markdown",
   "id": "5b8a8646-2f19-4e06-9475-b3093f0eef84",
   "metadata": {},
   "source": [
    "# Q1"
   ]
  },
  {
   "cell_type": "markdown",
   "id": "9d1f16ec-688b-4ec0-8aec-1247674c8712",
   "metadata": {},
   "source": [
    "#### Q1"
   ]
  },
  {
   "cell_type": "markdown",
   "id": "77098146-e96a-4d7b-9c07-d010c5f82893",
   "metadata": {},
   "source": [
    "### Scenario 1: TIPs has no correlation to either rasset.\n",
    "- Given that TIPs offered high yield and inflation protection, they offer significant diversification benefits which is useful in a MV optimization. Since the asset would reduce the overall portfolio risk without including any correlated risks, it is likely that it would be given a higher weight in the portfolio especially since it offers a higher expected mean return of 4% (compared to 0.14% on average in the case)\n",
    "- The addition of TIPs will thus potentially improve the sharpe ratio of the portfolio.\n",
    "\n",
    "\n",
    "### Scenario 2: TIPs has 100% correlation to IEF\n",
    "- This means that TIPS will not offer any diversification benefit and TIPS and IEF would have the same risk profile. In a MV framework, this would like cause TIPS to be entirely excluded.\n",
    "\n",
    "\n",
    "TIPS is unlikely to have 0% correlation to every other asset in the portfolio since it inherits characteristics of a bond and fixed income instrument. In fact, this means that they will be sensitive to interest rates and monetary policies which will thus exhibit some level of correlation with IEF and even equities. "
   ]
  },
  {
   "cell_type": "markdown",
   "id": "03b7e2b2-6813-4627-a0ab-7e7a1daa89ea",
   "metadata": {},
   "source": [
    "#### Q2"
   ]
  },
  {
   "cell_type": "markdown",
   "id": "316cf885-e329-46ed-b79c-8f21871ec692",
   "metadata": {},
   "source": [
    "The alpha intercept term represents the non-factor component that cannot be explained by the factors used in the model. It can be useful in these cases: \n",
    "\n",
    "- Alpha capturing hedge funds would want to determine whether an asset has excess returns that are not explained by the systematic factors in the model and thus this will be usually included. For instance, the hedge fund would want to highlight its superior management skills. Alternatively, the Fama French Model and CAPM may want to highlight abnormal returns which could indicate mispricings and inefficiencies in the market.\n",
    "- When an asset is benchmarked to its factors, the intercept can reveal whether the asset ouperformed or underperformed.\n",
    "- The intercept also helps to adjust for the mean difference in residuals to ensure a better fit of the data for the factors, as reflected in their betas.\n",
    "\n",
    "However, when should one exclude it? \n",
    "- When replicating or tracking an index through the factor exposures, the intercept may be excluded as these alpha returns cannot be captured by the index. In fact, the dependent variable should be assumed to be fully explained by the factors in the model, thus the intercept should be 0.\n",
    "- As for hedge funds, if they are looking to hedge solely based on the risk factors, they can choose to exclude the intercept and focus on them. "
   ]
  },
  {
   "cell_type": "markdown",
   "id": "be7e129b-cb29-4ad9-8a14-541d3ee70d50",
   "metadata": {},
   "source": [
    "# Q2"
   ]
  },
  {
   "cell_type": "code",
   "execution_count": 8,
   "id": "a01fa74d-e6c3-4dd6-8453-4e6b38c1471e",
   "metadata": {},
   "outputs": [
    {
     "data": {
      "text/html": [
       "<div>\n",
       "<style scoped>\n",
       "    .dataframe tbody tr th:only-of-type {\n",
       "        vertical-align: middle;\n",
       "    }\n",
       "\n",
       "    .dataframe tbody tr th {\n",
       "        vertical-align: top;\n",
       "    }\n",
       "\n",
       "    .dataframe thead th {\n",
       "        text-align: right;\n",
       "    }\n",
       "</style>\n",
       "<table border=\"1\" class=\"dataframe\">\n",
       "  <thead>\n",
       "    <tr style=\"text-align: right;\">\n",
       "      <th></th>\n",
       "      <th>AAPL</th>\n",
       "      <th>AMZN</th>\n",
       "      <th>BRK-B</th>\n",
       "      <th>GOOGL</th>\n",
       "      <th>JNJ</th>\n",
       "      <th>JPM</th>\n",
       "      <th>LLY</th>\n",
       "      <th>META</th>\n",
       "      <th>MSFT</th>\n",
       "      <th>NVDA</th>\n",
       "      <th>TSLA</th>\n",
       "      <th>UNH</th>\n",
       "      <th>V</th>\n",
       "      <th>XOM</th>\n",
       "    </tr>\n",
       "    <tr>\n",
       "      <th>date</th>\n",
       "      <th></th>\n",
       "      <th></th>\n",
       "      <th></th>\n",
       "      <th></th>\n",
       "      <th></th>\n",
       "      <th></th>\n",
       "      <th></th>\n",
       "      <th></th>\n",
       "      <th></th>\n",
       "      <th></th>\n",
       "      <th></th>\n",
       "      <th></th>\n",
       "      <th></th>\n",
       "      <th></th>\n",
       "    </tr>\n",
       "  </thead>\n",
       "  <tbody>\n",
       "    <tr>\n",
       "      <th>2012-06-30</th>\n",
       "      <td>0.010943</td>\n",
       "      <td>0.072609</td>\n",
       "      <td>0.050116</td>\n",
       "      <td>-0.001270</td>\n",
       "      <td>0.082263</td>\n",
       "      <td>0.077918</td>\n",
       "      <td>0.047953</td>\n",
       "      <td>0.050766</td>\n",
       "      <td>0.048052</td>\n",
       "      <td>0.111916</td>\n",
       "      <td>0.060768</td>\n",
       "      <td>0.052919</td>\n",
       "      <td>0.073267</td>\n",
       "      <td>0.088352</td>\n",
       "    </tr>\n",
       "    <tr>\n",
       "      <th>2012-07-31</th>\n",
       "      <td>0.045822</td>\n",
       "      <td>0.021677</td>\n",
       "      <td>0.018121</td>\n",
       "      <td>0.091196</td>\n",
       "      <td>0.024570</td>\n",
       "      <td>0.015958</td>\n",
       "      <td>0.026101</td>\n",
       "      <td>-0.301929</td>\n",
       "      <td>-0.036613</td>\n",
       "      <td>-0.020260</td>\n",
       "      <td>-0.123682</td>\n",
       "      <td>-0.126667</td>\n",
       "      <td>0.044002</td>\n",
       "      <td>0.014958</td>\n",
       "    </tr>\n",
       "    <tr>\n",
       "      <th>2012-08-31</th>\n",
       "      <td>0.093695</td>\n",
       "      <td>0.063985</td>\n",
       "      <td>-0.006075</td>\n",
       "      <td>0.082161</td>\n",
       "      <td>-0.017188</td>\n",
       "      <td>0.031486</td>\n",
       "      <td>0.031399</td>\n",
       "      <td>-0.168306</td>\n",
       "      <td>0.052556</td>\n",
       "      <td>0.036008</td>\n",
       "      <td>0.039935</td>\n",
       "      <td>0.062649</td>\n",
       "      <td>-0.004849</td>\n",
       "      <td>0.011533</td>\n",
       "    </tr>\n",
       "    <tr>\n",
       "      <th>2012-09-30</th>\n",
       "      <td>0.002878</td>\n",
       "      <td>0.024450</td>\n",
       "      <td>0.045849</td>\n",
       "      <td>0.101397</td>\n",
       "      <td>0.022030</td>\n",
       "      <td>0.090012</td>\n",
       "      <td>0.055749</td>\n",
       "      <td>0.199417</td>\n",
       "      <td>-0.034312</td>\n",
       "      <td>-0.049099</td>\n",
       "      <td>0.026730</td>\n",
       "      <td>0.024657</td>\n",
       "      <td>0.047099</td>\n",
       "      <td>0.047619</td>\n",
       "    </tr>\n",
       "    <tr>\n",
       "      <th>2012-10-31</th>\n",
       "      <td>-0.107527</td>\n",
       "      <td>-0.084192</td>\n",
       "      <td>-0.020903</td>\n",
       "      <td>-0.098271</td>\n",
       "      <td>0.027789</td>\n",
       "      <td>0.037321</td>\n",
       "      <td>0.025805</td>\n",
       "      <td>-0.025320</td>\n",
       "      <td>-0.040922</td>\n",
       "      <td>-0.101877</td>\n",
       "      <td>-0.039204</td>\n",
       "      <td>0.010720</td>\n",
       "      <td>0.033436</td>\n",
       "      <td>-0.002989</td>\n",
       "    </tr>\n",
       "  </tbody>\n",
       "</table>\n",
       "</div>"
      ],
      "text/plain": [
       "                AAPL      AMZN     BRK-B     GOOGL       JNJ       JPM  \\\n",
       "date                                                                     \n",
       "2012-06-30  0.010943  0.072609  0.050116 -0.001270  0.082263  0.077918   \n",
       "2012-07-31  0.045822  0.021677  0.018121  0.091196  0.024570  0.015958   \n",
       "2012-08-31  0.093695  0.063985 -0.006075  0.082161 -0.017188  0.031486   \n",
       "2012-09-30  0.002878  0.024450  0.045849  0.101397  0.022030  0.090012   \n",
       "2012-10-31 -0.107527 -0.084192 -0.020903 -0.098271  0.027789  0.037321   \n",
       "\n",
       "                 LLY      META      MSFT      NVDA      TSLA       UNH  \\\n",
       "date                                                                     \n",
       "2012-06-30  0.047953  0.050766  0.048052  0.111916  0.060768  0.052919   \n",
       "2012-07-31  0.026101 -0.301929 -0.036613 -0.020260 -0.123682 -0.126667   \n",
       "2012-08-31  0.031399 -0.168306  0.052556  0.036008  0.039935  0.062649   \n",
       "2012-09-30  0.055749  0.199417 -0.034312 -0.049099  0.026730  0.024657   \n",
       "2012-10-31  0.025805 -0.025320 -0.040922 -0.101877 -0.039204  0.010720   \n",
       "\n",
       "                   V       XOM  \n",
       "date                            \n",
       "2012-06-30  0.073267  0.088352  \n",
       "2012-07-31  0.044002  0.014958  \n",
       "2012-08-31 -0.004849  0.011533  \n",
       "2012-09-30  0.047099  0.047619  \n",
       "2012-10-31  0.033436 -0.002989  "
      ]
     },
     "execution_count": 8,
     "metadata": {},
     "output_type": "execute_result"
    }
   ],
   "source": [
    "df = pd.read_excel(\"./midterm_1_data.xlsx\", sheet_name = 'stocks excess returns')\n",
    "df = df.set_index('date')\n",
    "df.head()"
   ]
  },
  {
   "cell_type": "markdown",
   "id": "dd30a942-f3f7-4895-89ae-bf8739f45b1a",
   "metadata": {},
   "source": [
    "#### Q1"
   ]
  },
  {
   "cell_type": "code",
   "execution_count": 10,
   "id": "071f8f82-0d83-4457-a163-40d706e28227",
   "metadata": {},
   "outputs": [],
   "source": [
    "is_data = df.loc[:'2018']\n",
    "os_data = df.loc['2019':]\n",
    "# is_data.tail()\n",
    "# os_data.head()"
   ]
  },
  {
   "cell_type": "code",
   "execution_count": 11,
   "id": "4f495fda-6136-4a05-b20b-c03c05ed837d",
   "metadata": {},
   "outputs": [
    {
     "data": {
      "text/html": [
       "<div>\n",
       "<style scoped>\n",
       "    .dataframe tbody tr th:only-of-type {\n",
       "        vertical-align: middle;\n",
       "    }\n",
       "\n",
       "    .dataframe tbody tr th {\n",
       "        vertical-align: top;\n",
       "    }\n",
       "\n",
       "    .dataframe thead th {\n",
       "        text-align: right;\n",
       "    }\n",
       "</style>\n",
       "<table border=\"1\" class=\"dataframe\">\n",
       "  <thead>\n",
       "    <tr style=\"text-align: right;\">\n",
       "      <th></th>\n",
       "      <th>Tangency Weights</th>\n",
       "    </tr>\n",
       "  </thead>\n",
       "  <tbody>\n",
       "    <tr>\n",
       "      <th>AAPL</th>\n",
       "      <td>-0.127836</td>\n",
       "    </tr>\n",
       "    <tr>\n",
       "      <th>AMZN</th>\n",
       "      <td>-0.040576</td>\n",
       "    </tr>\n",
       "    <tr>\n",
       "      <th>BRK-B</th>\n",
       "      <td>0.131333</td>\n",
       "    </tr>\n",
       "    <tr>\n",
       "      <th>GOOGL</th>\n",
       "      <td>0.025968</td>\n",
       "    </tr>\n",
       "    <tr>\n",
       "      <th>JNJ</th>\n",
       "      <td>0.130408</td>\n",
       "    </tr>\n",
       "    <tr>\n",
       "      <th>JPM</th>\n",
       "      <td>-0.013929</td>\n",
       "    </tr>\n",
       "    <tr>\n",
       "      <th>LLY</th>\n",
       "      <td>0.352670</td>\n",
       "    </tr>\n",
       "    <tr>\n",
       "      <th>META</th>\n",
       "      <td>0.030541</td>\n",
       "    </tr>\n",
       "    <tr>\n",
       "      <th>MSFT</th>\n",
       "      <td>0.137917</td>\n",
       "    </tr>\n",
       "    <tr>\n",
       "      <th>NVDA</th>\n",
       "      <td>0.163501</td>\n",
       "    </tr>\n",
       "    <tr>\n",
       "      <th>TSLA</th>\n",
       "      <td>0.030066</td>\n",
       "    </tr>\n",
       "    <tr>\n",
       "      <th>UNH</th>\n",
       "      <td>0.290230</td>\n",
       "    </tr>\n",
       "    <tr>\n",
       "      <th>V</th>\n",
       "      <td>0.306209</td>\n",
       "    </tr>\n",
       "    <tr>\n",
       "      <th>XOM</th>\n",
       "      <td>-0.416502</td>\n",
       "    </tr>\n",
       "  </tbody>\n",
       "</table>\n",
       "</div>"
      ],
      "text/plain": [
       "       Tangency Weights\n",
       "AAPL          -0.127836\n",
       "AMZN          -0.040576\n",
       "BRK-B          0.131333\n",
       "GOOGL          0.025968\n",
       "JNJ            0.130408\n",
       "JPM           -0.013929\n",
       "LLY            0.352670\n",
       "META           0.030541\n",
       "MSFT           0.137917\n",
       "NVDA           0.163501\n",
       "TSLA           0.030066\n",
       "UNH            0.290230\n",
       "V              0.306209\n",
       "XOM           -0.416502"
      ]
     },
     "execution_count": 11,
     "metadata": {},
     "output_type": "execute_result"
    }
   ],
   "source": [
    "def portfolio_metrics_basic(returns: pd.DataFrame) -> pd.DataFrame: \n",
    "    '''\n",
    "    Returns Annualized ER, Vol, SR, \n",
    "    '''\n",
    "    \n",
    "    returns_df = pd.DataFrame(index = returns.columns) \n",
    "    mu = returns.mean() * annualization_factor\n",
    "    vol = returns.std() * np.sqrt(annualization_factor)\n",
    "    sr = mu / vol\n",
    "\n",
    "    \n",
    "    returns_df['Annnualized Return'] = mu.values \n",
    "    returns_df['Annnualized Vol'] = vol.values \n",
    "    returns_df['Annnualized SR'] = sr.values\n",
    "    \n",
    "    return returns_df\n",
    "\n",
    "def tangency_weights(returns,dropna=True,scale_cov=1, name = 'Tangency'):\n",
    "    if dropna:\n",
    "        returns = returns.dropna()\n",
    "\n",
    "    covmat_full = returns.cov()\n",
    "    covmat_diag = np.diag(np.diag(covmat_full))\n",
    "    covmat = scale_cov * covmat_full + (1-scale_cov) * covmat_diag\n",
    "\n",
    "    weights = np.linalg.solve(covmat,returns.mean())\n",
    "    weights = weights / weights.sum()\n",
    "    tangency_weights_df = pd.DataFrame(weights, index=returns.columns, columns=[f'{name} Weights'])\n",
    "\n",
    "    return tangency_weights_df\n",
    "\n",
    "def portfolio_returns_calc(data, weights_df): \n",
    "    return pd.DataFrame(data @ (weights_df.values)) \n",
    "\n",
    "tangency_weights_df = tangency_weights(is_data)\n",
    "portfolio_tangency = portfolio_returns_calc(is_data, tangency_weights_df)\n",
    "portfolio_tangency.columns = ['tangency_weights']\n",
    "tangency_weights_df"
   ]
  },
  {
   "cell_type": "code",
   "execution_count": 12,
   "id": "63bafd78-8c6e-474b-a228-d78c2e3c31c4",
   "metadata": {},
   "outputs": [
    {
     "data": {
      "text/html": [
       "<div>\n",
       "<style scoped>\n",
       "    .dataframe tbody tr th:only-of-type {\n",
       "        vertical-align: middle;\n",
       "    }\n",
       "\n",
       "    .dataframe tbody tr th {\n",
       "        vertical-align: top;\n",
       "    }\n",
       "\n",
       "    .dataframe thead th {\n",
       "        text-align: right;\n",
       "    }\n",
       "</style>\n",
       "<table border=\"1\" class=\"dataframe\">\n",
       "  <thead>\n",
       "    <tr style=\"text-align: right;\">\n",
       "      <th></th>\n",
       "      <th>Regularized Weights</th>\n",
       "    </tr>\n",
       "  </thead>\n",
       "  <tbody>\n",
       "    <tr>\n",
       "      <th>AAPL</th>\n",
       "      <td>-0.014706</td>\n",
       "    </tr>\n",
       "    <tr>\n",
       "      <th>AMZN</th>\n",
       "      <td>0.036310</td>\n",
       "    </tr>\n",
       "    <tr>\n",
       "      <th>BRK-B</th>\n",
       "      <td>0.109162</td>\n",
       "    </tr>\n",
       "    <tr>\n",
       "      <th>GOOGL</th>\n",
       "      <td>0.050545</td>\n",
       "    </tr>\n",
       "    <tr>\n",
       "      <th>JNJ</th>\n",
       "      <td>0.099190</td>\n",
       "    </tr>\n",
       "    <tr>\n",
       "      <th>JPM</th>\n",
       "      <td>0.053691</td>\n",
       "    </tr>\n",
       "    <tr>\n",
       "      <th>LLY</th>\n",
       "      <td>0.214949</td>\n",
       "    </tr>\n",
       "    <tr>\n",
       "      <th>META</th>\n",
       "      <td>0.034896</td>\n",
       "    </tr>\n",
       "    <tr>\n",
       "      <th>MSFT</th>\n",
       "      <td>0.089970</td>\n",
       "    </tr>\n",
       "    <tr>\n",
       "      <th>NVDA</th>\n",
       "      <td>0.071696</td>\n",
       "    </tr>\n",
       "    <tr>\n",
       "      <th>TSLA</th>\n",
       "      <td>0.036511</td>\n",
       "    </tr>\n",
       "    <tr>\n",
       "      <th>UNH</th>\n",
       "      <td>0.189845</td>\n",
       "    </tr>\n",
       "    <tr>\n",
       "      <th>V</th>\n",
       "      <td>0.184558</td>\n",
       "    </tr>\n",
       "    <tr>\n",
       "      <th>XOM</th>\n",
       "      <td>-0.156617</td>\n",
       "    </tr>\n",
       "  </tbody>\n",
       "</table>\n",
       "</div>"
      ],
      "text/plain": [
       "       Regularized Weights\n",
       "AAPL             -0.014706\n",
       "AMZN              0.036310\n",
       "BRK-B             0.109162\n",
       "GOOGL             0.050545\n",
       "JNJ               0.099190\n",
       "JPM               0.053691\n",
       "LLY               0.214949\n",
       "META              0.034896\n",
       "MSFT              0.089970\n",
       "NVDA              0.071696\n",
       "TSLA              0.036511\n",
       "UNH               0.189845\n",
       "V                 0.184558\n",
       "XOM              -0.156617"
      ]
     },
     "execution_count": 12,
     "metadata": {},
     "output_type": "execute_result"
    }
   ],
   "source": [
    "regularized_weights_df = tangency_weights(is_data, scale_cov=.5, name = 'Regularized')\n",
    "portfolio_reg = portfolio_returns_calc(is_data, regularized_weights_df)\n",
    "portfolio_reg.columns = ['reg_weights']\n",
    "regularized_weights_df"
   ]
  },
  {
   "cell_type": "markdown",
   "id": "eb11f909-25d2-4f53-9446-c5c5eef9ae5e",
   "metadata": {},
   "source": [
    "#### Q2"
   ]
  },
  {
   "cell_type": "code",
   "execution_count": 14,
   "id": "05042ca2-8cd2-448c-a82b-9549dbecc85d",
   "metadata": {},
   "outputs": [
    {
     "data": {
      "text/html": [
       "<div>\n",
       "<style scoped>\n",
       "    .dataframe tbody tr th:only-of-type {\n",
       "        vertical-align: middle;\n",
       "    }\n",
       "\n",
       "    .dataframe tbody tr th {\n",
       "        vertical-align: top;\n",
       "    }\n",
       "\n",
       "    .dataframe thead th {\n",
       "        text-align: right;\n",
       "    }\n",
       "</style>\n",
       "<table border=\"1\" class=\"dataframe\">\n",
       "  <thead>\n",
       "    <tr style=\"text-align: right;\">\n",
       "      <th></th>\n",
       "      <th>Annnualized Return</th>\n",
       "      <th>Annnualized Vol</th>\n",
       "      <th>Annnualized SR</th>\n",
       "    </tr>\n",
       "  </thead>\n",
       "  <tbody>\n",
       "    <tr>\n",
       "      <th>tangency_weights</th>\n",
       "      <td>0.348256</td>\n",
       "      <td>0.134053</td>\n",
       "      <td>2.597896</td>\n",
       "    </tr>\n",
       "    <tr>\n",
       "      <th>reg_weights</th>\n",
       "      <td>0.276599</td>\n",
       "      <td>0.114184</td>\n",
       "      <td>2.422392</td>\n",
       "    </tr>\n",
       "  </tbody>\n",
       "</table>\n",
       "</div>"
      ],
      "text/plain": [
       "                  Annnualized Return  Annnualized Vol  Annnualized SR\n",
       "tangency_weights            0.348256         0.134053        2.597896\n",
       "reg_weights                 0.276599         0.114184        2.422392"
      ]
     },
     "execution_count": 14,
     "metadata": {},
     "output_type": "execute_result"
    }
   ],
   "source": [
    "is_portfolios = pd.concat([\n",
    "    portfolio_tangency, \n",
    "    portfolio_reg\n",
    "], axis=1)\n",
    "is_portfolios.columns = [_ for _ in is_portfolios.columns]\n",
    "portfolio_metrics_basic(is_portfolios)"
   ]
  },
  {
   "cell_type": "markdown",
   "id": "ddfc6367-7ba6-4f80-b8f7-39187d8b807b",
   "metadata": {},
   "source": [
    "#### Q3"
   ]
  },
  {
   "cell_type": "code",
   "execution_count": 16,
   "id": "82cc2de3-a666-4e25-8344-d9df64490a72",
   "metadata": {},
   "outputs": [
    {
     "data": {
      "text/html": [
       "<div>\n",
       "<style scoped>\n",
       "    .dataframe tbody tr th:only-of-type {\n",
       "        vertical-align: middle;\n",
       "    }\n",
       "\n",
       "    .dataframe tbody tr th {\n",
       "        vertical-align: top;\n",
       "    }\n",
       "\n",
       "    .dataframe thead th {\n",
       "        text-align: right;\n",
       "    }\n",
       "</style>\n",
       "<table border=\"1\" class=\"dataframe\">\n",
       "  <thead>\n",
       "    <tr style=\"text-align: right;\">\n",
       "      <th></th>\n",
       "      <th>os_tangency_weights</th>\n",
       "    </tr>\n",
       "    <tr>\n",
       "      <th>date</th>\n",
       "      <th></th>\n",
       "    </tr>\n",
       "  </thead>\n",
       "  <tbody>\n",
       "    <tr>\n",
       "      <th>2024-07-31</th>\n",
       "      <td>-0.016012</td>\n",
       "    </tr>\n",
       "    <tr>\n",
       "      <th>2024-08-31</th>\n",
       "      <td>0.101241</td>\n",
       "    </tr>\n",
       "    <tr>\n",
       "      <th>2024-09-30</th>\n",
       "      <td>-0.025162</td>\n",
       "    </tr>\n",
       "  </tbody>\n",
       "</table>\n",
       "</div>"
      ],
      "text/plain": [
       "            os_tangency_weights\n",
       "date                           \n",
       "2024-07-31            -0.016012\n",
       "2024-08-31             0.101241\n",
       "2024-09-30            -0.025162"
      ]
     },
     "execution_count": 16,
     "metadata": {},
     "output_type": "execute_result"
    }
   ],
   "source": [
    "os_portfolio_tangency = portfolio_returns_calc(os_data, tangency_weights_df)\n",
    "os_portfolio_tangency.columns = ['os_tangency_weights']\n",
    "os_portfolio_tangency.tail(3)"
   ]
  },
  {
   "cell_type": "code",
   "execution_count": 17,
   "id": "24e7003f-8d3a-47ec-a585-4ea68a899742",
   "metadata": {},
   "outputs": [
    {
     "data": {
      "text/html": [
       "<div>\n",
       "<style scoped>\n",
       "    .dataframe tbody tr th:only-of-type {\n",
       "        vertical-align: middle;\n",
       "    }\n",
       "\n",
       "    .dataframe tbody tr th {\n",
       "        vertical-align: top;\n",
       "    }\n",
       "\n",
       "    .dataframe thead th {\n",
       "        text-align: right;\n",
       "    }\n",
       "</style>\n",
       "<table border=\"1\" class=\"dataframe\">\n",
       "  <thead>\n",
       "    <tr style=\"text-align: right;\">\n",
       "      <th></th>\n",
       "      <th>os_reg_weights</th>\n",
       "    </tr>\n",
       "    <tr>\n",
       "      <th>date</th>\n",
       "      <th></th>\n",
       "    </tr>\n",
       "  </thead>\n",
       "  <tbody>\n",
       "    <tr>\n",
       "      <th>2024-07-31</th>\n",
       "      <td>0.003227</td>\n",
       "    </tr>\n",
       "    <tr>\n",
       "      <th>2024-08-31</th>\n",
       "      <td>0.064626</td>\n",
       "    </tr>\n",
       "    <tr>\n",
       "      <th>2024-09-30</th>\n",
       "      <td>-0.016477</td>\n",
       "    </tr>\n",
       "  </tbody>\n",
       "</table>\n",
       "</div>"
      ],
      "text/plain": [
       "            os_reg_weights\n",
       "date                      \n",
       "2024-07-31        0.003227\n",
       "2024-08-31        0.064626\n",
       "2024-09-30       -0.016477"
      ]
     },
     "execution_count": 17,
     "metadata": {},
     "output_type": "execute_result"
    }
   ],
   "source": [
    "os_portfolio_reg = portfolio_returns_calc(os_data, regularized_weights_df)\n",
    "os_portfolio_reg.columns = ['os_reg_weights']\n",
    "os_portfolio_reg.tail(3)"
   ]
  },
  {
   "cell_type": "markdown",
   "id": "8a30d5d7-5f17-4e9b-9048-35bb8e2ffdb4",
   "metadata": {},
   "source": [
    "#### Q4"
   ]
  },
  {
   "cell_type": "code",
   "execution_count": 19,
   "id": "8b9b44ee-6719-4d5a-a09f-87d9814a36d3",
   "metadata": {},
   "outputs": [
    {
     "data": {
      "text/html": [
       "<div>\n",
       "<style scoped>\n",
       "    .dataframe tbody tr th:only-of-type {\n",
       "        vertical-align: middle;\n",
       "    }\n",
       "\n",
       "    .dataframe tbody tr th {\n",
       "        vertical-align: top;\n",
       "    }\n",
       "\n",
       "    .dataframe thead th {\n",
       "        text-align: right;\n",
       "    }\n",
       "</style>\n",
       "<table border=\"1\" class=\"dataframe\">\n",
       "  <thead>\n",
       "    <tr style=\"text-align: right;\">\n",
       "      <th></th>\n",
       "      <th>Annnualized Return</th>\n",
       "      <th>Annnualized Vol</th>\n",
       "      <th>Annnualized SR</th>\n",
       "    </tr>\n",
       "  </thead>\n",
       "  <tbody>\n",
       "    <tr>\n",
       "      <th>os_tangency_weights</th>\n",
       "      <td>0.321558</td>\n",
       "      <td>0.222352</td>\n",
       "      <td>1.446167</td>\n",
       "    </tr>\n",
       "    <tr>\n",
       "      <th>os_reg_weights</th>\n",
       "      <td>0.268686</td>\n",
       "      <td>0.176334</td>\n",
       "      <td>1.523729</td>\n",
       "    </tr>\n",
       "  </tbody>\n",
       "</table>\n",
       "</div>"
      ],
      "text/plain": [
       "                     Annnualized Return  Annnualized Vol  Annnualized SR\n",
       "os_tangency_weights            0.321558         0.222352        1.446167\n",
       "os_reg_weights                 0.268686         0.176334        1.523729"
      ]
     },
     "execution_count": 19,
     "metadata": {},
     "output_type": "execute_result"
    }
   ],
   "source": [
    "os_portfolios = pd.concat([\n",
    "    os_portfolio_tangency, \n",
    "    os_portfolio_reg\n",
    "], axis=1)\n",
    "os_portfolios.columns = [_ for _ in os_portfolios.columns]\n",
    "portfolio_metrics_basic(os_portfolios)"
   ]
  },
  {
   "cell_type": "markdown",
   "id": "ba9d6756-25bf-437f-9540-f53f5c838804",
   "metadata": {},
   "source": [
    "#### Q5"
   ]
  },
  {
   "cell_type": "code",
   "execution_count": 21,
   "id": "b57e88c8-2b1a-4de8-b5f4-b0cf48271e59",
   "metadata": {},
   "outputs": [
    {
     "data": {
      "text/plain": [
       "(Tangency Weights    2.197687\n",
       " dtype: float64,\n",
       " Regularized Weights    1.342647\n",
       " dtype: float64)"
      ]
     },
     "execution_count": 21,
     "metadata": {},
     "output_type": "execute_result"
    }
   ],
   "source": [
    "tangency_weights_df.abs().sum(), regularized_weights_df.abs().sum()"
   ]
  },
  {
   "cell_type": "markdown",
   "id": "fd12d85e-5bed-4902-9d0d-a7219413815d",
   "metadata": {},
   "source": [
    "The regularized portfolio has the better adjusted risk returns in the out of sample data. \n",
    "Based on the sum of absolute weights, the tangency weight portfolio involved a larger amount of positions and more aggressive bets on individual assets. In contrast, the regularized weighted portfolio likely reduced extreme exposures to individual assets, leading to a more balanced and stable portfolio. \n",
    "As a result, while the regularized weights portfolio had a lower annualized returns, this came with a larger difference in volatility, helping the portfolio achieve a higher annualized sharpe ratio overall. \n"
   ]
  },
  {
   "cell_type": "markdown",
   "id": "510f4cd1-3f4a-4b06-82dc-efe568a2c090",
   "metadata": {},
   "source": [
    "# Q3"
   ]
  },
  {
   "cell_type": "code",
   "execution_count": 24,
   "id": "e1944eb4-8e35-4dd9-b989-332a671822a1",
   "metadata": {},
   "outputs": [
    {
     "data": {
      "text/html": [
       "<div>\n",
       "<style scoped>\n",
       "    .dataframe tbody tr th:only-of-type {\n",
       "        vertical-align: middle;\n",
       "    }\n",
       "\n",
       "    .dataframe tbody tr th {\n",
       "        vertical-align: top;\n",
       "    }\n",
       "\n",
       "    .dataframe thead th {\n",
       "        text-align: right;\n",
       "    }\n",
       "</style>\n",
       "<table border=\"1\" class=\"dataframe\">\n",
       "  <thead>\n",
       "    <tr style=\"text-align: right;\">\n",
       "      <th></th>\n",
       "      <th>HDG US Equity</th>\n",
       "      <th>QAI US Equity</th>\n",
       "      <th>SPY US Equity</th>\n",
       "      <th>EEM US Equity</th>\n",
       "      <th>EFA US Equity</th>\n",
       "      <th>EUO US Equity</th>\n",
       "      <th>IWM US Equity</th>\n",
       "      <th>SPXU US Equity</th>\n",
       "      <th>UPRO US Equity</th>\n",
       "    </tr>\n",
       "    <tr>\n",
       "      <th>date</th>\n",
       "      <th></th>\n",
       "      <th></th>\n",
       "      <th></th>\n",
       "      <th></th>\n",
       "      <th></th>\n",
       "      <th></th>\n",
       "      <th></th>\n",
       "      <th></th>\n",
       "      <th></th>\n",
       "    </tr>\n",
       "  </thead>\n",
       "  <tbody>\n",
       "    <tr>\n",
       "      <th>2011-08-31</th>\n",
       "      <td>-0.027036</td>\n",
       "      <td>-0.006489</td>\n",
       "      <td>-0.054976</td>\n",
       "      <td>-0.092549</td>\n",
       "      <td>-0.087549</td>\n",
       "      <td>-0.005889</td>\n",
       "      <td>-0.088913</td>\n",
       "      <td>0.056476</td>\n",
       "      <td>-0.210854</td>\n",
       "    </tr>\n",
       "    <tr>\n",
       "      <th>2011-09-30</th>\n",
       "      <td>-0.032466</td>\n",
       "      <td>-0.022141</td>\n",
       "      <td>-0.069420</td>\n",
       "      <td>-0.179063</td>\n",
       "      <td>-0.108082</td>\n",
       "      <td>0.142180</td>\n",
       "      <td>-0.111505</td>\n",
       "      <td>0.190006</td>\n",
       "      <td>-0.207003</td>\n",
       "    </tr>\n",
       "    <tr>\n",
       "      <th>2011-10-31</th>\n",
       "      <td>0.050531</td>\n",
       "      <td>0.025239</td>\n",
       "      <td>0.109147</td>\n",
       "      <td>0.162986</td>\n",
       "      <td>0.096274</td>\n",
       "      <td>-0.069502</td>\n",
       "      <td>0.151011</td>\n",
       "      <td>-0.298828</td>\n",
       "      <td>0.326066</td>\n",
       "    </tr>\n",
       "    <tr>\n",
       "      <th>2011-11-30</th>\n",
       "      <td>-0.028608</td>\n",
       "      <td>-0.007964</td>\n",
       "      <td>-0.004064</td>\n",
       "      <td>-0.019724</td>\n",
       "      <td>-0.021765</td>\n",
       "      <td>0.054627</td>\n",
       "      <td>-0.003784</td>\n",
       "      <td>-0.035515</td>\n",
       "      <td>-0.033502</td>\n",
       "    </tr>\n",
       "    <tr>\n",
       "      <th>2011-12-31</th>\n",
       "      <td>0.012875</td>\n",
       "      <td>0.001822</td>\n",
       "      <td>0.010449</td>\n",
       "      <td>-0.042649</td>\n",
       "      <td>-0.021744</td>\n",
       "      <td>0.075581</td>\n",
       "      <td>0.005144</td>\n",
       "      <td>-0.051986</td>\n",
       "      <td>0.022939</td>\n",
       "    </tr>\n",
       "  </tbody>\n",
       "</table>\n",
       "</div>"
      ],
      "text/plain": [
       "            HDG US Equity  QAI US Equity  SPY US Equity  EEM US Equity  \\\n",
       "date                                                                     \n",
       "2011-08-31      -0.027036      -0.006489      -0.054976      -0.092549   \n",
       "2011-09-30      -0.032466      -0.022141      -0.069420      -0.179063   \n",
       "2011-10-31       0.050531       0.025239       0.109147       0.162986   \n",
       "2011-11-30      -0.028608      -0.007964      -0.004064      -0.019724   \n",
       "2011-12-31       0.012875       0.001822       0.010449      -0.042649   \n",
       "\n",
       "            EFA US Equity  EUO US Equity  IWM US Equity  SPXU US Equity  \\\n",
       "date                                                                      \n",
       "2011-08-31      -0.087549      -0.005889      -0.088913        0.056476   \n",
       "2011-09-30      -0.108082       0.142180      -0.111505        0.190006   \n",
       "2011-10-31       0.096274      -0.069502       0.151011       -0.298828   \n",
       "2011-11-30      -0.021765       0.054627      -0.003784       -0.035515   \n",
       "2011-12-31      -0.021744       0.075581       0.005144       -0.051986   \n",
       "\n",
       "            UPRO US Equity  \n",
       "date                        \n",
       "2011-08-31       -0.210854  \n",
       "2011-09-30       -0.207003  \n",
       "2011-10-31        0.326066  \n",
       "2011-11-30       -0.033502  \n",
       "2011-12-31        0.022939  "
      ]
     },
     "execution_count": 24,
     "metadata": {},
     "output_type": "execute_result"
    }
   ],
   "source": [
    "proshares_df = pd.read_excel(\"./midterm_1_data.xlsx\", sheet_name = 'proshares excess returns')\n",
    "proshares_df = proshares_df.set_index('date')\n",
    "proshares_df.head()"
   ]
  },
  {
   "cell_type": "markdown",
   "id": "7774000e-e72d-4ab1-b2de-2ea0ff3e42de",
   "metadata": {},
   "source": [
    "#### Q1"
   ]
  },
  {
   "cell_type": "code",
   "execution_count": 26,
   "id": "825575b4-7d37-47cc-b51f-108f248d8415",
   "metadata": {},
   "outputs": [
    {
     "data": {
      "text/html": [
       "<style type=\"text/css\">\n",
       "</style>\n",
       "<table id=\"T_17fb1\">\n",
       "  <thead>\n",
       "    <tr>\n",
       "      <th class=\"blank level0\" >&nbsp;</th>\n",
       "      <th id=\"T_17fb1_level0_col0\" class=\"col_heading level0 col0\" >Dollar Position</th>\n",
       "    </tr>\n",
       "  </thead>\n",
       "  <tbody>\n",
       "    <tr>\n",
       "      <th id=\"T_17fb1_level0_row0\" class=\"row_heading level0 row0\" >QAI US Equity</th>\n",
       "      <td id=\"T_17fb1_row0_col0\" class=\"data row0 col0\" >$-151,537</td>\n",
       "    </tr>\n",
       "    <tr>\n",
       "      <th id=\"T_17fb1_level0_row1\" class=\"row_heading level0 row1\" >SPY US Equity</th>\n",
       "      <td id=\"T_17fb1_row1_col0\" class=\"data row1 col0\" >$-515,376</td>\n",
       "    </tr>\n",
       "    <tr>\n",
       "      <th id=\"T_17fb1_level0_row2\" class=\"row_heading level0 row2\" >EEM US Equity</th>\n",
       "      <td id=\"T_17fb1_row2_col0\" class=\"data row2 col0\" >$-44,816</td>\n",
       "    </tr>\n",
       "    <tr>\n",
       "      <th id=\"T_17fb1_level0_row3\" class=\"row_heading level0 row3\" >UPRO US Equity</th>\n",
       "      <td id=\"T_17fb1_row3_col0\" class=\"data row3 col0\" >$140,222</td>\n",
       "    </tr>\n",
       "    <tr>\n",
       "      <th id=\"T_17fb1_level0_row4\" class=\"row_heading level0 row4\" >SPXU US Equity</th>\n",
       "      <td id=\"T_17fb1_row4_col0\" class=\"data row4 col0\" >$-32,654</td>\n",
       "    </tr>\n",
       "    <tr>\n",
       "      <th id=\"T_17fb1_level0_row5\" class=\"row_heading level0 row5\" >IWM US Equity</th>\n",
       "      <td id=\"T_17fb1_row5_col0\" class=\"data row5 col0\" >$-139,036</td>\n",
       "    </tr>\n",
       "    <tr>\n",
       "      <th id=\"T_17fb1_level0_row6\" class=\"row_heading level0 row6\" >EFA US Equity</th>\n",
       "      <td id=\"T_17fb1_row6_col0\" class=\"data row6 col0\" >$-117,000</td>\n",
       "    </tr>\n",
       "  </tbody>\n",
       "</table>\n"
      ],
      "text/plain": [
       "<pandas.io.formats.style.Styler at 0x16e541040>"
      ]
     },
     "execution_count": 26,
     "metadata": {},
     "output_type": "execute_result"
    }
   ],
   "source": [
    "import statsmodels.api as sm\n",
    "\n",
    "stocks = ['QAI', 'SPY', 'EEM', 'UPRO', 'SPXU', 'IWM', 'EFA']\n",
    "stocks = list(map(lambda x: x + ' US Equity', stocks))\n",
    "y = proshares_df['HDG US Equity']\n",
    "x = sm.add_constant(proshares_df[stocks]) #included intercept as based in midterms (intercept = True)\n",
    "model = sm.OLS(y, x).fit()\n",
    "model.summary()\n",
    "\n",
    "beta = model.params[stocks]\n",
    "residuals = model.resid \n",
    "std_error = np.std(residuals, ddof=1)\n",
    "exposure = beta * -1000000\n",
    "exposure.to_frame('Dollar Position').style.format('${:,.0f}')"
   ]
  },
  {
   "cell_type": "markdown",
   "id": "3621a9b4-ed05-4d16-8a05-138a5178f85c",
   "metadata": {},
   "source": [
    "#### Q2"
   ]
  },
  {
   "cell_type": "code",
   "execution_count": 28,
   "id": "27358430-3ae8-4347-8af0-4b63ba633507",
   "metadata": {},
   "outputs": [
    {
     "name": "stdout",
     "output_type": "stream",
     "text": [
      "Gross Notional of Hedge = 1140643.092565154\n",
      "R Squared of the hedge = 0.9128835765562017\n"
     ]
    }
   ],
   "source": [
    "print(f\"Gross Notional of Hedge = {exposure.abs().sum()}\")\n",
    "print(f\"R Squared of the hedge = {model.rsquared}\")"
   ]
  },
  {
   "cell_type": "markdown",
   "id": "480691fe-0fdf-4423-9a1a-7057553f18f8",
   "metadata": {},
   "source": [
    "The gross notional of hedge = 1.14 million which exceeds the long position of 1 million. Given that the hedge fund is long $1 million of HDG, it suggests that there is leverage involved in the hedged assets, suggesting additional exposures to neutralize the position. Nonetheless, the high R-squared suggests that the hedge is very effective in reducing the risks and explains 91.29\\% of the variance in HDG. Therefore, the hedge fund will need to consider the additional costs or complexitites in employing more capital to hedge the HDG position. "
   ]
  },
  {
   "cell_type": "markdown",
   "id": "35747ca0-c079-47ea-be00-af3cb97f1068",
   "metadata": {},
   "source": [
    "#### Q3"
   ]
  },
  {
   "cell_type": "markdown",
   "id": "15061140-9936-4c14-9023-b058d83096c4",
   "metadata": {},
   "source": [
    "Based on the model provided, only betas and epsilon were shown, no alpha"
   ]
  },
  {
   "cell_type": "code",
   "execution_count": 32,
   "id": "47c1ed17-5a39-4d12-a5ca-5156b618cafc",
   "metadata": {},
   "outputs": [
    {
     "data": {
      "text/html": [
       "<table class=\"simpletable\">\n",
       "<caption>OLS Regression Results</caption>\n",
       "<tr>\n",
       "  <th>Dep. Variable:</th>      <td>HDG US Equity</td>  <th>  R-squared (uncentered):</th>      <td>   0.845</td>\n",
       "</tr>\n",
       "<tr>\n",
       "  <th>Model:</th>                   <td>OLS</td>       <th>  Adj. R-squared (uncentered):</th> <td>   0.842</td>\n",
       "</tr>\n",
       "<tr>\n",
       "  <th>Method:</th>             <td>Least Squares</td>  <th>  F-statistic:       </th>          <td>   281.9</td>\n",
       "</tr>\n",
       "<tr>\n",
       "  <th>Date:</th>             <td>Mon, 21 Oct 2024</td> <th>  Prob (F-statistic):</th>          <td>1.56e-62</td>\n",
       "</tr>\n",
       "<tr>\n",
       "  <th>Time:</th>                 <td>20:26:30</td>     <th>  Log-Likelihood:    </th>          <td>  567.53</td>\n",
       "</tr>\n",
       "<tr>\n",
       "  <th>No. Observations:</th>      <td>   158</td>      <th>  AIC:               </th>          <td>  -1129.</td>\n",
       "</tr>\n",
       "<tr>\n",
       "  <th>Df Residuals:</th>          <td>   155</td>      <th>  BIC:               </th>          <td>  -1120.</td>\n",
       "</tr>\n",
       "<tr>\n",
       "  <th>Df Model:</th>              <td>     3</td>      <th>                     </th>              <td> </td>   \n",
       "</tr>\n",
       "<tr>\n",
       "  <th>Covariance Type:</th>      <td>nonrobust</td>    <th>                     </th>              <td> </td>   \n",
       "</tr>\n",
       "</table>\n",
       "<table class=\"simpletable\">\n",
       "<tr>\n",
       "        <td></td>           <th>coef</th>     <th>std err</th>      <th>t</th>      <th>P>|t|</th>  <th>[0.025</th>    <th>0.975]</th>  \n",
       "</tr>\n",
       "<tr>\n",
       "  <th>QAI US Equity</th> <td>    0.3564</td> <td>    0.086</td> <td>    4.139</td> <td> 0.000</td> <td>    0.186</td> <td>    0.526</td>\n",
       "</tr>\n",
       "<tr>\n",
       "  <th>SPY US Equity</th> <td>    0.1627</td> <td>    0.024</td> <td>    6.659</td> <td> 0.000</td> <td>    0.114</td> <td>    0.211</td>\n",
       "</tr>\n",
       "<tr>\n",
       "  <th>EEM US Equity</th> <td>    0.0865</td> <td>    0.017</td> <td>    5.153</td> <td> 0.000</td> <td>    0.053</td> <td>    0.120</td>\n",
       "</tr>\n",
       "</table>\n",
       "<table class=\"simpletable\">\n",
       "<tr>\n",
       "  <th>Omnibus:</th>       <td> 7.118</td> <th>  Durbin-Watson:     </th> <td>   2.175</td>\n",
       "</tr>\n",
       "<tr>\n",
       "  <th>Prob(Omnibus):</th> <td> 0.028</td> <th>  Jarque-Bera (JB):  </th> <td>  12.450</td>\n",
       "</tr>\n",
       "<tr>\n",
       "  <th>Skew:</th>          <td>-0.063</td> <th>  Prob(JB):          </th> <td> 0.00198</td>\n",
       "</tr>\n",
       "<tr>\n",
       "  <th>Kurtosis:</th>      <td> 4.369</td> <th>  Cond. No.          </th> <td>    10.6</td>\n",
       "</tr>\n",
       "</table><br/><br/>Notes:<br/>[1] R² is computed without centering (uncentered) since the model does not contain a constant.<br/>[2] Standard Errors assume that the covariance matrix of the errors is correctly specified."
      ],
      "text/latex": [
       "\\begin{center}\n",
       "\\begin{tabular}{lclc}\n",
       "\\toprule\n",
       "\\textbf{Dep. Variable:}    &  HDG US Equity   & \\textbf{  R-squared (uncentered):}      &     0.845   \\\\\n",
       "\\textbf{Model:}            &       OLS        & \\textbf{  Adj. R-squared (uncentered):} &     0.842   \\\\\n",
       "\\textbf{Method:}           &  Least Squares   & \\textbf{  F-statistic:       }          &     281.9   \\\\\n",
       "\\textbf{Date:}             & Mon, 21 Oct 2024 & \\textbf{  Prob (F-statistic):}          &  1.56e-62   \\\\\n",
       "\\textbf{Time:}             &     20:26:30     & \\textbf{  Log-Likelihood:    }          &    567.53   \\\\\n",
       "\\textbf{No. Observations:} &         158      & \\textbf{  AIC:               }          &    -1129.   \\\\\n",
       "\\textbf{Df Residuals:}     &         155      & \\textbf{  BIC:               }          &    -1120.   \\\\\n",
       "\\textbf{Df Model:}         &           3      & \\textbf{                     }          &             \\\\\n",
       "\\textbf{Covariance Type:}  &    nonrobust     & \\textbf{                     }          &             \\\\\n",
       "\\bottomrule\n",
       "\\end{tabular}\n",
       "\\begin{tabular}{lcccccc}\n",
       "                       & \\textbf{coef} & \\textbf{std err} & \\textbf{t} & \\textbf{P$> |$t$|$} & \\textbf{[0.025} & \\textbf{0.975]}  \\\\\n",
       "\\midrule\n",
       "\\textbf{QAI US Equity} &       0.3564  &        0.086     &     4.139  &         0.000        &        0.186    &        0.526     \\\\\n",
       "\\textbf{SPY US Equity} &       0.1627  &        0.024     &     6.659  &         0.000        &        0.114    &        0.211     \\\\\n",
       "\\textbf{EEM US Equity} &       0.0865  &        0.017     &     5.153  &         0.000        &        0.053    &        0.120     \\\\\n",
       "\\bottomrule\n",
       "\\end{tabular}\n",
       "\\begin{tabular}{lclc}\n",
       "\\textbf{Omnibus:}       &  7.118 & \\textbf{  Durbin-Watson:     } &    2.175  \\\\\n",
       "\\textbf{Prob(Omnibus):} &  0.028 & \\textbf{  Jarque-Bera (JB):  } &   12.450  \\\\\n",
       "\\textbf{Skew:}          & -0.063 & \\textbf{  Prob(JB):          } &  0.00198  \\\\\n",
       "\\textbf{Kurtosis:}      &  4.369 & \\textbf{  Cond. No.          } &     10.6  \\\\\n",
       "\\bottomrule\n",
       "\\end{tabular}\n",
       "%\\caption{OLS Regression Results}\n",
       "\\end{center}\n",
       "\n",
       "Notes: \\newline\n",
       " [1] R² is computed without centering (uncentered) since the model does not contain a constant. \\newline\n",
       " [2] Standard Errors assume that the covariance matrix of the errors is correctly specified."
      ],
      "text/plain": [
       "<class 'statsmodels.iolib.summary.Summary'>\n",
       "\"\"\"\n",
       "                                 OLS Regression Results                                \n",
       "=======================================================================================\n",
       "Dep. Variable:          HDG US Equity   R-squared (uncentered):                   0.845\n",
       "Model:                            OLS   Adj. R-squared (uncentered):              0.842\n",
       "Method:                 Least Squares   F-statistic:                              281.9\n",
       "Date:                Mon, 21 Oct 2024   Prob (F-statistic):                    1.56e-62\n",
       "Time:                        20:26:30   Log-Likelihood:                          567.53\n",
       "No. Observations:                 158   AIC:                                     -1129.\n",
       "Df Residuals:                     155   BIC:                                     -1120.\n",
       "Df Model:                           3                                                  \n",
       "Covariance Type:            nonrobust                                                  \n",
       "=================================================================================\n",
       "                    coef    std err          t      P>|t|      [0.025      0.975]\n",
       "---------------------------------------------------------------------------------\n",
       "QAI US Equity     0.3564      0.086      4.139      0.000       0.186       0.526\n",
       "SPY US Equity     0.1627      0.024      6.659      0.000       0.114       0.211\n",
       "EEM US Equity     0.0865      0.017      5.153      0.000       0.053       0.120\n",
       "==============================================================================\n",
       "Omnibus:                        7.118   Durbin-Watson:                   2.175\n",
       "Prob(Omnibus):                  0.028   Jarque-Bera (JB):               12.450\n",
       "Skew:                          -0.063   Prob(JB):                      0.00198\n",
       "Kurtosis:                       4.369   Cond. No.                         10.6\n",
       "==============================================================================\n",
       "\n",
       "Notes:\n",
       "[1] R² is computed without centering (uncentered) since the model does not contain a constant.\n",
       "[2] Standard Errors assume that the covariance matrix of the errors is correctly specified.\n",
       "\"\"\""
      ]
     },
     "execution_count": 32,
     "metadata": {},
     "output_type": "execute_result"
    }
   ],
   "source": [
    "stocks = ['QAI', 'SPY', 'EEM']\n",
    "stocks = list(map(lambda x: x + ' US Equity', stocks))\n",
    "y = proshares_df['HDG US Equity']\n",
    "x = proshares_df[stocks] \n",
    "model = sm.OLS(y, x).fit()\n",
    "model.summary()"
   ]
  },
  {
   "cell_type": "code",
   "execution_count": 33,
   "id": "3ca988c7-af80-4df2-9569-8ee91ef01053",
   "metadata": {},
   "outputs": [
    {
     "data": {
      "text/html": [
       "<div>\n",
       "<style scoped>\n",
       "    .dataframe tbody tr th:only-of-type {\n",
       "        vertical-align: middle;\n",
       "    }\n",
       "\n",
       "    .dataframe tbody tr th {\n",
       "        vertical-align: top;\n",
       "    }\n",
       "\n",
       "    .dataframe thead th {\n",
       "        text-align: right;\n",
       "    }\n",
       "</style>\n",
       "<table border=\"1\" class=\"dataframe\">\n",
       "  <thead>\n",
       "    <tr style=\"text-align: right;\">\n",
       "      <th></th>\n",
       "      <th>Betas for the ETFs</th>\n",
       "    </tr>\n",
       "  </thead>\n",
       "  <tbody>\n",
       "    <tr>\n",
       "      <th>QAI US Equity</th>\n",
       "      <td>0.356368</td>\n",
       "    </tr>\n",
       "    <tr>\n",
       "      <th>SPY US Equity</th>\n",
       "      <td>0.162696</td>\n",
       "    </tr>\n",
       "    <tr>\n",
       "      <th>EEM US Equity</th>\n",
       "      <td>0.086523</td>\n",
       "    </tr>\n",
       "  </tbody>\n",
       "</table>\n",
       "</div>"
      ],
      "text/plain": [
       "               Betas for the ETFs\n",
       "QAI US Equity            0.356368\n",
       "SPY US Equity            0.162696\n",
       "EEM US Equity            0.086523"
      ]
     },
     "execution_count": 33,
     "metadata": {},
     "output_type": "execute_result"
    }
   ],
   "source": [
    "beta = model.params[stocks]\n",
    "beta.to_frame('Betas for the ETFs')"
   ]
  },
  {
   "cell_type": "code",
   "execution_count": 34,
   "id": "86b37a87-092b-4a8b-b22f-04ca879bb0ea",
   "metadata": {},
   "outputs": [
    {
     "data": {
      "text/plain": [
       "date\n",
       "2024-07-31    0.006721\n",
       "2024-08-31    0.007373\n",
       "2024-09-30    0.013569\n",
       "dtype: float64"
      ]
     },
     "execution_count": 34,
     "metadata": {},
     "output_type": "execute_result"
    }
   ],
   "source": [
    "# Construct the basket of stocks \n",
    "\n",
    "basket_returns = (proshares_df[stocks] * beta).sum(axis=1)\n",
    "basket_returns.tail(3)"
   ]
  },
  {
   "cell_type": "markdown",
   "id": "1ed29eb4-ad49-4e70-a6ea-582b05403b00",
   "metadata": {},
   "source": [
    "#### Q4"
   ]
  },
  {
   "cell_type": "code",
   "execution_count": 36,
   "id": "28bdd9d4-339f-4d8b-82bc-c73e17162765",
   "metadata": {},
   "outputs": [
    {
     "data": {
      "text/plain": [
       "date\n",
       "2011-08-31   -0.007771\n",
       "2011-09-30    0.002212\n",
       "2011-10-31    0.009677\n",
       "2011-11-30   -0.023402\n",
       "2011-12-31    0.014215\n",
       "dtype: float64"
      ]
     },
     "execution_count": 36,
     "metadata": {},
     "output_type": "execute_result"
    }
   ],
   "source": [
    "residuals = proshares_df['HDG US Equity'] - basket_returns\n",
    "residuals.head()"
   ]
  },
  {
   "cell_type": "code",
   "execution_count": 37,
   "id": "001d71d1-31ff-4ead-8e4c-07eb2470cd79",
   "metadata": {},
   "outputs": [
    {
     "data": {
      "text/plain": [
       "<Axes: >"
      ]
     },
     "execution_count": 37,
     "metadata": {},
     "output_type": "execute_result"
    },
    {
     "data": {
      "image/png": "[encoded data removed]",
      "text/plain": [
       "<Figure size 640x480 with 1 Axes>"
      ]
     },
     "metadata": {},
     "output_type": "display_data"
    }
   ],
   "source": [
    "strategy_returns = []\n",
    "\n",
    "for t in range(len(residuals)-1): \n",
    "    if residuals.iloc[t] <= 0:\n",
    "        ret = 2 * proshares_df['HDG US Equity'].iloc[t+1] - basket_returns.iloc[t+1]\n",
    "    else:\n",
    "        ret = 2 * basket_returns.iloc[t+1] - proshares_df['HDG US Equity'].iloc[t+1]\n",
    "    \n",
    "    strategy_returns.append(ret)\n",
    "\n",
    "pd.Series(strategy_returns).cumsum().plot()"
   ]
  },
  {
   "cell_type": "code",
   "execution_count": 38,
   "id": "0903341c-2179-47e1-b8bc-f8f17fdeea99",
   "metadata": {},
   "outputs": [
    {
     "data": {
      "text/html": [
       "<div>\n",
       "<style scoped>\n",
       "    .dataframe tbody tr th:only-of-type {\n",
       "        vertical-align: middle;\n",
       "    }\n",
       "\n",
       "    .dataframe tbody tr th {\n",
       "        vertical-align: top;\n",
       "    }\n",
       "\n",
       "    .dataframe thead th {\n",
       "        text-align: right;\n",
       "    }\n",
       "</style>\n",
       "<table border=\"1\" class=\"dataframe\">\n",
       "  <thead>\n",
       "    <tr style=\"text-align: right;\">\n",
       "      <th></th>\n",
       "      <th>Annnualized Return</th>\n",
       "      <th>Annnualized Vol</th>\n",
       "      <th>Annnualized SR</th>\n",
       "    </tr>\n",
       "  </thead>\n",
       "  <tbody>\n",
       "    <tr>\n",
       "      <th>Strategy</th>\n",
       "      <td>0.036796</td>\n",
       "      <td>0.062243</td>\n",
       "      <td>0.591156</td>\n",
       "    </tr>\n",
       "  </tbody>\n",
       "</table>\n",
       "</div>"
      ],
      "text/plain": [
       "          Annnualized Return  Annnualized Vol  Annnualized SR\n",
       "Strategy            0.036796         0.062243        0.591156"
      ]
     },
     "execution_count": 38,
     "metadata": {},
     "output_type": "execute_result"
    }
   ],
   "source": [
    "portfolio_metrics_basic(pd.Series(strategy_returns).to_frame('Strategy'))"
   ]
  },
  {
   "cell_type": "markdown",
   "id": "571ccee8-1805-4d0d-babe-441d67f283bd",
   "metadata": {},
   "source": [
    "#### Q5 - not annualized (as not specified in question)"
   ]
  },
  {
   "cell_type": "code",
   "execution_count": 40,
   "id": "55f9d77c-149a-48f6-876e-fc953dab8512",
   "metadata": {},
   "outputs": [
    {
     "name": "stdout",
     "output_type": "stream",
     "text": [
      "['HDG US Equity', 'SPY US Equity', 'EEM US Equity', 'EFA US Equity', 'EUO US Equity', 'IWM US Equity', 'SPXU US Equity', 'UPRO US Equity']\n",
      "Tracking Error  0.005738567328601326\n"
     ]
    },
    {
     "data": {
      "text/html": [
       "<div>\n",
       "<style scoped>\n",
       "    .dataframe tbody tr th:only-of-type {\n",
       "        vertical-align: middle;\n",
       "    }\n",
       "\n",
       "    .dataframe tbody tr th {\n",
       "        vertical-align: top;\n",
       "    }\n",
       "\n",
       "    .dataframe thead th {\n",
       "        text-align: right;\n",
       "    }\n",
       "</style>\n",
       "<table border=\"1\" class=\"dataframe\">\n",
       "  <thead>\n",
       "    <tr style=\"text-align: right;\">\n",
       "      <th></th>\n",
       "      <th>Beta Values</th>\n",
       "    </tr>\n",
       "  </thead>\n",
       "  <tbody>\n",
       "    <tr>\n",
       "      <th>HDG US Equity</th>\n",
       "      <td>0.231451</td>\n",
       "    </tr>\n",
       "    <tr>\n",
       "      <th>SPY US Equity</th>\n",
       "      <td>0.565072</td>\n",
       "    </tr>\n",
       "    <tr>\n",
       "      <th>EEM US Equity</th>\n",
       "      <td>0.047792</td>\n",
       "    </tr>\n",
       "    <tr>\n",
       "      <th>EFA US Equity</th>\n",
       "      <td>0.032642</td>\n",
       "    </tr>\n",
       "    <tr>\n",
       "      <th>EUO US Equity</th>\n",
       "      <td>-0.020484</td>\n",
       "    </tr>\n",
       "    <tr>\n",
       "      <th>IWM US Equity</th>\n",
       "      <td>-0.000157</td>\n",
       "    </tr>\n",
       "    <tr>\n",
       "      <th>SPXU US Equity</th>\n",
       "      <td>0.051074</td>\n",
       "    </tr>\n",
       "    <tr>\n",
       "      <th>UPRO US Equity</th>\n",
       "      <td>-0.095099</td>\n",
       "    </tr>\n",
       "  </tbody>\n",
       "</table>\n",
       "</div>"
      ],
      "text/plain": [
       "                Beta Values\n",
       "HDG US Equity      0.231451\n",
       "SPY US Equity      0.565072\n",
       "EEM US Equity      0.047792\n",
       "EFA US Equity      0.032642\n",
       "EUO US Equity     -0.020484\n",
       "IWM US Equity     -0.000157\n",
       "SPXU US Equity     0.051074\n",
       "UPRO US Equity    -0.095099"
      ]
     },
     "execution_count": 40,
     "metadata": {},
     "output_type": "execute_result"
    }
   ],
   "source": [
    "y = 'QAI US Equity' \n",
    "def get_params(data, y_col: str, x_col: list):\n",
    "    columns = ['Alpha', 'R-Squared'] + x_col + ['Tracking Error']\n",
    "    params_df = pd.DataFrame(index=columns)\n",
    "    \n",
    "    y = data[y_col]\n",
    "    x = data[x_col]\n",
    "    \n",
    "    x = sm.add_constant(x) # added constant as learnt from LMFM HF series data replication and required in the qn\n",
    "    model_alpha = sm.OLS(y, x).fit()\n",
    "    r_squared_model_alpha = model_alpha.rsquared\n",
    "    betas_model_alpha = model_alpha.params[1:]\n",
    "    alpha_model_alpha = model_alpha.params[0] \n",
    "    std_error = np.std(residuals, ddof=1)\n",
    "    information_ratio = (alpha_model_alpha/std_error) \n",
    "    \n",
    "    tracking_error_alpha = (model_alpha.resid).std()\n",
    "    print(\"Tracking Error \", tracking_error_alpha)\n",
    "    \n",
    "    parameters = [alpha_model_alpha] + [r_squared_model_alpha] + list(betas_model_alpha) + [tracking_error_alpha]\n",
    "    params_df['With Intercept'] = parameters\n",
    "\n",
    "    return params_df, alpha_model_alpha, information_ratio, r_squared_model_alpha\n",
    "\n",
    "factors = list(proshares_df.columns)\n",
    "factors.remove(y)\n",
    "print(factors)\n",
    "params_df, alpha_model_alpha, information_ratio, r_squared_model_alpha = get_params(proshares_df, y, factors)\n",
    "params_df.loc[factors].rename(columns = {'With Intercept': 'Beta Values'})"
   ]
  },
  {
   "cell_type": "code",
   "execution_count": 41,
   "id": "08f1459a-0a21-4ac1-85d0-fd8019b118c4",
   "metadata": {},
   "outputs": [
    {
     "name": "stdout",
     "output_type": "stream",
     "text": [
      "These are not annualized:\n",
      "--------------------------\n",
      "Alpha of the model (α): -0.0005\n",
      "Information Ratio: -0.0792\n",
      "R-squared of the model (R²): 0.8420\n"
     ]
    }
   ],
   "source": [
    "print(\"These are not annualized:\")\n",
    "print(\"--------------------------\")\n",
    "print(f\"Alpha of the model (α): {alpha_model_alpha:.4f}\")\n",
    "print(f\"Information Ratio: {information_ratio:.4f}\")\n",
    "print(f\"R-squared of the model (R²): {r_squared_model_alpha:.4f}\")\n"
   ]
  },
  {
   "cell_type": "code",
   "execution_count": 42,
   "id": "305f0981-a0ad-4d3a-8c3c-13a16a606892",
   "metadata": {},
   "outputs": [
    {
     "name": "stdout",
     "output_type": "stream",
     "text": [
      "MIN Correlation pair is ('SPXU US Equity', 'SPY US Equity'), with a correlation of -0.9555450332700004\n",
      "MAX Correlation pair is ('UPRO US Equity', 'SPY US Equity'), with a correlation of 0.9964750451849607\n"
     ]
    },
    {
     "data": {
      "image/png": "[encoded data removed]",
      "text/plain": [
       "<Figure size 640x480 with 2 Axes>"
      ]
     },
     "metadata": {},
     "output_type": "display_data"
    }
   ],
   "source": [
    "import seaborn as sns\n",
    "import matplotlib.pyplot as plt\n",
    "\n",
    "def plot_corr(data: pd.DataFrame):\n",
    "    corr_mtx = data.corr() \n",
    "    corr_mtx[corr_mtx==1] = None\n",
    "    sns.heatmap(corr_mtx,annot=True,fmt='.0%');\n",
    "\n",
    "    corr_rank = corr_mtx.unstack().sort_values().dropna()\n",
    "    pair_max = corr_rank.index[-1]\n",
    "    pair_min = corr_rank.index[0]\n",
    "\n",
    "    min_corr_value = corr_rank.iloc[0]\n",
    "    max_corr_value = corr_rank.iloc[-1]\n",
    "    \n",
    "    print(f'MIN Correlation pair is {pair_min}, with a correlation of {min_corr_value}')\n",
    "    print(f'MAX Correlation pair is {pair_max}, with a correlation of {max_corr_value}')\n",
    "    \n",
    "plot_corr(proshares_df[factors])"
   ]
  },
  {
   "cell_type": "markdown",
   "id": "67d3b0d3-8541-4995-bebe-d70f53628f84",
   "metadata": {},
   "source": [
    "#### Q6"
   ]
  },
  {
   "cell_type": "markdown",
   "id": "516f9c39-ff4b-446d-ad82-568cf6fcf96a",
   "metadata": {},
   "source": [
    "- The R-Squared is 0.842 meaning that 84.20\\% of the variability in QAI's returns is explained by the replication, which suggests that this is quite accurate, though there is still some room for improvement. \n",
    "- The Information ratio is -0.0793, which is negative. This implies that the replication has not been able to generate excess returns relative to the risks (betas taken from the factors). Therefore, the replication might not be fully efficient in capturing the returns of the original strategy and in fact, taking on too much risks (potentially from the over diversification)\n",
    "- A small negative alpha of -0.0005 indicates that the underperformance of the replication relative to QAI is minimal. Therefore, this suggests a relatively strong replication performance. \n",
    "- As for the betas, there is a diversified exposure across the various assets involved. SPY has a beta of 0.565 which is intuitive given that it follows the broad equity market exposure. On the other hand, EEM, EFA and EUO have lower weights which is obvious given that they represent emerging markets, international equities and currencies. Lastly, for UPRO and SPXU, the betas are minimal.\n",
    "- Regarding the correlations, we do see that the factors are highly correlated with some even sharing 99.6%. This definitely inhibits the effectiveness of this model as multicollinearity is present. For instance, URPO is simply a leveraged version of SPY and thus they share a strong correlation. Therefore, this replication can be said to be questionable as the factors selected violate the assumptions of a linear regression."
   ]
  },
  {
   "cell_type": "markdown",
   "id": "f2379697-9b5a-4e08-8c55-f041e14548a3",
   "metadata": {},
   "source": [
    "# Q4"
   ]
  },
  {
   "cell_type": "code",
   "execution_count": 46,
   "id": "61d6e1c1-9947-4a9f-964a-02fe4c702688",
   "metadata": {},
   "outputs": [
    {
     "data": {
      "text/plain": [
       "['stocks excess returns', 'proshares excess returns', 'fx carry returns']"
      ]
     },
     "execution_count": 46,
     "metadata": {},
     "output_type": "execute_result"
    }
   ],
   "source": [
    "excel_file = pd.ExcelFile(\"./midterm_1_data.xlsx\")\n",
    "sheet_names = excel_file.sheet_names\n",
    "sheet_names"
   ]
  },
  {
   "cell_type": "code",
   "execution_count": 47,
   "id": "f5a08417-ebdb-407d-9607-cc16b56340bd",
   "metadata": {},
   "outputs": [],
   "source": [
    "annualization_factor = 252 # 1 year for this part of the case since its daily data"
   ]
  },
  {
   "cell_type": "code",
   "execution_count": 48,
   "id": "db7c262f-b166-450b-9152-3887c21a99af",
   "metadata": {},
   "outputs": [
    {
     "data": {
      "text/html": [
       "<div>\n",
       "<style scoped>\n",
       "    .dataframe tbody tr th:only-of-type {\n",
       "        vertical-align: middle;\n",
       "    }\n",
       "\n",
       "    .dataframe tbody tr th {\n",
       "        vertical-align: top;\n",
       "    }\n",
       "\n",
       "    .dataframe thead th {\n",
       "        text-align: right;\n",
       "    }\n",
       "</style>\n",
       "<table border=\"1\" class=\"dataframe\">\n",
       "  <thead>\n",
       "    <tr style=\"text-align: right;\">\n",
       "      <th></th>\n",
       "      <th>JPY</th>\n",
       "      <th>Shifted_JPY</th>\n",
       "    </tr>\n",
       "    <tr>\n",
       "      <th>date</th>\n",
       "      <th></th>\n",
       "      <th></th>\n",
       "    </tr>\n",
       "  </thead>\n",
       "  <tbody>\n",
       "    <tr>\n",
       "      <th>2019-01-07</th>\n",
       "      <td>-0.001843</td>\n",
       "      <td>NaN</td>\n",
       "    </tr>\n",
       "    <tr>\n",
       "      <th>2019-01-08</th>\n",
       "      <td>-0.000324</td>\n",
       "      <td>-0.001843</td>\n",
       "    </tr>\n",
       "    <tr>\n",
       "      <th>2019-01-09</th>\n",
       "      <td>0.005222</td>\n",
       "      <td>-0.000324</td>\n",
       "    </tr>\n",
       "    <tr>\n",
       "      <th>2019-01-10</th>\n",
       "      <td>-0.002486</td>\n",
       "      <td>0.005222</td>\n",
       "    </tr>\n",
       "    <tr>\n",
       "      <th>2019-01-11</th>\n",
       "      <td>-0.000865</td>\n",
       "      <td>-0.002486</td>\n",
       "    </tr>\n",
       "  </tbody>\n",
       "</table>\n",
       "</div>"
      ],
      "text/plain": [
       "                 JPY  Shifted_JPY\n",
       "date                             \n",
       "2019-01-07 -0.001843          NaN\n",
       "2019-01-08 -0.000324    -0.001843\n",
       "2019-01-09  0.005222    -0.000324\n",
       "2019-01-10 -0.002486     0.005222\n",
       "2019-01-11 -0.000865    -0.002486"
      ]
     },
     "execution_count": 48,
     "metadata": {},
     "output_type": "execute_result"
    }
   ],
   "source": [
    "fx_df = pd.read_excel(\"./midterm_1_data.xlsx\", sheet_name = 'fx carry returns')\n",
    "fx_df = fx_df.set_index('date')\n",
    "fx_df['Shifted_JPY'] = fx_df['JPY'].shift(1)\n",
    "fx_df = fx_df[['JPY', 'Shifted_JPY']]\n",
    "fx_df.head()"
   ]
  },
  {
   "cell_type": "markdown",
   "id": "89fbe0d4-b8c5-44f2-8a24-eeba7bf744bc",
   "metadata": {},
   "source": [
    "#### Q1"
   ]
  },
  {
   "cell_type": "code",
   "execution_count": 50,
   "id": "8514f0c2-63b6-411c-b357-a656ca6d8c30",
   "metadata": {},
   "outputs": [
    {
     "data": {
      "text/plain": [
       "-0.017181767219970005"
      ]
     },
     "execution_count": 50,
     "metadata": {},
     "output_type": "execute_result"
    }
   ],
   "source": [
    "var_quantile = 0.01 \n",
    "fx_df['VaR_1%'] = fx_df['Shifted_JPY'].expanding(min_periods = 1).quantile(var_quantile)\n",
    "fx_df['VaR_1%'].tail(1).values[0]"
   ]
  },
  {
   "cell_type": "markdown",
   "id": "dfce9897-1869-427c-88c7-223f3947450a",
   "metadata": {},
   "source": [
    "#### Q2"
   ]
  },
  {
   "cell_type": "code",
   "execution_count": 52,
   "id": "8fc3e698-ae57-411c-ad7e-664368e97381",
   "metadata": {},
   "outputs": [
    {
     "data": {
      "text/plain": [
       "array([-0.01335037, -0.0133586 , -0.01363107])"
      ]
     },
     "execution_count": 52,
     "metadata": {},
     "output_type": "execute_result"
    }
   ],
   "source": [
    "z_score = -2.33 \n",
    "window = 233 \n",
    "\n",
    "'''\n",
    "Rolling volatility, no sample mean \n",
    "'''\n",
    "\n",
    "# from mid terms 2023 -> chose the mean method (based on sample ans)\n",
    "rol_vol_jpy = np.sqrt((fx_df['JPY']**2).rolling(window).mean().shift())\n",
    "fx_df['Normal_VaR_1%_rolling_vol'] = z_score * rol_vol_jpy\n",
    "fx_df['Normal_VaR_1%_rolling_vol'].dropna().tail(3).values"
   ]
  },
  {
   "cell_type": "code",
   "execution_count": 53,
   "id": "1f4fe257-15ea-43e1-b831-710d07733e49",
   "metadata": {},
   "outputs": [
    {
     "data": {
      "text/plain": [
       "array([-0.01742988, -0.02014006, -0.02156662])"
      ]
     },
     "execution_count": 53,
     "metadata": {},
     "output_type": "execute_result"
    }
   ],
   "source": [
    "def calc_ewma_volatility(excess_returns: pd.Series, theta , initial_vol) -> pd.Series:\n",
    "    if initial_vol is None: \n",
    "        var_t0 = excess_returns.var() # assumed to be the overall variance \n",
    "    else:\n",
    "        var_t0 = initial_vol ** 2  \n",
    "    ewma_var = [var_t0]\n",
    "    for i in range(len(excess_returns.index)):\n",
    "        new_ewma_var = ewma_var[-1] * theta + (excess_returns.iloc[i] ** 2) * (1 - theta)\n",
    "        ewma_var.append(new_ewma_var)\n",
    "    ewma_var.pop(0) # Remove var_t0\n",
    "    ewma_vol = [np.sqrt(v) for v in ewma_var]\n",
    "    return pd.Series(ewma_vol, index=excess_returns.index)\n",
    "    \n",
    "ewma_vol = calc_ewma_volatility(fx_df['JPY'], 0.94, 0.005)\n",
    "fx_df['Normal_VaR_1%_ewma_vol'] = z_score * ewma_vol\n",
    "fx_df['Normal_VaR_1%_ewma_vol'].dropna().tail(3).values\n"
   ]
  },
  {
   "cell_type": "markdown",
   "id": "a2f0c1cc-30de-476b-89f2-067e35904538",
   "metadata": {},
   "source": [
    "#### Q4"
   ]
  },
  {
   "cell_type": "code",
   "execution_count": 55,
   "id": "9eac7a28-7556-4924-ac9c-a3e581093874",
   "metadata": {},
   "outputs": [
    {
     "data": {
      "image/png": "[encoded data removed]",
      "text/plain": [
       "<Figure size 1000x600 with 1 Axes>"
      ]
     },
     "metadata": {},
     "output_type": "display_data"
    }
   ],
   "source": [
    "fx_df[['VaR_1%', 'Normal_VaR_1%_rolling_vol', 'Normal_VaR_1%_ewma_vol']].plot(figsize=(10, 6))\n",
    "\n",
    "plt.title(\"VaR Comparison: Empirical, Rolling Volatility, and EWMA Volatility\")\n",
    "plt.xlabel(\"Date\")\n",
    "plt.ylabel(\"VaR\")\n",
    "plt.legend([\"Empirical VaR\", \"Normal VaR (Rolling Vol)\", \"Normal VaR (EWMA Vol)\"])\n",
    "plt.grid(True)\n",
    "plt.show()"
   ]
  },
  {
   "cell_type": "markdown",
   "id": "5c5efe33-b4e3-41de-b162-814d3b207a32",
   "metadata": {},
   "source": [
    "#### Empirical VaR\n",
    "Pros:\n",
    "- Directly captures the real market conditions and is sensitive to any market events since its an expanding window of up to that point. Furthermore, this method does not follow a specific distribution, making it more flexible especially when normality does not hold.\n",
    "\n",
    "Cons:\n",
    "- However, this requires a large dataset especially since its at the 1% quantile for VaR to capture extreme events. Furthermore, this is unresponsive to recent volatility changes as all past data is treated equally regardless of market events. \n",
    "\n",
    "\n",
    "#### Normal VaR with Rolling Volatility (Normal_VaR_1%_rolling_vol)\n",
    "Pros:\n",
    "- Using rolling window estimates enable the calculation to be updated based on market conditions over the specified window of 233 days, smoothing out the volatility and reducing the short-term market noise. \n",
    "\n",
    "Cons:\n",
    "- This assumes returns are normally distributed which does not hold true in financial markets since there may be extreme market events or fat tails. \n",
    "- It also assumes that all returns in the window are equally important and does not account for volatility clustering.\n",
    "- Furthermore, the choice of the window size is critical and there needs to be a balance for short term vs long term trends. \n",
    "\n",
    "#### Normal VaR with EWMA Volatility (Normal_VaR_1%_ewma_vol)\n",
    "Pros:\n",
    "- EWMA assigns higher weights to more recent observations and can thus capture changes in volatility in the market. This makes it very responsive and thus captures volaility clustering which is common in FX markets. Furthermore, the exponential weighting reduces the impact of older returns and is more representative of current market conditions.\n",
    "\n",
    "Cons: \n",
    "- This assumes returns are normally distributed which does not hold true in financial markets since there may be extreme market events or fat tails. This causes an underestimation of tail risk.\n",
    "- The choice of lambda is important in balancing the recent vs past data. A lower lambda may make the estimate too volatile while a higher one will overtly smooth it and may cause it to underreact to changes. \n"
   ]
  },
  {
   "cell_type": "markdown",
   "id": "ce1a1a02-3b27-4202-9206-e10dba6d4203",
   "metadata": {},
   "source": [
    "#### Q5"
   ]
  },
  {
   "cell_type": "code",
   "execution_count": 58,
   "id": "47689f1a-3850-426c-a11a-19f73a3a6fcf",
   "metadata": {},
   "outputs": [
    {
     "name": "stdout",
     "output_type": "stream",
     "text": [
      "Hit Ratio (Rolling Volatility VaR): 0.0207\n",
      "Hit Ratio (EWMA Volatility VaR): 0.0115\n",
      "Hit Ratio (Empirical VaR): 0.0245\n"
     ]
    }
   ],
   "source": [
    "hit_ratio_rolling_vol = (fx_df['JPY'].loc[fx_df['Normal_VaR_1%_rolling_vol'].index] < fx_df['Normal_VaR_1%_rolling_vol']).mean()\n",
    "hit_ratio_ewma_vol = (fx_df['JPY'].loc[fx_df['Normal_VaR_1%_ewma_vol'].index] < fx_df['Normal_VaR_1%_ewma_vol']).mean()\n",
    "hit_ratio_empirical = (fx_df['JPY'].loc[fx_df['VaR_1%'].index] < fx_df['VaR_1%']).mean()\n",
    "\n",
    "print(f\"Hit Ratio (Rolling Volatility VaR): {hit_ratio_rolling_vol:.4f}\")\n",
    "print(f\"Hit Ratio (EWMA Volatility VaR): {hit_ratio_ewma_vol:.4f}\")\n",
    "print(f\"Hit Ratio (Empirical VaR): {hit_ratio_empirical:.4f}\")\n",
    "\n"
   ]
  },
  {
   "cell_type": "markdown",
   "id": "ae96eb62-678a-46e4-bc37-039bb548f803",
   "metadata": {},
   "source": [
    "The EWMA Volatility VaR seems to perform best based on the hit ratios as it is closest to the 1% quantile. "
   ]
  }
 ],
 "metadata": {
  "kernelspec": {
   "display_name": "Python 3 (ipykernel)",
   "language": "python",
   "name": "python3"
  },
  "language_info": {
   "codemirror_mode": {
    "name": "ipython",
    "version": 3
   },
   "file_extension": ".py",
   "mimetype": "text/x-python",
   "name": "python",
   "nbconvert_exporter": "python",
   "pygments_lexer": "ipython3",
   "version": "3.12.4"
  }
 },
 "nbformat": 4,
 "nbformat_minor": 5
}
