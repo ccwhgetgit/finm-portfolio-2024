{
 "cells": [
  {
   "cell_type": "code",
   "execution_count": 1,
   "id": "0d77a1e3-6a29-4359-b70a-7b75bda18aae",
   "metadata": {},
   "outputs": [
    {
     "data": {
      "text/html": [
       "<div>\n",
       "<style scoped>\n",
       "    .dataframe tbody tr th:only-of-type {\n",
       "        vertical-align: middle;\n",
       "    }\n",
       "\n",
       "    .dataframe tbody tr th {\n",
       "        vertical-align: top;\n",
       "    }\n",
       "\n",
       "    .dataframe thead th {\n",
       "        text-align: right;\n",
       "    }\n",
       "</style>\n",
       "<table border=\"1\" class=\"dataframe\">\n",
       "  <thead>\n",
       "    <tr style=\"text-align: right;\">\n",
       "      <th></th>\n",
       "      <th>MXN</th>\n",
       "      <th>SOFR</th>\n",
       "      <th>MXSTR</th>\n",
       "    </tr>\n",
       "    <tr>\n",
       "      <th>date</th>\n",
       "      <th></th>\n",
       "      <th></th>\n",
       "      <th></th>\n",
       "    </tr>\n",
       "  </thead>\n",
       "  <tbody>\n",
       "    <tr>\n",
       "      <th>2018-04-03</th>\n",
       "      <td>0.054959</td>\n",
       "      <td>0.000073</td>\n",
       "      <td>0.000298</td>\n",
       "    </tr>\n",
       "    <tr>\n",
       "      <th>2018-04-04</th>\n",
       "      <td>0.054852</td>\n",
       "      <td>0.000069</td>\n",
       "      <td>0.000298</td>\n",
       "    </tr>\n",
       "    <tr>\n",
       "      <th>2018-04-05</th>\n",
       "      <td>0.055166</td>\n",
       "      <td>0.000069</td>\n",
       "      <td>0.000298</td>\n",
       "    </tr>\n",
       "    <tr>\n",
       "      <th>2018-04-06</th>\n",
       "      <td>0.054558</td>\n",
       "      <td>0.000069</td>\n",
       "      <td>0.000298</td>\n",
       "    </tr>\n",
       "    <tr>\n",
       "      <th>2018-04-09</th>\n",
       "      <td>0.054871</td>\n",
       "      <td>0.000069</td>\n",
       "      <td>0.000298</td>\n",
       "    </tr>\n",
       "  </tbody>\n",
       "</table>\n",
       "</div>"
      ],
      "text/plain": [
       "                 MXN      SOFR     MXSTR\n",
       "date                                    \n",
       "2018-04-03  0.054959  0.000073  0.000298\n",
       "2018-04-04  0.054852  0.000069  0.000298\n",
       "2018-04-05  0.055166  0.000069  0.000298\n",
       "2018-04-06  0.054558  0.000069  0.000298\n",
       "2018-04-09  0.054871  0.000069  0.000298"
      ]
     },
     "execution_count": 1,
     "metadata": {},
     "output_type": "execute_result"
    }
   ],
   "source": [
    "import pandas as pd \n",
    "import numpy as np \n",
    "\n",
    "portfolio = pd.read_excel('./final_exam_data.xlsx',sheet_name='portfolio',index_col=0)\n",
    "forecasting = pd.read_excel('./final_exam_data.xlsx',sheet_name='forecasting',index_col=0)\n",
    "fx_carry = pd.read_excel('./final_exam_data.xlsx',sheet_name='fx_carry',index_col=0)\n",
    "fx_carry.head()"
   ]
  },
  {
   "cell_type": "markdown",
   "id": "c25d37b5-8929-40ba-9871-17a30c01f52e",
   "metadata": {},
   "source": [
    "## Portfolio"
   ]
  },
  {
   "cell_type": "code",
   "execution_count": 38,
   "id": "26dd3dab-a12a-44e3-8f60-53e9fdb3125d",
   "metadata": {},
   "outputs": [],
   "source": [
    "import numpy as np \n",
    "\n",
    "def tangency_weights(returns,dropna=True,scale_cov=1, name = 'Tangency'):\n",
    "    if dropna:\n",
    "        returns = returns.dropna()\n",
    "\n",
    "    covmat_full = returns.cov()\n",
    "    covmat_diag = np.diag(np.diag(covmat_full))\n",
    "    covmat = scale_cov * covmat_full + (1-scale_cov) * covmat_diag\n",
    "\n",
    "    weights = np.linalg.solve(covmat,returns.mean())\n",
    "    weights = weights / weights.sum()\n",
    "    tangency_weights_df = pd.DataFrame(weights, index=returns.columns, columns=[f'{name} Weights'])\n",
    "\n",
    "    return tangency_weights_df\n",
    "\n",
    "def equal_weights(returns): \n",
    "    return pd.DataFrame(index = returns.columns, data = 1/len(returns.columns), columns = ['EWP Weights'])\n",
    "\n",
    "def gmv_weights(returns):\n",
    "    ones = np.ones(returns.columns.shape)\n",
    "    cov = returns.cov()* annualization_factor\n",
    "    cov_inv = np.linalg.inv(cov)\n",
    "    scaling = 1/(np.transpose(ones) @ cov_inv @ ones)\n",
    "    gmv_tot = scaling * cov_inv @ ones\n",
    "    gmv_weights_df = pd.DataFrame(gmv_tot, index=returns.columns, columns=['GMV Weights'])\n",
    "    return gmv_weights_df\n",
    "\n",
    "def risk_parity_weights(returns): \n",
    "    asset_var = returns.var().to_dict() \n",
    "    asset_inv_variance_dict = {asset: 1 / variance for asset, variance in asset_var.items()}\n",
    "    rp_weights_df = pd.DataFrame.from_dict(asset_inv_variance_dict, orient='index', columns=['RP Weights'])\n",
    "    return rp_weights_df\n",
    "\n",
    "def calc_mv_portfolio(mean_rets, cov_matrix, target=None):\n",
    "    w_tan = tangency_weights(mean_rets)\n",
    "\n",
    "    if target is None:\n",
    "        return w_tan\n",
    "\n",
    "    w_gmv = gmv_weights(mean_rets)\n",
    "    delta = (target - mean_rets @ w_gmv) / (mean_rets @ w_tan - mean_rets @ w_gmv)\n",
    "    return delta * w_tan + (1 - delta) * w_gmv\n",
    "\n",
    "def mv_portfolio_excess_returns(target_ret, ex_ret):\n",
    "    \n",
    "    mu_tilde = ex_ret.copy().mean()\n",
    "    Sigma_adj = ex_ret.copy().cov()\n",
    "    Sigma_inv = np.linalg.inv(Sigma_adj)\n",
    "    N = Sigma_adj.shape[0]\n",
    "    delta_tilde = ((np.ones(N) @ Sigma_inv @ mu_tilde)/(mu_tilde @ Sigma_inv @ mu_tilde)) * target_ret\n",
    "    tan_wts = tangency_weights(ex_ret)\n",
    "    omega_star = delta_tilde * tan_wts\n",
    "    \n",
    "    return omega_star\n",
    "    \n",
    "\n",
    "def mv_portfolio(target_ret, tot_returns):\n",
    "    \n",
    "    mu_tan = tot_returns.mean() @ tangency_weights(tot_returns, scale_cov = 1)\n",
    "    mu_gmv = tot_returns.mean() @ gmv_weights(tot_returns)\n",
    "    \n",
    "    delta = (target_ret - mu_gmv[0])/(mu_tan[0] - mu_gmv[0])\n",
    "    mv_weights = (delta * tangency_weights(tot_returns, scale_cov = 1)).values + ((1-delta)*gmv_weights(tot_returns)).values\n",
    "    MV = pd.DataFrame(index = tot_returns.columns, data = mv_weights, columns = ['MV Weights'] )\n",
    "    MV['tangency weights'] =  tangency_weights(tot_returns, scale_cov = 1).values\n",
    "    MV['GMV weights'] =   gmv_weights(tot_returns).values\n",
    "\n",
    "    return MV\n",
    "\n"
   ]
  },
  {
   "cell_type": "code",
   "execution_count": 19,
   "id": "d902808a-238e-45cf-a90f-4c354fec8bf7",
   "metadata": {},
   "outputs": [
    {
     "ename": "NameError",
     "evalue": "name 'data' is not defined",
     "output_type": "error",
     "traceback": [
      "\u001b[0;31m---------------------------------------------------------------------------\u001b[0m",
      "\u001b[0;31mNameError\u001b[0m                                 Traceback (most recent call last)",
      "Cell \u001b[0;32mIn[19], line 4\u001b[0m\n\u001b[1;32m      1\u001b[0m \u001b[38;5;66;03m# normalize returns to his the target\u001b[39;00m\n\u001b[1;32m      3\u001b[0m target \u001b[38;5;241m=\u001b[39m \u001b[38;5;241m0.0025\u001b[39m\n\u001b[0;32m----> 4\u001b[0m tan_weights \u001b[38;5;241m=\u001b[39m tangency_weights(data)\n\u001b[1;32m      5\u001b[0m adjustment_factor \u001b[38;5;241m=\u001b[39m target \u001b[38;5;241m/\u001b[39m (data\u001b[38;5;241m.\u001b[39mmean() \u001b[38;5;241m@\u001b[39m tan_weights\u001b[38;5;241m.\u001b[39mvalues)\n\u001b[1;32m      6\u001b[0m tan_weights \u001b[38;5;241m*\u001b[39m\u001b[38;5;241m=\u001b[39m adjustment_factor\n",
      "\u001b[0;31mNameError\u001b[0m: name 'data' is not defined"
     ]
    }
   ],
   "source": [
    "# normalize returns to his the target\n",
    "\n",
    "target = 0.0025\n",
    "tan_weights = tangency_weights(data)\n",
    "adjustment_factor = target / (data.mean() @ tan_weights.values)\n",
    "tan_weights *= adjustment_factor\n",
    "tan_weights"
   ]
  },
  {
   "cell_type": "markdown",
   "id": "e456167c-468f-4b7a-b974-78655836247d",
   "metadata": {},
   "source": [
    "# Q1"
   ]
  },
  {
   "cell_type": "code",
   "execution_count": 20,
   "id": "43413cb1-9197-46ff-917c-e3b8d52484cd",
   "metadata": {},
   "outputs": [
    {
     "data": {
      "text/html": [
       "<div>\n",
       "<style scoped>\n",
       "    .dataframe tbody tr th:only-of-type {\n",
       "        vertical-align: middle;\n",
       "    }\n",
       "\n",
       "    .dataframe tbody tr th {\n",
       "        vertical-align: top;\n",
       "    }\n",
       "\n",
       "    .dataframe thead th {\n",
       "        text-align: right;\n",
       "    }\n",
       "</style>\n",
       "<table border=\"1\" class=\"dataframe\">\n",
       "  <thead>\n",
       "    <tr style=\"text-align: right;\">\n",
       "      <th></th>\n",
       "      <th>Tangency Weights</th>\n",
       "    </tr>\n",
       "  </thead>\n",
       "  <tbody>\n",
       "    <tr>\n",
       "      <th>SPY</th>\n",
       "      <td>0.479969</td>\n",
       "    </tr>\n",
       "    <tr>\n",
       "      <th>BTC</th>\n",
       "      <td>0.079311</td>\n",
       "    </tr>\n",
       "    <tr>\n",
       "      <th>USO</th>\n",
       "      <td>-0.024120</td>\n",
       "    </tr>\n",
       "    <tr>\n",
       "      <th>TLT</th>\n",
       "      <td>-0.022660</td>\n",
       "    </tr>\n",
       "    <tr>\n",
       "      <th>IEF</th>\n",
       "      <td>0.093716</td>\n",
       "    </tr>\n",
       "    <tr>\n",
       "      <th>IYR</th>\n",
       "      <td>-0.246719</td>\n",
       "    </tr>\n",
       "    <tr>\n",
       "      <th>GLD</th>\n",
       "      <td>0.200172</td>\n",
       "    </tr>\n",
       "  </tbody>\n",
       "</table>\n",
       "</div>"
      ],
      "text/plain": [
       "     Tangency Weights\n",
       "SPY          0.479969\n",
       "BTC          0.079311\n",
       "USO         -0.024120\n",
       "TLT         -0.022660\n",
       "IEF          0.093716\n",
       "IYR         -0.246719\n",
       "GLD          0.200172"
      ]
     },
     "execution_count": 20,
     "metadata": {},
     "output_type": "execute_result"
    }
   ],
   "source": [
    "target = 0.0025\n",
    "tan_weights = tangency_weights(portfolio)\n",
    "adjustment_factor = target / (portfolio.mean() @ tan_weights.values)\n",
    "tan_weights *= adjustment_factor\n",
    "tan_weights"
   ]
  },
  {
   "cell_type": "code",
   "execution_count": 21,
   "id": "d3644e76-b4da-4a4a-a843-c2823cb3fd3b",
   "metadata": {},
   "outputs": [
    {
     "data": {
      "text/html": [
       "<div>\n",
       "<style scoped>\n",
       "    .dataframe tbody tr th:only-of-type {\n",
       "        vertical-align: middle;\n",
       "    }\n",
       "\n",
       "    .dataframe tbody tr th {\n",
       "        vertical-align: top;\n",
       "    }\n",
       "\n",
       "    .dataframe thead th {\n",
       "        text-align: right;\n",
       "    }\n",
       "</style>\n",
       "<table border=\"1\" class=\"dataframe\">\n",
       "  <thead>\n",
       "    <tr style=\"text-align: right;\">\n",
       "      <th></th>\n",
       "      <th>Tangency Weights</th>\n",
       "    </tr>\n",
       "  </thead>\n",
       "  <tbody>\n",
       "    <tr>\n",
       "      <th>SPY</th>\n",
       "      <td>0.857595</td>\n",
       "    </tr>\n",
       "    <tr>\n",
       "      <th>BTC</th>\n",
       "      <td>0.141710</td>\n",
       "    </tr>\n",
       "    <tr>\n",
       "      <th>USO</th>\n",
       "      <td>-0.043098</td>\n",
       "    </tr>\n",
       "    <tr>\n",
       "      <th>TLT</th>\n",
       "      <td>-0.040488</td>\n",
       "    </tr>\n",
       "    <tr>\n",
       "      <th>IEF</th>\n",
       "      <td>0.167449</td>\n",
       "    </tr>\n",
       "    <tr>\n",
       "      <th>IYR</th>\n",
       "      <td>-0.440830</td>\n",
       "    </tr>\n",
       "    <tr>\n",
       "      <th>GLD</th>\n",
       "      <td>0.357662</td>\n",
       "    </tr>\n",
       "  </tbody>\n",
       "</table>\n",
       "</div>"
      ],
      "text/plain": [
       "     Tangency Weights\n",
       "SPY          0.857595\n",
       "BTC          0.141710\n",
       "USO         -0.043098\n",
       "TLT         -0.040488\n",
       "IEF          0.167449\n",
       "IYR         -0.440830\n",
       "GLD          0.357662"
      ]
     },
     "execution_count": 21,
     "metadata": {},
     "output_type": "execute_result"
    }
   ],
   "source": [
    "tangency_weights(portfolio)"
   ]
  },
  {
   "cell_type": "markdown",
   "id": "479c19c2-dd22-4401-ac55-a5c9ede13dee",
   "metadata": {},
   "source": [
    "(b)"
   ]
  },
  {
   "cell_type": "code",
   "execution_count": 45,
   "id": "742f9d50-e002-4c74-8f31-52cf0fa52296",
   "metadata": {},
   "outputs": [
    {
     "data": {
      "text/html": [
       "<div>\n",
       "<style scoped>\n",
       "    .dataframe tbody tr th:only-of-type {\n",
       "        vertical-align: middle;\n",
       "    }\n",
       "\n",
       "    .dataframe tbody tr th {\n",
       "        vertical-align: top;\n",
       "    }\n",
       "\n",
       "    .dataframe thead th {\n",
       "        text-align: right;\n",
       "    }\n",
       "</style>\n",
       "<table border=\"1\" class=\"dataframe\">\n",
       "  <thead>\n",
       "    <tr style=\"text-align: right;\">\n",
       "      <th></th>\n",
       "      <th>GMV Weights</th>\n",
       "    </tr>\n",
       "  </thead>\n",
       "  <tbody>\n",
       "    <tr>\n",
       "      <th>SPY</th>\n",
       "      <td>0.092076</td>\n",
       "    </tr>\n",
       "    <tr>\n",
       "      <th>BTC</th>\n",
       "      <td>-0.001009</td>\n",
       "    </tr>\n",
       "    <tr>\n",
       "      <th>USO</th>\n",
       "      <td>0.002750</td>\n",
       "    </tr>\n",
       "    <tr>\n",
       "      <th>TLT</th>\n",
       "      <td>-0.476953</td>\n",
       "    </tr>\n",
       "    <tr>\n",
       "      <th>IEF</th>\n",
       "      <td>1.427028</td>\n",
       "    </tr>\n",
       "    <tr>\n",
       "      <th>IYR</th>\n",
       "      <td>-0.041140</td>\n",
       "    </tr>\n",
       "    <tr>\n",
       "      <th>GLD</th>\n",
       "      <td>-0.002752</td>\n",
       "    </tr>\n",
       "  </tbody>\n",
       "</table>\n",
       "</div>"
      ],
      "text/plain": [
       "     GMV Weights\n",
       "SPY     0.092076\n",
       "BTC    -0.001009\n",
       "USO     0.002750\n",
       "TLT    -0.476953\n",
       "IEF     1.427028\n",
       "IYR    -0.041140\n",
       "GLD    -0.002752"
      ]
     },
     "execution_count": 45,
     "metadata": {},
     "output_type": "execute_result"
    }
   ],
   "source": [
    "annualization_factor = 52\n",
    "gmv_weights(portfolio)"
   ]
  },
  {
   "cell_type": "code",
   "execution_count": 37,
   "id": "e0fbb029-e5bf-4a7b-9a49-6516fcc25d73",
   "metadata": {},
   "outputs": [
    {
     "data": {
      "text/html": [
       "<div>\n",
       "<style scoped>\n",
       "    .dataframe tbody tr th:only-of-type {\n",
       "        vertical-align: middle;\n",
       "    }\n",
       "\n",
       "    .dataframe tbody tr th {\n",
       "        vertical-align: top;\n",
       "    }\n",
       "\n",
       "    .dataframe thead th {\n",
       "        text-align: right;\n",
       "    }\n",
       "</style>\n",
       "<table border=\"1\" class=\"dataframe\">\n",
       "  <thead>\n",
       "    <tr style=\"text-align: right;\">\n",
       "      <th></th>\n",
       "      <th>Tangency Weights</th>\n",
       "    </tr>\n",
       "  </thead>\n",
       "  <tbody>\n",
       "    <tr>\n",
       "      <th>SPY</th>\n",
       "      <td>0.479969</td>\n",
       "    </tr>\n",
       "    <tr>\n",
       "      <th>BTC</th>\n",
       "      <td>0.079311</td>\n",
       "    </tr>\n",
       "    <tr>\n",
       "      <th>USO</th>\n",
       "      <td>-0.024120</td>\n",
       "    </tr>\n",
       "    <tr>\n",
       "      <th>TLT</th>\n",
       "      <td>-0.022660</td>\n",
       "    </tr>\n",
       "    <tr>\n",
       "      <th>IEF</th>\n",
       "      <td>0.093716</td>\n",
       "    </tr>\n",
       "    <tr>\n",
       "      <th>IYR</th>\n",
       "      <td>-0.246719</td>\n",
       "    </tr>\n",
       "    <tr>\n",
       "      <th>GLD</th>\n",
       "      <td>0.200172</td>\n",
       "    </tr>\n",
       "  </tbody>\n",
       "</table>\n",
       "</div>"
      ],
      "text/plain": [
       "     Tangency Weights\n",
       "SPY          0.479969\n",
       "BTC          0.079311\n",
       "USO         -0.024120\n",
       "TLT         -0.022660\n",
       "IEF          0.093716\n",
       "IYR         -0.246719\n",
       "GLD          0.200172"
      ]
     },
     "execution_count": 37,
     "metadata": {},
     "output_type": "execute_result"
    }
   ],
   "source": [
    "    mv_portfolio_excess_returns(0.0025, portfolio)"
   ]
  },
  {
   "cell_type": "code",
   "execution_count": 30,
   "id": "7692ba12-716e-4a12-85d4-d429063e6e9c",
   "metadata": {},
   "outputs": [
    {
     "data": {
      "text/html": [
       "<div>\n",
       "<style scoped>\n",
       "    .dataframe tbody tr th:only-of-type {\n",
       "        vertical-align: middle;\n",
       "    }\n",
       "\n",
       "    .dataframe tbody tr th {\n",
       "        vertical-align: top;\n",
       "    }\n",
       "\n",
       "    .dataframe thead th {\n",
       "        text-align: right;\n",
       "    }\n",
       "</style>\n",
       "<table border=\"1\" class=\"dataframe\">\n",
       "  <thead>\n",
       "    <tr style=\"text-align: right;\">\n",
       "      <th></th>\n",
       "      <th>MV Weights</th>\n",
       "      <th>tangency weights</th>\n",
       "      <th>GMV weights</th>\n",
       "    </tr>\n",
       "  </thead>\n",
       "  <tbody>\n",
       "    <tr>\n",
       "      <th>SPY</th>\n",
       "      <td>0.498982</td>\n",
       "      <td>0.857595</td>\n",
       "      <td>0.092076</td>\n",
       "    </tr>\n",
       "    <tr>\n",
       "      <th>BTC</th>\n",
       "      <td>0.074852</td>\n",
       "      <td>0.141710</td>\n",
       "      <td>-0.001009</td>\n",
       "    </tr>\n",
       "    <tr>\n",
       "      <th>USO</th>\n",
       "      <td>-0.021620</td>\n",
       "      <td>-0.043098</td>\n",
       "      <td>0.002750</td>\n",
       "    </tr>\n",
       "    <tr>\n",
       "      <th>TLT</th>\n",
       "      <td>-0.244953</td>\n",
       "      <td>-0.040488</td>\n",
       "      <td>-0.476953</td>\n",
       "    </tr>\n",
       "    <tr>\n",
       "      <th>IEF</th>\n",
       "      <td>0.757509</td>\n",
       "      <td>0.167449</td>\n",
       "      <td>1.427028</td>\n",
       "    </tr>\n",
       "    <tr>\n",
       "      <th>IYR</th>\n",
       "      <td>-0.253592</td>\n",
       "      <td>-0.440830</td>\n",
       "      <td>-0.041140</td>\n",
       "    </tr>\n",
       "    <tr>\n",
       "      <th>GLD</th>\n",
       "      <td>0.188823</td>\n",
       "      <td>0.357662</td>\n",
       "      <td>-0.002752</td>\n",
       "    </tr>\n",
       "  </tbody>\n",
       "</table>\n",
       "</div>"
      ],
      "text/plain": [
       "     MV Weights  tangency weights  GMV weights\n",
       "SPY    0.498982          0.857595     0.092076\n",
       "BTC    0.074852          0.141710    -0.001009\n",
       "USO   -0.021620         -0.043098     0.002750\n",
       "TLT   -0.244953         -0.040488    -0.476953\n",
       "IEF    0.757509          0.167449     1.427028\n",
       "IYR   -0.253592         -0.440830    -0.041140\n",
       "GLD    0.188823          0.357662    -0.002752"
      ]
     },
     "execution_count": 30,
     "metadata": {},
     "output_type": "execute_result"
    }
   ],
   "source": [
    "def mv_portfolio(target_ret, tot_returns):\n",
    "    \n",
    "    mu_tan = tot_returns.mean() @ tangency_weights(tot_returns, scale_cov = 1)\n",
    "    mu_gmv = tot_returns.mean() @ gmv_weights(tot_returns)\n",
    "    \n",
    "    delta = (target_ret - mu_gmv[0])/(mu_tan[0] - mu_gmv[0])\n",
    "    mv_weights = (delta * tangency_weights(tot_returns, scale_cov = 1)).values + ((1-delta)*gmv_weights(tot_returns)).values\n",
    "    MV = pd.DataFrame(index = tot_returns.columns, data = mv_weights, columns = ['MV Weights'] )\n",
    "    MV['tangency weights'] =  tangency_weights(tot_returns, scale_cov = 1).values\n",
    "    MV['GMV weights'] =   gmv_weights(tot_returns).values\n",
    "\n",
    "    return MV\n",
    "    \n",
    "mv_portfolio(0.0025, portfolio)\n"
   ]
  },
  {
   "cell_type": "markdown",
   "id": "9abf2aa8-0c5e-442d-9544-c98d58764ef7",
   "metadata": {},
   "source": [
    "(c)\n",
    "- part 1 involves excess returns which is net of risk free rates while part 2 involves totla returns.\n",
    "- Excess Returns Approach:\n",
    "\n",
    "Takes into account the presence of a risk-free asset, which shifts the efficient frontier by incorporating the risk-free rate.\n",
    "The tangency portfolio includes leverage if the Sharpe ratio is high, assuming the investor can borrow/lend at the risk-free rate.\n",
    "\n",
    "- Total Returns Approach:\n",
    "\n",
    "Assumes no risk-free rate is available, or it is ignored for simplicity.\n",
    "The GMV portfolio minimizes total portfolio risk, regardless of return.\n",
    "The MV portfolio with a target return focuses solely on absolute returns, without considering excess return over a risk-free rate.\n",
    " "
   ]
  },
  {
   "cell_type": "code",
   "execution_count": 41,
   "id": "a9504eec-97bc-44f9-a850-f18ca4062e53",
   "metadata": {},
   "outputs": [
    {
     "data": {
      "text/html": [
       "<div>\n",
       "<style scoped>\n",
       "    .dataframe tbody tr th:only-of-type {\n",
       "        vertical-align: middle;\n",
       "    }\n",
       "\n",
       "    .dataframe tbody tr th {\n",
       "        vertical-align: top;\n",
       "    }\n",
       "\n",
       "    .dataframe thead th {\n",
       "        text-align: right;\n",
       "    }\n",
       "</style>\n",
       "<table border=\"1\" class=\"dataframe\">\n",
       "  <thead>\n",
       "    <tr style=\"text-align: right;\">\n",
       "      <th></th>\n",
       "      <th>Tangency Weights</th>\n",
       "    </tr>\n",
       "  </thead>\n",
       "  <tbody>\n",
       "    <tr>\n",
       "      <th>SPY</th>\n",
       "      <td>0.975792</td>\n",
       "    </tr>\n",
       "    <tr>\n",
       "      <th>USO</th>\n",
       "      <td>-0.034911</td>\n",
       "    </tr>\n",
       "    <tr>\n",
       "      <th>TLT</th>\n",
       "      <td>0.012283</td>\n",
       "    </tr>\n",
       "    <tr>\n",
       "      <th>IEF</th>\n",
       "      <td>0.071743</td>\n",
       "    </tr>\n",
       "    <tr>\n",
       "      <th>IYR</th>\n",
       "      <td>-0.483277</td>\n",
       "    </tr>\n",
       "    <tr>\n",
       "      <th>GLD</th>\n",
       "      <td>0.458370</td>\n",
       "    </tr>\n",
       "  </tbody>\n",
       "</table>\n",
       "</div>"
      ],
      "text/plain": [
       "     Tangency Weights\n",
       "SPY          0.975792\n",
       "USO         -0.034911\n",
       "TLT          0.012283\n",
       "IEF          0.071743\n",
       "IYR         -0.483277\n",
       "GLD          0.458370"
      ]
     },
     "execution_count": 41,
     "metadata": {},
     "output_type": "execute_result"
    }
   ],
   "source": [
    "# (d)\n",
    "\n",
    "portfolio_copy = portfolio.drop(columns = ['BTC'])\n",
    "tangency_weights(portfolio_copy)"
   ]
  },
  {
   "cell_type": "code",
   "execution_count": 84,
   "id": "8ff7b2f1-21c9-43ca-b9a1-9b58e90cd291",
   "metadata": {},
   "outputs": [],
   "source": [
    "in_sample = portfolio_copy.loc[:'2021',:]\n",
    "oo_sample = portfolio_copy.loc['2022':'2023':]\n"
   ]
  },
  {
   "cell_type": "code",
   "execution_count": 91,
   "id": "e13ed252-8c19-4609-8c8e-2d5b0040967e",
   "metadata": {},
   "outputs": [
    {
     "data": {
      "text/html": [
       "<div>\n",
       "<style scoped>\n",
       "    .dataframe tbody tr th:only-of-type {\n",
       "        vertical-align: middle;\n",
       "    }\n",
       "\n",
       "    .dataframe tbody tr th {\n",
       "        vertical-align: top;\n",
       "    }\n",
       "\n",
       "    .dataframe thead th {\n",
       "        text-align: right;\n",
       "    }\n",
       "</style>\n",
       "<table border=\"1\" class=\"dataframe\">\n",
       "  <thead>\n",
       "    <tr style=\"text-align: right;\">\n",
       "      <th></th>\n",
       "      <th>Tangency Weights</th>\n",
       "    </tr>\n",
       "  </thead>\n",
       "  <tbody>\n",
       "    <tr>\n",
       "      <th>SPY</th>\n",
       "      <td>0.708230</td>\n",
       "    </tr>\n",
       "    <tr>\n",
       "      <th>USO</th>\n",
       "      <td>-0.034790</td>\n",
       "    </tr>\n",
       "    <tr>\n",
       "      <th>TLT</th>\n",
       "      <td>-0.279598</td>\n",
       "    </tr>\n",
       "    <tr>\n",
       "      <th>IEF</th>\n",
       "      <td>1.712950</td>\n",
       "    </tr>\n",
       "    <tr>\n",
       "      <th>IYR</th>\n",
       "      <td>-0.252887</td>\n",
       "    </tr>\n",
       "    <tr>\n",
       "      <th>GLD</th>\n",
       "      <td>0.023858</td>\n",
       "    </tr>\n",
       "  </tbody>\n",
       "</table>\n",
       "</div>"
      ],
      "text/plain": [
       "     Tangency Weights\n",
       "SPY          0.708230\n",
       "USO         -0.034790\n",
       "TLT         -0.279598\n",
       "IEF          1.712950\n",
       "IYR         -0.252887\n",
       "GLD          0.023858"
      ]
     },
     "execution_count": 91,
     "metadata": {},
     "output_type": "execute_result"
    }
   ],
   "source": [
    "target = 0.0025\n",
    "tan_weights = tangency_weights(in_sample)\n",
    "adjustment_factor = target / (in_sample.mean() @ tan_weights.values)\n",
    "tan_weights *= adjustment_factor\n",
    "is_weights = tan_weights\n",
    "is_weights\n"
   ]
  },
  {
   "cell_type": "code",
   "execution_count": 92,
   "id": "0a6541b0-41f5-44b8-9286-f1e162e04a48",
   "metadata": {},
   "outputs": [],
   "source": [
    "oos_returns = oo_sample @ is_weights\n"
   ]
  },
  {
   "cell_type": "code",
   "execution_count": 63,
   "id": "966da8ca-f6b7-4f97-bdaf-ca1ff531ba65",
   "metadata": {},
   "outputs": [],
   "source": [
    "def portfolio_metrics_basic(returns: pd.DataFrame, annualization_factor: float) -> pd.DataFrame: \n",
    "    '''\n",
    "    Returns Annualized ER, Vol, SR, \n",
    "    '''\n",
    "    \n",
    "    returns_df = pd.DataFrame(index = returns.columns) \n",
    "    mu = returns.mean() * annualization_factor\n",
    "    vol = returns.std() * np.sqrt(annualization_factor)\n",
    "    sr = mu / vol\n",
    "\n",
    "    \n",
    "    returns_df['Annnualized Return'] = mu.values \n",
    "    returns_df['Annnualized Vol'] = vol.values \n",
    "    returns_df['Annnualized SR'] = sr.values\n",
    "    \n",
    "    return returns_df\n"
   ]
  },
  {
   "cell_type": "code",
   "execution_count": 107,
   "id": "e74978d1-6b41-4817-bdf7-51e0c8128f00",
   "metadata": {},
   "outputs": [
    {
     "ename": "NameError",
     "evalue": "name 'oos_returns' is not defined",
     "output_type": "error",
     "traceback": [
      "\u001b[0;31m---------------------------------------------------------------------------\u001b[0m",
      "\u001b[0;31mNameError\u001b[0m                                 Traceback (most recent call last)",
      "Cell \u001b[0;32mIn[107], line 1\u001b[0m\n\u001b[0;32m----> 1\u001b[0m portfolio_metrics_basic(oos_returns, annualization_factor)\n",
      "\u001b[0;31mNameError\u001b[0m: name 'oos_returns' is not defined"
     ]
    }
   ],
   "source": [
    "portfolio_metrics_basic(oos_returns, annualization_factor)\n"
   ]
  },
  {
   "cell_type": "code",
   "execution_count": 95,
   "id": "765eedfb-746d-4cbe-9b55-8198c9119c57",
   "metadata": {},
   "outputs": [
    {
     "data": {
      "text/html": [
       "<div>\n",
       "<style scoped>\n",
       "    .dataframe tbody tr th:only-of-type {\n",
       "        vertical-align: middle;\n",
       "    }\n",
       "\n",
       "    .dataframe tbody tr th {\n",
       "        vertical-align: top;\n",
       "    }\n",
       "\n",
       "    .dataframe thead th {\n",
       "        text-align: right;\n",
       "    }\n",
       "</style>\n",
       "<table border=\"1\" class=\"dataframe\">\n",
       "  <thead>\n",
       "    <tr style=\"text-align: right;\">\n",
       "      <th></th>\n",
       "      <th>Annnualized Return</th>\n",
       "      <th>Annnualized Vol</th>\n",
       "      <th>Annnualized SR</th>\n",
       "    </tr>\n",
       "  </thead>\n",
       "  <tbody>\n",
       "    <tr>\n",
       "      <th>EWP Weights</th>\n",
       "      <td>-0.036569</td>\n",
       "      <td>0.183591</td>\n",
       "      <td>-0.199185</td>\n",
       "    </tr>\n",
       "  </tbody>\n",
       "</table>\n",
       "</div>"
      ],
      "text/plain": [
       "             Annnualized Return  Annnualized Vol  Annnualized SR\n",
       "EWP Weights           -0.036569         0.183591       -0.199185"
      ]
     },
     "execution_count": 95,
     "metadata": {},
     "output_type": "execute_result"
    }
   ],
   "source": [
    "ewp = equal_weights(in_sample)\n",
    "adjustment_factor = target / (in_sample.mean() @ ewp.values)\n",
    "ewp *= adjustment_factor\n",
    "oos_weights = ewp\n",
    "oos_returns = oo_sample @ ewp\n",
    "portfolio_metrics_basic(oos_returns, annualization_factor)"
   ]
  },
  {
   "cell_type": "markdown",
   "id": "37c80dfd-45dc-4cb7-9f5b-5fec92f36145",
   "metadata": {},
   "source": [
    "The EWP portfolio performed better with an improved annualized SR and higher expected return, despite experiencing a higher volatility as ell. "
   ]
  },
  {
   "cell_type": "markdown",
   "id": "bb9da2b7-e3b0-4c8f-9656-94554a53581c",
   "metadata": {},
   "source": [
    "# Q3"
   ]
  },
  {
   "cell_type": "code",
   "execution_count": 45,
   "id": "9a3c475f-b967-46e5-9783-8f21d33c604b",
   "metadata": {},
   "outputs": [
    {
     "data": {
      "text/html": [
       "<div>\n",
       "<style scoped>\n",
       "    .dataframe tbody tr th:only-of-type {\n",
       "        vertical-align: middle;\n",
       "    }\n",
       "\n",
       "    .dataframe tbody tr th {\n",
       "        vertical-align: top;\n",
       "    }\n",
       "\n",
       "    .dataframe thead th {\n",
       "        text-align: right;\n",
       "    }\n",
       "</style>\n",
       "<table border=\"1\" class=\"dataframe\">\n",
       "  <thead>\n",
       "    <tr style=\"text-align: right;\">\n",
       "      <th></th>\n",
       "      <th>USO</th>\n",
       "      <th>Tnote rate</th>\n",
       "      <th>Tnote rate change</th>\n",
       "    </tr>\n",
       "    <tr>\n",
       "      <th>date</th>\n",
       "      <th></th>\n",
       "      <th></th>\n",
       "      <th></th>\n",
       "    </tr>\n",
       "  </thead>\n",
       "  <tbody>\n",
       "    <tr>\n",
       "      <th>2009-05-31</th>\n",
       "      <td>0.271394</td>\n",
       "      <td>3.465</td>\n",
       "      <td>0.341</td>\n",
       "    </tr>\n",
       "    <tr>\n",
       "      <th>2009-06-30</th>\n",
       "      <td>0.042033</td>\n",
       "      <td>3.523</td>\n",
       "      <td>0.058</td>\n",
       "    </tr>\n",
       "    <tr>\n",
       "      <th>2009-07-31</th>\n",
       "      <td>-0.029528</td>\n",
       "      <td>3.501</td>\n",
       "      <td>-0.022</td>\n",
       "    </tr>\n",
       "    <tr>\n",
       "      <th>2009-08-31</th>\n",
       "      <td>-0.020647</td>\n",
       "      <td>3.401</td>\n",
       "      <td>-0.100</td>\n",
       "    </tr>\n",
       "    <tr>\n",
       "      <th>2009-09-30</th>\n",
       "      <td>0.003883</td>\n",
       "      <td>3.307</td>\n",
       "      <td>-0.094</td>\n",
       "    </tr>\n",
       "  </tbody>\n",
       "</table>\n",
       "</div>"
      ],
      "text/plain": [
       "                 USO  Tnote rate  Tnote rate change\n",
       "date                                               \n",
       "2009-05-31  0.271394       3.465              0.341\n",
       "2009-06-30  0.042033       3.523              0.058\n",
       "2009-07-31 -0.029528       3.501             -0.022\n",
       "2009-08-31 -0.020647       3.401             -0.100\n",
       "2009-09-30  0.003883       3.307             -0.094"
      ]
     },
     "execution_count": 45,
     "metadata": {},
     "output_type": "execute_result"
    }
   ],
   "source": [
    "forecasting.head()"
   ]
  },
  {
   "cell_type": "code",
   "execution_count": 46,
   "id": "935e2832-45d0-4197-bd8f-d44bc84021e2",
   "metadata": {},
   "outputs": [
    {
     "data": {
      "text/plain": [
       "0.02813716766965546"
      ]
     },
     "execution_count": 46,
     "metadata": {},
     "output_type": "execute_result"
    }
   ],
   "source": [
    "forecast_copy = forecasting.copy() \n",
    "forecast_copy[['Tnote rate shifted', 'Tnote rate change shifted']] = forecasting[['Tnote rate', 'Tnote rate change']].shift()\n",
    "forecast_copy = forecast_copy.dropna()\n",
    "import statsmodels.api as sm \n",
    "y = forecast_copy['USO'] \n",
    "x = forecast_copy[['Tnote rate shifted', 'Tnote rate change shifted']] \n",
    "model = sm.OLS(y,sm.add_constant(x)).fit()\n",
    "model.rsquared"
   ]
  },
  {
   "cell_type": "code",
   "execution_count": 58,
   "id": "70b1afba-af34-4c02-b18c-6b8811239bba",
   "metadata": {},
   "outputs": [],
   "source": [
    "def time_series_regression(portfolio, factors, alpha = True, multiple_factors = False, resid = False, annualization = 12):\n",
    "    \n",
    "    ff_report = pd.DataFrame(index=portfolio.columns)\n",
    "    bm_residuals = pd.DataFrame(columns=portfolio.columns)\n",
    "\n",
    "    if alpha: \n",
    "        rhs = sm.add_constant(factors)\n",
    "    else: \n",
    "        rhs = factors\n",
    "\n",
    "    for portf in portfolio.columns:\n",
    "        lhs = portfolio[portf]\n",
    "        res = sm.OLS(lhs, rhs, missing='drop').fit()\n",
    "        ff_report.loc[portf, 'alpha_hat'] = res.params['const'] # Note: alpha is not annualized\n",
    "        if multiple_factors:\n",
    "            ff_report.loc[portf, factors.columns[0] + ' beta'] = res.params[1]\n",
    "            ff_report.loc[portf, factors.columns[1]+ ' beta'] = res.params[2] \n",
    "        else:\n",
    "            print(res.params[1])\n",
    "            ff_report.loc[portf, factors.columns[0] + ' beta'] = res.params[1]\n",
    "\n",
    "            \n",
    "        ff_report.loc[portf, 'info_ratio'] = np.sqrt(12) * res.params['const'] / res.resid.std()\n",
    "        ff_report.loc[portf, 'treynor_ratio'] =  annualization* portfolio[portf].mean() / res.params[1]\n",
    "        ff_report.loc[portf, 'R-squared'] = res.rsquared\n",
    "        ff_report.loc[portf, 'Tracking Error'] = (res.resid.std()*np.sqrt(12))\n",
    "\n",
    "        if resid:\n",
    "            bm_residuals[portf] = res.resid\n",
    "            \n",
    "            \n",
    "        \n",
    "    if resid:\n",
    "        return bm_residuals\n",
    "        \n",
    "    return ff_report"
   ]
  },
  {
   "cell_type": "code",
   "execution_count": 59,
   "id": "d184b387-097f-4736-a269-fbf348d2e40b",
   "metadata": {},
   "outputs": [
    {
     "data": {
      "text/html": [
       "<div>\n",
       "<style scoped>\n",
       "    .dataframe tbody tr th:only-of-type {\n",
       "        vertical-align: middle;\n",
       "    }\n",
       "\n",
       "    .dataframe tbody tr th {\n",
       "        vertical-align: top;\n",
       "    }\n",
       "\n",
       "    .dataframe thead th {\n",
       "        text-align: right;\n",
       "    }\n",
       "</style>\n",
       "<table border=\"1\" class=\"dataframe\">\n",
       "  <thead>\n",
       "    <tr style=\"text-align: right;\">\n",
       "      <th></th>\n",
       "      <th>alpha_hat</th>\n",
       "      <th>Tnote rate beta</th>\n",
       "      <th>Tnote rate change beta</th>\n",
       "      <th>info_ratio</th>\n",
       "      <th>treynor_ratio</th>\n",
       "      <th>R-squared</th>\n",
       "      <th>Tracking Error</th>\n",
       "    </tr>\n",
       "  </thead>\n",
       "  <tbody>\n",
       "    <tr>\n",
       "      <th>USO</th>\n",
       "      <td>0.02012</td>\n",
       "      <td>-0.009569</td>\n",
       "      <td>0.074061</td>\n",
       "      <td>0.687085</td>\n",
       "      <td>0.440459</td>\n",
       "      <td>0.028137</td>\n",
       "      <td>0.351405</td>\n",
       "    </tr>\n",
       "  </tbody>\n",
       "</table>\n",
       "</div>"
      ],
      "text/plain": [
       "     alpha_hat  Tnote rate beta  Tnote rate change beta  info_ratio  \\\n",
       "USO    0.02012        -0.009569                0.074061    0.687085   \n",
       "\n",
       "     treynor_ratio  R-squared  Tracking Error  \n",
       "USO       0.440459   0.028137        0.351405  "
      ]
     },
     "execution_count": 59,
     "metadata": {},
     "output_type": "execute_result"
    }
   ],
   "source": [
    "USO = forecasting.loc[:,['USO']]\n",
    "signal = ['Tnote rate','Tnote rate change']\n",
    "factors = forecasting.loc[:,['Tnote rate','Tnote rate change']].shift(1)\n",
    "signal_reg = time_series_regression(USO, factors, alpha = True, multiple_factors=True, resid=False)\n",
    "signal_reg"
   ]
  },
  {
   "cell_type": "code",
   "execution_count": 60,
   "id": "1ed14bee-c4bb-483d-8262-50f5c45221f6",
   "metadata": {},
   "outputs": [
    {
     "name": "stderr",
     "output_type": "stream",
     "text": [
      "/var/folders/qq/h84pzsw93xbd60q11ssc5v640000gn/T/ipykernel_1454/1586364897.py:7: FutureWarning: Calling float on a single element Series is deprecated and will raise a TypeError in the future. Use float(ser.iloc[0]) instead\n",
      "  float(signal_reg['alpha_hat']))*50 + 0.5\n"
     ]
    },
    {
     "data": {
      "text/html": [
       "<div>\n",
       "<style scoped>\n",
       "    .dataframe tbody tr th:only-of-type {\n",
       "        vertical-align: middle;\n",
       "    }\n",
       "\n",
       "    .dataframe tbody tr th {\n",
       "        vertical-align: top;\n",
       "    }\n",
       "\n",
       "    .dataframe thead th {\n",
       "        text-align: right;\n",
       "    }\n",
       "</style>\n",
       "<table border=\"1\" class=\"dataframe\">\n",
       "  <thead>\n",
       "    <tr style=\"text-align: right;\">\n",
       "      <th></th>\n",
       "      <th>Forecasted Return</th>\n",
       "    </tr>\n",
       "    <tr>\n",
       "      <th>date</th>\n",
       "      <th></th>\n",
       "    </tr>\n",
       "  </thead>\n",
       "  <tbody>\n",
       "    <tr>\n",
       "      <th>2009-06-30</th>\n",
       "      <td>0.046697</td>\n",
       "    </tr>\n",
       "    <tr>\n",
       "      <th>2009-07-31</th>\n",
       "      <td>-0.001041</td>\n",
       "    </tr>\n",
       "    <tr>\n",
       "      <th>2009-08-31</th>\n",
       "      <td>0.005171</td>\n",
       "    </tr>\n",
       "    <tr>\n",
       "      <th>2009-09-30</th>\n",
       "      <td>-0.001909</td>\n",
       "    </tr>\n",
       "    <tr>\n",
       "      <th>2009-10-31</th>\n",
       "      <td>-0.036695</td>\n",
       "    </tr>\n",
       "    <tr>\n",
       "      <th>...</th>\n",
       "      <td>...</td>\n",
       "    </tr>\n",
       "    <tr>\n",
       "      <th>2023-07-31</th>\n",
       "      <td>0.053407</td>\n",
       "    </tr>\n",
       "    <tr>\n",
       "      <th>2023-08-31</th>\n",
       "      <td>0.003366</td>\n",
       "    </tr>\n",
       "    <tr>\n",
       "      <th>2023-09-30</th>\n",
       "      <td>0.003397</td>\n",
       "    </tr>\n",
       "    <tr>\n",
       "      <th>2023-10-31</th>\n",
       "      <td>-0.079126</td>\n",
       "    </tr>\n",
       "    <tr>\n",
       "      <th>2023-11-30</th>\n",
       "      <td>-0.009729</td>\n",
       "    </tr>\n",
       "  </tbody>\n",
       "</table>\n",
       "<p>174 rows × 1 columns</p>\n",
       "</div>"
      ],
      "text/plain": [
       "            Forecasted Return\n",
       "date                         \n",
       "2009-06-30           0.046697\n",
       "2009-07-31          -0.001041\n",
       "2009-08-31           0.005171\n",
       "2009-09-30          -0.001909\n",
       "2009-10-31          -0.036695\n",
       "...                       ...\n",
       "2023-07-31           0.053407\n",
       "2023-08-31           0.003366\n",
       "2023-09-30           0.003397\n",
       "2023-10-31          -0.079126\n",
       "2023-11-30          -0.009729\n",
       "\n",
       "[174 rows x 1 columns]"
      ]
     },
     "execution_count": 60,
     "metadata": {},
     "output_type": "execute_result"
    }
   ],
   "source": [
    "forecasted_rets = (np.array(forecasting.shift(1).loc[:,['Tnote rate','Tnote rate change']]) \n",
    "                   @ np.array(signal_reg.loc[:,['Tnote rate beta','Tnote rate change beta']].T))\n",
    "\n",
    "forecast_ret = (pd.DataFrame(forecasted_rets,columns = ['Forecasted Return'],index= forecasting.index)) \n",
    "\n",
    "forecast_ret['Forecasted Return'] = (forecast_ret['Forecasted Return'] + \n",
    "                                     float(signal_reg['alpha_hat']))*50 + 0.5\n",
    "\n",
    "strat = pd.DataFrame(forecast_ret['Forecasted Return'] * forecasting.loc[:,['USO']]['USO'], \n",
    "                     columns=forecast_ret.columns, \n",
    "                     index=forecast_ret.index).dropna()\n",
    "strat"
   ]
  },
  {
   "cell_type": "code",
   "execution_count": 65,
   "id": "e6aa0a78-4bea-4c92-820c-cfcab6d7f000",
   "metadata": {},
   "outputs": [
    {
     "data": {
      "text/html": [
       "<div>\n",
       "<style scoped>\n",
       "    .dataframe tbody tr th:only-of-type {\n",
       "        vertical-align: middle;\n",
       "    }\n",
       "\n",
       "    .dataframe tbody tr th {\n",
       "        vertical-align: top;\n",
       "    }\n",
       "\n",
       "    .dataframe thead th {\n",
       "        text-align: right;\n",
       "    }\n",
       "</style>\n",
       "<table border=\"1\" class=\"dataframe\">\n",
       "  <thead>\n",
       "    <tr style=\"text-align: right;\">\n",
       "      <th></th>\n",
       "      <th>Annnualized Return</th>\n",
       "      <th>Annnualized Vol</th>\n",
       "      <th>Annnualized SR</th>\n",
       "    </tr>\n",
       "  </thead>\n",
       "  <tbody>\n",
       "    <tr>\n",
       "      <th>Forecasted Return</th>\n",
       "      <td>0.168447</td>\n",
       "      <td>0.3066</td>\n",
       "      <td>0.549401</td>\n",
       "    </tr>\n",
       "  </tbody>\n",
       "</table>\n",
       "</div>"
      ],
      "text/plain": [
       "                   Annnualized Return  Annnualized Vol  Annnualized SR\n",
       "Forecasted Return            0.168447           0.3066        0.549401"
      ]
     },
     "execution_count": 65,
     "metadata": {},
     "output_type": "execute_result"
    }
   ],
   "source": [
    "portfolio_metrics_basic(strat, 12)"
   ]
  },
  {
   "cell_type": "code",
   "execution_count": 66,
   "id": "f377a996-6fd6-4664-9cb5-349580eedd80",
   "metadata": {},
   "outputs": [
    {
     "name": "stdout",
     "output_type": "stream",
     "text": [
      "0.23541390364566062\n"
     ]
    },
    {
     "data": {
      "text/html": [
       "<div>\n",
       "<style scoped>\n",
       "    .dataframe tbody tr th:only-of-type {\n",
       "        vertical-align: middle;\n",
       "    }\n",
       "\n",
       "    .dataframe tbody tr th {\n",
       "        vertical-align: top;\n",
       "    }\n",
       "\n",
       "    .dataframe thead th {\n",
       "        text-align: right;\n",
       "    }\n",
       "</style>\n",
       "<table border=\"1\" class=\"dataframe\">\n",
       "  <thead>\n",
       "    <tr style=\"text-align: right;\">\n",
       "      <th></th>\n",
       "      <th>alpha_hat</th>\n",
       "      <th>USO beta</th>\n",
       "      <th>info_ratio</th>\n",
       "      <th>treynor_ratio</th>\n",
       "      <th>R-squared</th>\n",
       "      <th>Tracking Error</th>\n",
       "    </tr>\n",
       "  </thead>\n",
       "  <tbody>\n",
       "    <tr>\n",
       "      <th>Forecasted Return</th>\n",
       "      <td>0.014488</td>\n",
       "      <td>0.235414</td>\n",
       "      <td>0.589537</td>\n",
       "      <td>0.715534</td>\n",
       "      <td>0.074908</td>\n",
       "      <td>0.294893</td>\n",
       "    </tr>\n",
       "  </tbody>\n",
       "</table>\n",
       "</div>"
      ],
      "text/plain": [
       "                   alpha_hat  USO beta  info_ratio  treynor_ratio  R-squared  \\\n",
       "Forecasted Return   0.014488  0.235414    0.589537       0.715534   0.074908   \n",
       "\n",
       "                   Tracking Error  \n",
       "Forecasted Return        0.294893  "
      ]
     },
     "execution_count": 66,
     "metadata": {},
     "output_type": "execute_result"
    }
   ],
   "source": [
    "# amount of USO relative to the returns \n",
    "x = forecasting.loc[:,['USO']].iloc[1:]\n",
    "y = strat\n",
    "reg = time_series_regression(y,x, alpha = True, multiple_factors=False, resid=False)\n",
    "reg"
   ]
  },
  {
   "cell_type": "code",
   "execution_count": 67,
   "id": "62f7b5f3-3879-4e3d-a7c3-af491ae15ccc",
   "metadata": {},
   "outputs": [
    {
     "data": {
      "text/plain": [
       "(3.4238917755922564, 1.554896390047211, 2.2020063828743583)"
      ]
     },
     "execution_count": 67,
     "metadata": {},
     "output_type": "execute_result"
    }
   ],
   "source": [
    "beta = reg.loc['Forecasted Return', 'USO beta']\n",
    "hedged = beta * x \n",
    "returns = hedged['USO'] + y['Forecasted Return']\n",
    "mu = returns.mean() * annualization_factor\n",
    "vol = returns.std() * np.sqrt(annualization_factor)\n",
    "sr = mu / vol\n",
    "mu, vol, sr"
   ]
  },
  {
   "cell_type": "markdown",
   "id": "010dfae7-d7a0-4973-ad9d-841cc3bb713b",
   "metadata": {},
   "source": [
    "- Hedge Ratio = 0.235 to hedge\n",
    "- 3.42%"
   ]
  },
  {
   "cell_type": "code",
   "execution_count": 97,
   "id": "f70d38df-7dcd-4cf9-8788-d031093a88d6",
   "metadata": {},
   "outputs": [
    {
     "data": {
      "text/plain": [
       "date\n",
       "2018-01-31   -0.007559\n",
       "2018-02-28    0.002248\n",
       "2018-03-31   -0.005113\n",
       "2018-04-30   -0.011960\n",
       "2018-05-31   -0.002330\n",
       "                ...   \n",
       "2023-07-31   -0.006231\n",
       "2023-08-31   -0.006372\n",
       "2023-09-30   -0.007037\n",
       "2023-10-31    0.019210\n",
       "2023-11-30   -0.002345\n",
       "Length: 71, dtype: float64"
      ]
     },
     "execution_count": 97,
     "metadata": {},
     "output_type": "execute_result"
    }
   ],
   "source": [
    "def OOS_strat(df, factors, start):\n",
    "    y = df\n",
    "    X = sm.add_constant(factors)\n",
    "\n",
    "    forecast_err, null_err,oos_predictions,null_predictions = [], [],[],[]\n",
    "    for i,j in enumerate(df.index):\n",
    "        if i >= start:\n",
    "            currX = X.iloc[:i]\n",
    "            currY = y.iloc[:i]\n",
    "            reg = sm.OLS(currY, currX, missing = 'drop').fit()\n",
    "            null_forecast = currY.mean()\n",
    "            reg_predict = reg.predict(X.iloc[[i]])\n",
    "            actual = y.iloc[[i]]\n",
    "            oos_predictions.append(reg_predict.T)\n",
    "            null_predictions.append(pd.DataFrame([[reg_predict.index[0]]], columns = ['date'], index = [null_forecast]))\n",
    "            forecast_err.append(reg_predict.values - actual)\n",
    "            null_err.append(null_forecast.values - actual)\n",
    "            \n",
    "    RSS = (np.array(forecast_err)**2).sum()\n",
    "    TSS = (np.array(null_err)**2).sum()\n",
    "    predictions_df = pd.concat(oos_predictions).T.drop_duplicates()\n",
    "    null_predictions_df = pd.concat(null_predictions).T\n",
    "    \n",
    "    return ((1 - RSS/TSS),reg,predictions_df,null_predictions_df)\n",
    "\n",
    "factor = forecasting.loc[:,['Tnote rate','Tnote rate change']].shift(1)\n",
    "fund_ret = forecasting.loc[factor.index[0]:,['USO']]\n",
    "OOS_r2, OOS_reg_params, OOS_forecasts, null_predictions_df = OOS_strat(fund_ret,factor, forecasting.loc[:'2017'].shape[0])\n",
    "OOS_forecasts"
   ]
  },
  {
   "cell_type": "code",
   "execution_count": 98,
   "id": "c397a99f-cfa3-4c2e-987f-50092c577803",
   "metadata": {},
   "outputs": [
    {
     "data": {
      "text/plain": [
       "-0.0044913307399883085"
      ]
     },
     "execution_count": 98,
     "metadata": {},
     "output_type": "execute_result"
    }
   ],
   "source": [
    "OOS_r2"
   ]
  },
  {
   "cell_type": "code",
   "execution_count": 103,
   "id": "d77ccec7-cddb-4d81-a9b0-20bb2d50496f",
   "metadata": {},
   "outputs": [
    {
     "name": "stderr",
     "output_type": "stream",
     "text": [
      "/var/folders/qq/h84pzsw93xbd60q11ssc5v640000gn/T/ipykernel_1454/1676219710.py:2: SettingWithCopyWarning: \n",
      "A value is trying to be set on a copy of a slice from a DataFrame.\n",
      "Try using .loc[row_indexer,col_indexer] = value instead\n",
      "\n",
      "See the caveats in the documentation: https://pandas.pydata.org/pandas-docs/stable/user_guide/indexing.html#returning-a-view-versus-a-copy\n",
      "  returns['forecasts'] = OOS_forecasts.values\n"
     ]
    },
    {
     "data": {
      "text/html": [
       "<div>\n",
       "<style scoped>\n",
       "    .dataframe tbody tr th:only-of-type {\n",
       "        vertical-align: middle;\n",
       "    }\n",
       "\n",
       "    .dataframe tbody tr th {\n",
       "        vertical-align: top;\n",
       "    }\n",
       "\n",
       "    .dataframe thead th {\n",
       "        text-align: right;\n",
       "    }\n",
       "</style>\n",
       "<table border=\"1\" class=\"dataframe\">\n",
       "  <thead>\n",
       "    <tr style=\"text-align: right;\">\n",
       "      <th></th>\n",
       "      <th>USO</th>\n",
       "      <th>forecasts</th>\n",
       "    </tr>\n",
       "  </thead>\n",
       "  <tbody>\n",
       "    <tr>\n",
       "      <th>USO</th>\n",
       "      <td>1.000000</td>\n",
       "      <td>0.031923</td>\n",
       "    </tr>\n",
       "    <tr>\n",
       "      <th>forecasts</th>\n",
       "      <td>0.031923</td>\n",
       "      <td>1.000000</td>\n",
       "    </tr>\n",
       "  </tbody>\n",
       "</table>\n",
       "</div>"
      ],
      "text/plain": [
       "                USO  forecasts\n",
       "USO        1.000000   0.031923\n",
       "forecasts  0.031923   1.000000"
      ]
     },
     "execution_count": 103,
     "metadata": {},
     "output_type": "execute_result"
    }
   ],
   "source": [
    "returns = fund_ret.loc['2018-01-31':]\n",
    "returns['forecasts'] = OOS_forecasts.values\n",
    "returns.corr()"
   ]
  },
  {
   "cell_type": "code",
   "execution_count": 106,
   "id": "b1e0ef28-a194-48ee-9186-eec57a832834",
   "metadata": {},
   "outputs": [
    {
     "data": {
      "text/html": [
       "<div>\n",
       "<style scoped>\n",
       "    .dataframe tbody tr th:only-of-type {\n",
       "        vertical-align: middle;\n",
       "    }\n",
       "\n",
       "    .dataframe tbody tr th {\n",
       "        vertical-align: top;\n",
       "    }\n",
       "\n",
       "    .dataframe thead th {\n",
       "        text-align: right;\n",
       "    }\n",
       "</style>\n",
       "<table border=\"1\" class=\"dataframe\">\n",
       "  <thead>\n",
       "    <tr style=\"text-align: right;\">\n",
       "      <th></th>\n",
       "      <th>Mean</th>\n",
       "      <th>Volatility</th>\n",
       "      <th>Sharpe Ratio</th>\n",
       "      <th>Skewness</th>\n",
       "      <th>Excess Kurtosis</th>\n",
       "      <th>VaR (0.05)</th>\n",
       "      <th>CVaR (0.05)</th>\n",
       "      <th>Min</th>\n",
       "      <th>Max</th>\n",
       "      <th>Max Drawdown</th>\n",
       "      <th>Peak</th>\n",
       "      <th>Bottom</th>\n",
       "      <th>Recovery</th>\n",
       "    </tr>\n",
       "  </thead>\n",
       "  <tbody>\n",
       "    <tr>\n",
       "      <th>USO</th>\n",
       "      <td>0.074152</td>\n",
       "      <td>0.449894</td>\n",
       "      <td>0.164820</td>\n",
       "      <td>-1.459297</td>\n",
       "      <td>5.763732</td>\n",
       "      <td>-0.163233</td>\n",
       "      <td>-0.343372</td>\n",
       "      <td>-0.554497</td>\n",
       "      <td>0.353556</td>\n",
       "      <td>-0.846005</td>\n",
       "      <td>2018-09-30</td>\n",
       "      <td>2020-04-30</td>\n",
       "      <td>NaT</td>\n",
       "    </tr>\n",
       "    <tr>\n",
       "      <th>forecasts</th>\n",
       "      <td>-0.053585</td>\n",
       "      <td>0.060802</td>\n",
       "      <td>-0.881306</td>\n",
       "      <td>-0.496629</td>\n",
       "      <td>1.777322</td>\n",
       "      <td>-0.041627</td>\n",
       "      <td>-0.050289</td>\n",
       "      <td>-0.054034</td>\n",
       "      <td>0.035260</td>\n",
       "      <td>-0.288259</td>\n",
       "      <td>2018-02-28</td>\n",
       "      <td>2023-09-30</td>\n",
       "      <td>NaT</td>\n",
       "    </tr>\n",
       "  </tbody>\n",
       "</table>\n",
       "</div>"
      ],
      "text/plain": [
       "               Mean  Volatility  Sharpe Ratio  Skewness  Excess Kurtosis  \\\n",
       "USO        0.074152    0.449894      0.164820 -1.459297         5.763732   \n",
       "forecasts -0.053585    0.060802     -0.881306 -0.496629         1.777322   \n",
       "\n",
       "           VaR (0.05)  CVaR (0.05)       Min       Max  Max Drawdown  \\\n",
       "USO         -0.163233    -0.343372 -0.554497  0.353556     -0.846005   \n",
       "forecasts   -0.041627    -0.050289 -0.054034  0.035260     -0.288259   \n",
       "\n",
       "                Peak     Bottom Recovery  \n",
       "USO       2018-09-30 2020-04-30      NaT  \n",
       "forecasts 2018-02-28 2023-09-30      NaT  "
      ]
     },
     "execution_count": 106,
     "metadata": {},
     "output_type": "execute_result"
    }
   ],
   "source": [
    "def performance_summary(return_data, quantile, annualization_factor):\n",
    "    \"\"\" \n",
    "        Returns the Performance Stats for given set of returns\n",
    "        Inputs: \n",
    "            return_data - DataFrame with Date index and Monthly Returns for different assets/strategies.\n",
    "        Output:\n",
    "            summary_stats - DataFrame with annualized mean return, vol, sharpe ratio. Skewness, Excess Kurtosis, Var (0.5) and\n",
    "                            CVaR (0.5) and drawdown based on monthly returns. \n",
    "    \"\"\"\n",
    "    summary_stats = return_data.mean().to_frame('Mean').apply(lambda x: x*annualization_factor)\n",
    "    summary_stats['Volatility'] = return_data.std().apply(lambda x: x*np.sqrt(annualization_factor))\n",
    "    summary_stats['Sharpe Ratio'] = summary_stats['Mean']/summary_stats['Volatility']\n",
    "    \n",
    "    summary_stats['Skewness'] = return_data.skew()\n",
    "    summary_stats['Excess Kurtosis'] = return_data.kurtosis()\n",
    "    summary_stats[f'VaR ({quantile})'] = return_data.quantile(quantile, axis = 0)\n",
    "    summary_stats[f'CVaR ({quantile})'] = return_data[return_data <= return_data.quantile(quantile, axis = 0)].mean()\n",
    "    summary_stats['Min'] = return_data.min()\n",
    "    summary_stats['Max'] = return_data.max()\n",
    "    \n",
    "    wealth_index = 1000*(1+return_data).cumprod()\n",
    "    previous_peaks = wealth_index.cummax()\n",
    "    drawdowns = (wealth_index - previous_peaks)/previous_peaks\n",
    "\n",
    "    summary_stats['Max Drawdown'] = drawdowns.min()\n",
    "    summary_stats['Peak'] = [previous_peaks[col][:drawdowns[col].idxmin()].idxmax() for col in previous_peaks.columns]\n",
    "    summary_stats['Bottom'] = drawdowns.idxmin()\n",
    "    \n",
    "    recovery_date = []\n",
    "    for col in wealth_index.columns:\n",
    "        prev_max = previous_peaks[col][:drawdowns[col].idxmin()].max()\n",
    "        recovery_wealth = pd.DataFrame([wealth_index[col][drawdowns[col].idxmin():]]).T\n",
    "        recovery_date.append(recovery_wealth[recovery_wealth[col] >= prev_max].index.min())\n",
    "    summary_stats['Recovery'] = recovery_date\n",
    "    \n",
    "    return summary_stats\n",
    "performance_summary(returns, 0.05, 12)"
   ]
  },
  {
   "cell_type": "markdown",
   "id": "d162de37-ede8-4b03-bc81-b5d21331f6b5",
   "metadata": {},
   "source": [
    "# Q4"
   ]
  },
  {
   "cell_type": "code",
   "execution_count": 9,
   "id": "0f0ca4ee-5fa4-4152-a898-752048f32378",
   "metadata": {},
   "outputs": [
    {
     "data": {
      "text/plain": [
       "Index(['MXN', 'SOFR', 'MXSTR', 'log_MXN', 'log_SOFR', 'log_MXSTR'], dtype='object')"
      ]
     },
     "execution_count": 9,
     "metadata": {},
     "output_type": "execute_result"
    }
   ],
   "source": [
    "fx_carry.columns"
   ]
  },
  {
   "cell_type": "code",
   "execution_count": 33,
   "id": "dd3e4855-345a-4938-84eb-f1cdfa6e6712",
   "metadata": {},
   "outputs": [
    {
     "data": {
      "text/plain": [
       "(                 MXN      SOFR     MXSTR   log_MXN  log_SOFR  log_MXSTR\n",
       " date                                                                   \n",
       " 2018-04-03  0.054959  0.000073  0.000298 -2.901174  0.000073   0.000298\n",
       " 2018-04-04  0.054852  0.000069  0.000298 -2.903123  0.000069   0.000298\n",
       " 2018-04-05  0.055166  0.000069  0.000298 -2.897403  0.000069   0.000298\n",
       " 2018-04-06  0.054558  0.000069  0.000298 -2.908485  0.000069   0.000298\n",
       " 2018-04-09  0.054871  0.000069  0.000298 -2.902767  0.000069   0.000298,\n",
       " MXN          8\n",
       " SOFR         0\n",
       " MXSTR        0\n",
       " log_MXN      0\n",
       " log_SOFR     0\n",
       " log_MXSTR    0\n",
       " dtype: int64)"
      ]
     },
     "execution_count": 33,
     "metadata": {},
     "output_type": "execute_result"
    }
   ],
   "source": [
    "fx_carry['log_MXN'] = np.log(fx_carry['MXN']).fillna(method = 'ffill')\n",
    "fx_carry['log_SOFR'] = np.log(1+fx_carry['SOFR'])\n",
    "fx_carry['log_MXSTR'] = np.log(1+fx_carry['MXSTR'])\n",
    "fx_carry.head(), fx_carry.isna().sum()"
   ]
  },
  {
   "cell_type": "code",
   "execution_count": 11,
   "id": "c11d7460-ffe1-48d2-94c7-59d66a1813c1",
   "metadata": {},
   "outputs": [
    {
     "data": {
      "text/plain": [
       "-2.981326252448035"
      ]
     },
     "execution_count": 11,
     "metadata": {},
     "output_type": "execute_result"
    }
   ],
   "source": [
    "fx_carry['log_MXN'].mean()"
   ]
  },
  {
   "cell_type": "markdown",
   "id": "6773c5dd-dfbc-4f93-b3b7-1a849f84f16b",
   "metadata": {},
   "source": [
    "since these are USD per MXN, to get the log return of holding MXN, -> mxn rate - sofr rate"
   ]
  },
  {
   "cell_type": "code",
   "execution_count": 35,
   "id": "09a56482-8362-4643-a3d5-4a242f767ada",
   "metadata": {},
   "outputs": [
    {
     "data": {
      "text/plain": [
       "(0.0635103494622258, 0.1279733380976997, 0.49627797794677825)"
      ]
     },
     "execution_count": 35,
     "metadata": {},
     "output_type": "execute_result"
    }
   ],
   "source": [
    "returns = fx_carry['log_MXN'].diff().shift(-1) + fx_carry['log_MXSTR'] - fx_carry['log_SOFR']\n",
    "annualization_factor = 252 \n",
    "\n",
    "mu = returns.mean() * annualization_factor\n",
    "vol = returns.std() * np.sqrt(annualization_factor)\n",
    "sr = mu / vol\n",
    "mu, vol, sr\n"
   ]
  },
  {
   "cell_type": "code",
   "execution_count": 37,
   "id": "b9feb4a0-9aab-4ffb-8d68-25f5549fe114",
   "metadata": {},
   "outputs": [
    {
     "data": {
      "text/plain": [
       "0.00021860993611677376"
      ]
     },
     "execution_count": 37,
     "metadata": {},
     "output_type": "execute_result"
    }
   ],
   "source": [
    "(fx_carry['log_MXSTR'] - fx_carry['log_SOFR']).mean()"
   ]
  },
  {
   "cell_type": "markdown",
   "id": "03269513-d6c7-47ea-831c-901719a725f8",
   "metadata": {},
   "source": [
    "- Since this is quoted as USD per MXN, as the expected returns > 0, it shows that the carry trade is expected to be profitable. The investor should be long MXN relative to USD to benefit from the higher return in pesos.\n",
    "- The interest spread helped on average with a positive spread returned\n",
    "- USD depreciated relative to MXN over the sample\n"
   ]
  },
  {
   "cell_type": "code",
   "execution_count": 42,
   "id": "14dd4164-2392-41c2-a60c-5fa3d3cda17a",
   "metadata": {},
   "outputs": [
    {
     "data": {
      "text/plain": [
       "(0.00036053074481423586,\n",
       " const    0.001136\n",
       " 0        5.045095\n",
       " dtype: float64)"
      ]
     },
     "execution_count": 42,
     "metadata": {},
     "output_type": "execute_result"
    }
   ],
   "source": [
    "x = fx_carry['log_SOFR'] - fx_carry['log_MXSTR'] \n",
    "y = fx_carry['log_MXN'].diff().shift(-1)\n",
    "model = sm.OLS(y, sm.add_constant(x), missing = 'drop').fit()\n",
    "model.rsquared, model.params"
   ]
  },
  {
   "cell_type": "markdown",
   "id": "82d985aa-3595-4054-809f-7dbf475ce834",
   "metadata": {},
   "source": [
    "If UIP held, the beta of the interest rate differential would be 1 and alpha would be 0, with a very high r square. In this case, the regression estimates are far from that and since B > 1: FX change > interest rate differential"
   ]
  },
  {
   "cell_type": "markdown",
   "id": "1e2b1547-cdb2-453f-a5a5-b808ec8d158c",
   "metadata": {},
   "source": [
    "- If the interest rate differential increased, then we should expect the USD to depreciate relative to MXN\n",
    "- If Rf in MXN increases, then interest rate differential decreases, forward exchange rate will be lower\n",
    "- Yes, the estimated forecast impact of interest rates on currency returns would generally be larger over an annual horizon compared to a daily horizon. Over an annual horizon, the impact of interest rate differentials accumulates, compounding the returns. Daily currency movements are often influenced by short-term noise, market sentiment, and other transitory factors, which can obscure the effects of fundamentals like interest rates."
   ]
  }
 ],
 "metadata": {
  "kernelspec": {
   "display_name": "Python 3 (ipykernel)",
   "language": "python",
   "name": "python3"
  },
  "language_info": {
   "codemirror_mode": {
    "name": "ipython",
    "version": 3
   },
   "file_extension": ".py",
   "mimetype": "text/x-python",
   "name": "python",
   "nbconvert_exporter": "python",
   "pygments_lexer": "ipython3",
   "version": "3.11.5"
  }
 },
 "nbformat": 4,
 "nbformat_minor": 5
}
