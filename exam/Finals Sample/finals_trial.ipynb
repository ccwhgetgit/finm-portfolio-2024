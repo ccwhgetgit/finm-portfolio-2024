{
 "cells": [
  {
   "cell_type": "code",
   "execution_count": 1,
   "id": "5bc93946-e447-4e9c-b279-279046eeec53",
   "metadata": {},
   "outputs": [
    {
     "name": "stdout",
     "output_type": "stream",
     "text": [
      "['portfolio', 'forecasting', 'fx_carry']\n"
     ]
    }
   ],
   "source": [
    "import pandas as pd \n",
    "\n",
    "# Load the Excel file\n",
    "excel_file = pd.ExcelFile('./final_exam_data.xlsx')\n",
    "\n",
    "# Print all sheet names\n",
    "print(excel_file.sheet_names)\n"
   ]
  },
  {
   "cell_type": "code",
   "execution_count": 2,
   "id": "e3b50dd5-2292-4f89-a34d-504433b6fa42",
   "metadata": {},
   "outputs": [
    {
     "data": {
      "text/html": [
       "<div>\n",
       "<style scoped>\n",
       "    .dataframe tbody tr th:only-of-type {\n",
       "        vertical-align: middle;\n",
       "    }\n",
       "\n",
       "    .dataframe tbody tr th {\n",
       "        vertical-align: top;\n",
       "    }\n",
       "\n",
       "    .dataframe thead th {\n",
       "        text-align: right;\n",
       "    }\n",
       "</style>\n",
       "<table border=\"1\" class=\"dataframe\">\n",
       "  <thead>\n",
       "    <tr style=\"text-align: right;\">\n",
       "      <th></th>\n",
       "      <th>MXN</th>\n",
       "      <th>SOFR</th>\n",
       "      <th>MXSTR</th>\n",
       "    </tr>\n",
       "    <tr>\n",
       "      <th>date</th>\n",
       "      <th></th>\n",
       "      <th></th>\n",
       "      <th></th>\n",
       "    </tr>\n",
       "  </thead>\n",
       "  <tbody>\n",
       "    <tr>\n",
       "      <th>2018-04-03</th>\n",
       "      <td>0.054959</td>\n",
       "      <td>0.000073</td>\n",
       "      <td>0.000298</td>\n",
       "    </tr>\n",
       "    <tr>\n",
       "      <th>2018-04-04</th>\n",
       "      <td>0.054852</td>\n",
       "      <td>0.000069</td>\n",
       "      <td>0.000298</td>\n",
       "    </tr>\n",
       "    <tr>\n",
       "      <th>2018-04-05</th>\n",
       "      <td>0.055166</td>\n",
       "      <td>0.000069</td>\n",
       "      <td>0.000298</td>\n",
       "    </tr>\n",
       "    <tr>\n",
       "      <th>2018-04-06</th>\n",
       "      <td>0.054558</td>\n",
       "      <td>0.000069</td>\n",
       "      <td>0.000298</td>\n",
       "    </tr>\n",
       "    <tr>\n",
       "      <th>2018-04-09</th>\n",
       "      <td>0.054871</td>\n",
       "      <td>0.000069</td>\n",
       "      <td>0.000298</td>\n",
       "    </tr>\n",
       "    <tr>\n",
       "      <th>...</th>\n",
       "      <td>...</td>\n",
       "      <td>...</td>\n",
       "      <td>...</td>\n",
       "    </tr>\n",
       "    <tr>\n",
       "      <th>2023-11-24</th>\n",
       "      <td>0.058392</td>\n",
       "      <td>0.000211</td>\n",
       "      <td>0.000446</td>\n",
       "    </tr>\n",
       "    <tr>\n",
       "      <th>2023-11-27</th>\n",
       "      <td>0.058302</td>\n",
       "      <td>0.000211</td>\n",
       "      <td>0.000446</td>\n",
       "    </tr>\n",
       "    <tr>\n",
       "      <th>2023-11-28</th>\n",
       "      <td>0.058418</td>\n",
       "      <td>0.000211</td>\n",
       "      <td>0.000446</td>\n",
       "    </tr>\n",
       "    <tr>\n",
       "      <th>2023-11-29</th>\n",
       "      <td>0.058132</td>\n",
       "      <td>0.000211</td>\n",
       "      <td>0.000446</td>\n",
       "    </tr>\n",
       "    <tr>\n",
       "      <th>2023-11-30</th>\n",
       "      <td>0.057551</td>\n",
       "      <td>0.000212</td>\n",
       "      <td>0.000446</td>\n",
       "    </tr>\n",
       "  </tbody>\n",
       "</table>\n",
       "<p>1380 rows × 3 columns</p>\n",
       "</div>"
      ],
      "text/plain": [
       "                 MXN      SOFR     MXSTR\n",
       "date                                    \n",
       "2018-04-03  0.054959  0.000073  0.000298\n",
       "2018-04-04  0.054852  0.000069  0.000298\n",
       "2018-04-05  0.055166  0.000069  0.000298\n",
       "2018-04-06  0.054558  0.000069  0.000298\n",
       "2018-04-09  0.054871  0.000069  0.000298\n",
       "...              ...       ...       ...\n",
       "2023-11-24  0.058392  0.000211  0.000446\n",
       "2023-11-27  0.058302  0.000211  0.000446\n",
       "2023-11-28  0.058418  0.000211  0.000446\n",
       "2023-11-29  0.058132  0.000211  0.000446\n",
       "2023-11-30  0.057551  0.000212  0.000446\n",
       "\n",
       "[1380 rows x 3 columns]"
      ]
     },
     "execution_count": 2,
     "metadata": {},
     "output_type": "execute_result"
    }
   ],
   "source": [
    "portfolio = pd.read_excel('./final_exam_data.xlsx',sheet_name='portfolio',index_col=0)\n",
    "forecasting = pd.read_excel('./final_exam_data.xlsx',sheet_name='forecasting',index_col=0)\n",
    "fx_carry = pd.read_excel('./final_exam_data.xlsx',sheet_name='fx_carry',index_col=0)\n",
    "fx_carry"
   ]
  },
  {
   "cell_type": "code",
   "execution_count": null,
   "id": "18e7ae9b-b1c7-432c-8349-f4e142e68c04",
   "metadata": {},
   "outputs": [],
   "source": []
  },
  {
   "cell_type": "markdown",
   "id": "2872788a-7c30-42ea-af8d-c76a50b6afd3",
   "metadata": {},
   "source": [
    "# Question 2 "
   ]
  },
  {
   "cell_type": "markdown",
   "id": "fe3686ce-c07b-4003-a96a-102d7c3970ae",
   "metadata": {},
   "source": [
    "Part 1"
   ]
  },
  {
   "cell_type": "code",
   "execution_count": 21,
   "id": "8240ab81-89ae-49d3-b3be-655e73af385b",
   "metadata": {},
   "outputs": [
    {
     "data": {
      "text/html": [
       "<div>\n",
       "<style scoped>\n",
       "    .dataframe tbody tr th:only-of-type {\n",
       "        vertical-align: middle;\n",
       "    }\n",
       "\n",
       "    .dataframe tbody tr th {\n",
       "        vertical-align: top;\n",
       "    }\n",
       "\n",
       "    .dataframe thead th {\n",
       "        text-align: right;\n",
       "    }\n",
       "</style>\n",
       "<table border=\"1\" class=\"dataframe\">\n",
       "  <thead>\n",
       "    <tr style=\"text-align: right;\">\n",
       "      <th></th>\n",
       "      <th>Tangency Weights</th>\n",
       "    </tr>\n",
       "  </thead>\n",
       "  <tbody>\n",
       "    <tr>\n",
       "      <th>SPY</th>\n",
       "      <td>0.857595</td>\n",
       "    </tr>\n",
       "    <tr>\n",
       "      <th>BTC</th>\n",
       "      <td>0.141710</td>\n",
       "    </tr>\n",
       "    <tr>\n",
       "      <th>USO</th>\n",
       "      <td>-0.043098</td>\n",
       "    </tr>\n",
       "    <tr>\n",
       "      <th>TLT</th>\n",
       "      <td>-0.040488</td>\n",
       "    </tr>\n",
       "    <tr>\n",
       "      <th>IEF</th>\n",
       "      <td>0.167449</td>\n",
       "    </tr>\n",
       "    <tr>\n",
       "      <th>IYR</th>\n",
       "      <td>-0.440830</td>\n",
       "    </tr>\n",
       "    <tr>\n",
       "      <th>GLD</th>\n",
       "      <td>0.357662</td>\n",
       "    </tr>\n",
       "  </tbody>\n",
       "</table>\n",
       "</div>"
      ],
      "text/plain": [
       "     Tangency Weights\n",
       "SPY          0.857595\n",
       "BTC          0.141710\n",
       "USO         -0.043098\n",
       "TLT         -0.040488\n",
       "IEF          0.167449\n",
       "IYR         -0.440830\n",
       "GLD          0.357662"
      ]
     },
     "execution_count": 21,
     "metadata": {},
     "output_type": "execute_result"
    }
   ],
   "source": [
    "import numpy as np \n",
    "def tangency_weights(returns,dropna=True,scale_cov=1, name = 'Tangency'):\n",
    "    if dropna:\n",
    "        returns = returns.dropna()\n",
    "\n",
    "    covmat_full = returns.cov()\n",
    "    covmat_diag = np.diag(np.diag(covmat_full))\n",
    "    covmat = scale_cov * covmat_full + (1-scale_cov) * covmat_diag\n",
    "\n",
    "    weights = np.linalg.solve(covmat,returns.mean())\n",
    "    weights = weights / weights.sum()\n",
    "    tangency_weights_df = pd.DataFrame(weights, index=returns.columns, columns=[f'{name} Weights'])\n",
    "\n",
    "    return tangency_weights_df\n",
    "\n",
    "tan_wts = tangency_weights(portfolio)\n",
    "tan_wts"
   ]
  },
  {
   "cell_type": "code",
   "execution_count": 30,
   "id": "1448132d-5717-4aa1-9ca9-7a7482e3173e",
   "metadata": {},
   "outputs": [
    {
     "data": {
      "text/html": [
       "<div>\n",
       "<style scoped>\n",
       "    .dataframe tbody tr th:only-of-type {\n",
       "        vertical-align: middle;\n",
       "    }\n",
       "\n",
       "    .dataframe tbody tr th {\n",
       "        vertical-align: top;\n",
       "    }\n",
       "\n",
       "    .dataframe thead th {\n",
       "        text-align: right;\n",
       "    }\n",
       "</style>\n",
       "<table border=\"1\" class=\"dataframe\">\n",
       "  <thead>\n",
       "    <tr style=\"text-align: right;\">\n",
       "      <th></th>\n",
       "      <th>Tangency Weights</th>\n",
       "    </tr>\n",
       "  </thead>\n",
       "  <tbody>\n",
       "    <tr>\n",
       "      <th>SPY</th>\n",
       "      <td>0.479969</td>\n",
       "    </tr>\n",
       "    <tr>\n",
       "      <th>BTC</th>\n",
       "      <td>0.079311</td>\n",
       "    </tr>\n",
       "    <tr>\n",
       "      <th>USO</th>\n",
       "      <td>-0.024120</td>\n",
       "    </tr>\n",
       "    <tr>\n",
       "      <th>TLT</th>\n",
       "      <td>-0.022660</td>\n",
       "    </tr>\n",
       "    <tr>\n",
       "      <th>IEF</th>\n",
       "      <td>0.093716</td>\n",
       "    </tr>\n",
       "    <tr>\n",
       "      <th>IYR</th>\n",
       "      <td>-0.246719</td>\n",
       "    </tr>\n",
       "    <tr>\n",
       "      <th>GLD</th>\n",
       "      <td>0.200172</td>\n",
       "    </tr>\n",
       "  </tbody>\n",
       "</table>\n",
       "</div>"
      ],
      "text/plain": [
       "     Tangency Weights\n",
       "SPY          0.479969\n",
       "BTC          0.079311\n",
       "USO         -0.024120\n",
       "TLT         -0.022660\n",
       "IEF          0.093716\n",
       "IYR         -0.246719\n",
       "GLD          0.200172"
      ]
     },
     "execution_count": 30,
     "metadata": {},
     "output_type": "execute_result"
    }
   ],
   "source": [
    "def mv_portfolio_excess_returns(ex_ret, target_ret, tan_wts):\n",
    "    \n",
    "    mu_tilde = ex_ret.copy().mean()\n",
    "    \n",
    "    Sigma_adj = ex_ret.copy().cov()\n",
    "    \n",
    "    Sigma_inv = np.linalg.inv(Sigma_adj)\n",
    "    \n",
    "    N = Sigma_adj.shape[0]\n",
    "    \n",
    "    delta_tilde = ((np.ones(N) @ Sigma_inv @ mu_tilde)/(mu_tilde @ Sigma_inv @ mu_tilde)) * target_ret\n",
    "    \n",
    "    omega_star = delta_tilde * tan_wts\n",
    "    \n",
    "    return omega_star\n",
    "    \n",
    "def portfolio_returns_calc(data, weights_df): \n",
    "    return pd.DataFrame(data @ (weights_df.values)) \n",
    "\n",
    "\n",
    "\n",
    "mv_portfolio_excess_returns(portfolio, 0.0025, tangency_weights(portfolio))"
   ]
  },
  {
   "cell_type": "code",
   "execution_count": 46,
   "id": "9f574638-a9df-4f83-b361-de584d5b4553",
   "metadata": {},
   "outputs": [
    {
     "data": {
      "text/html": [
       "<div>\n",
       "<style scoped>\n",
       "    .dataframe tbody tr th:only-of-type {\n",
       "        vertical-align: middle;\n",
       "    }\n",
       "\n",
       "    .dataframe tbody tr th {\n",
       "        vertical-align: top;\n",
       "    }\n",
       "\n",
       "    .dataframe thead th {\n",
       "        text-align: right;\n",
       "    }\n",
       "</style>\n",
       "<table border=\"1\" class=\"dataframe\">\n",
       "  <thead>\n",
       "    <tr style=\"text-align: right;\">\n",
       "      <th></th>\n",
       "      <th>GMV Weights</th>\n",
       "    </tr>\n",
       "  </thead>\n",
       "  <tbody>\n",
       "    <tr>\n",
       "      <th>SPY</th>\n",
       "      <td>0.092076</td>\n",
       "    </tr>\n",
       "    <tr>\n",
       "      <th>BTC</th>\n",
       "      <td>-0.001009</td>\n",
       "    </tr>\n",
       "    <tr>\n",
       "      <th>USO</th>\n",
       "      <td>0.002750</td>\n",
       "    </tr>\n",
       "    <tr>\n",
       "      <th>TLT</th>\n",
       "      <td>-0.476953</td>\n",
       "    </tr>\n",
       "    <tr>\n",
       "      <th>IEF</th>\n",
       "      <td>1.427028</td>\n",
       "    </tr>\n",
       "    <tr>\n",
       "      <th>IYR</th>\n",
       "      <td>-0.041140</td>\n",
       "    </tr>\n",
       "    <tr>\n",
       "      <th>GLD</th>\n",
       "      <td>-0.002752</td>\n",
       "    </tr>\n",
       "  </tbody>\n",
       "</table>\n",
       "</div>"
      ],
      "text/plain": [
       "     GMV Weights\n",
       "SPY     0.092076\n",
       "BTC    -0.001009\n",
       "USO     0.002750\n",
       "TLT    -0.476953\n",
       "IEF     1.427028\n",
       "IYR    -0.041140\n",
       "GLD    -0.002752"
      ]
     },
     "execution_count": 46,
     "metadata": {},
     "output_type": "execute_result"
    }
   ],
   "source": [
    "# GMV\n",
    "def gmv_weights(returns, annualization_factor):\n",
    "    ones = np.ones(returns.columns.shape)\n",
    "    \n",
    "    cov = returns.cov()* annualization_factor\n",
    "    cov_inv = np.linalg.inv(cov)\n",
    "    scaling = 1/(np.transpose(ones) @ cov_inv @ ones)\n",
    "    gmv_tot = scaling * cov_inv @ ones\n",
    "    gmv_weights_df = pd.DataFrame(gmv_tot, index=returns.columns, columns=['GMV Weights'])\n",
    "    \n",
    "    return gmv_weights_df\n",
    "gmv = gmv_weights(portfolio, 52)\n",
    "gmv"
   ]
  },
  {
   "cell_type": "code",
   "execution_count": 103,
   "id": "befe27a7-00c5-43ac-a835-00112a8d11e4",
   "metadata": {},
   "outputs": [
    {
     "data": {
      "text/html": [
       "<div>\n",
       "<style scoped>\n",
       "    .dataframe tbody tr th:only-of-type {\n",
       "        vertical-align: middle;\n",
       "    }\n",
       "\n",
       "    .dataframe tbody tr th {\n",
       "        vertical-align: top;\n",
       "    }\n",
       "\n",
       "    .dataframe thead th {\n",
       "        text-align: right;\n",
       "    }\n",
       "</style>\n",
       "<table border=\"1\" class=\"dataframe\">\n",
       "  <thead>\n",
       "    <tr style=\"text-align: right;\">\n",
       "      <th></th>\n",
       "      <th>MV Weights</th>\n",
       "      <th>tangency weights</th>\n",
       "      <th>GMV weights</th>\n",
       "    </tr>\n",
       "  </thead>\n",
       "  <tbody>\n",
       "    <tr>\n",
       "      <th>SPY</th>\n",
       "      <td>0.498982</td>\n",
       "      <td>0.857595</td>\n",
       "      <td>0.092076</td>\n",
       "    </tr>\n",
       "    <tr>\n",
       "      <th>BTC</th>\n",
       "      <td>0.074852</td>\n",
       "      <td>0.141710</td>\n",
       "      <td>-0.001009</td>\n",
       "    </tr>\n",
       "    <tr>\n",
       "      <th>USO</th>\n",
       "      <td>-0.021620</td>\n",
       "      <td>-0.043098</td>\n",
       "      <td>0.002750</td>\n",
       "    </tr>\n",
       "    <tr>\n",
       "      <th>TLT</th>\n",
       "      <td>-0.244953</td>\n",
       "      <td>-0.040488</td>\n",
       "      <td>-0.476953</td>\n",
       "    </tr>\n",
       "    <tr>\n",
       "      <th>IEF</th>\n",
       "      <td>0.757509</td>\n",
       "      <td>0.167449</td>\n",
       "      <td>1.427028</td>\n",
       "    </tr>\n",
       "    <tr>\n",
       "      <th>IYR</th>\n",
       "      <td>-0.253592</td>\n",
       "      <td>-0.440830</td>\n",
       "      <td>-0.041140</td>\n",
       "    </tr>\n",
       "    <tr>\n",
       "      <th>GLD</th>\n",
       "      <td>0.188823</td>\n",
       "      <td>0.357662</td>\n",
       "      <td>-0.002752</td>\n",
       "    </tr>\n",
       "  </tbody>\n",
       "</table>\n",
       "</div>"
      ],
      "text/plain": [
       "     MV Weights  tangency weights  GMV weights\n",
       "SPY    0.498982          0.857595     0.092076\n",
       "BTC    0.074852          0.141710    -0.001009\n",
       "USO   -0.021620         -0.043098     0.002750\n",
       "TLT   -0.244953         -0.040488    -0.476953\n",
       "IEF    0.757509          0.167449     1.427028\n",
       "IYR   -0.253592         -0.440830    -0.041140\n",
       "GLD    0.188823          0.357662    -0.002752"
      ]
     },
     "execution_count": 103,
     "metadata": {},
     "output_type": "execute_result"
    }
   ],
   "source": [
    "annualization_factor = 52 \n",
    "def mv_portfolio(target_ret, returns: pd.DataFrame):\n",
    "    \n",
    "    mu_tan = returns.mean() @ tangency_weights(returns,  1)\n",
    "    mu_gmv = returns.mean() @ gmv_weights(returns, annualization_factor)\n",
    "    \n",
    "    delta = (target_ret - mu_gmv[0])/(mu_tan[0] - mu_gmv[0])\n",
    "    mv_weights = (delta * tangency_weights(returns,  1)).values + ((1-delta)*gmv_weights(returns, annualization_factor)).values\n",
    "    \n",
    "    MV = pd.DataFrame(index = returns.columns, data = mv_weights, columns = ['MV Weights'] )\n",
    "    MV['tangency weights'] =  tangency_weights(returns,  1).values\n",
    "    MV['GMV weights'] =   gmv_weights(returns, annualization_factor).values\n",
    "\n",
    "    return MV\n",
    "\n",
    "mv_portfolio(0.0025, portfolio)"
   ]
  },
  {
   "cell_type": "markdown",
   "id": "362449b8-8fe9-4bd1-a3bc-27357881979d",
   "metadata": {},
   "source": [
    "Conceptual: Part 1 is benchmarked against the risk-free rate, while Part 2 focuses purely on total returns and risk minimization.\n",
    "Mathematical: The tangency portfolio and MV portfolio in Part 1 use excess returns, while GMV and MV portfolios in Part 2 use total returns."
   ]
  },
  {
   "cell_type": "code",
   "execution_count": 73,
   "id": "7dc63e76-45cb-43bb-9e93-4067ebbaac81",
   "metadata": {},
   "outputs": [],
   "source": [
    "def equal_weights(returns): \n",
    "    return pd.DataFrame(index = returns.columns, data = 1/len(returns.columns), columns = ['EWP Weights'])\n"
   ]
  },
  {
   "cell_type": "code",
   "execution_count": 87,
   "id": "e31d1b4a-d280-462f-ad06-03928136b138",
   "metadata": {
    "scrolled": true
   },
   "outputs": [
    {
     "data": {
      "text/html": [
       "<div>\n",
       "<style scoped>\n",
       "    .dataframe tbody tr th:only-of-type {\n",
       "        vertical-align: middle;\n",
       "    }\n",
       "\n",
       "    .dataframe tbody tr th {\n",
       "        vertical-align: top;\n",
       "    }\n",
       "\n",
       "    .dataframe thead th {\n",
       "        text-align: right;\n",
       "    }\n",
       "</style>\n",
       "<table border=\"1\" class=\"dataframe\">\n",
       "  <thead>\n",
       "    <tr style=\"text-align: right;\">\n",
       "      <th></th>\n",
       "      <th>Tangency Weights</th>\n",
       "    </tr>\n",
       "  </thead>\n",
       "  <tbody>\n",
       "    <tr>\n",
       "      <th>SPY</th>\n",
       "      <td>0.708230</td>\n",
       "    </tr>\n",
       "    <tr>\n",
       "      <th>USO</th>\n",
       "      <td>-0.034790</td>\n",
       "    </tr>\n",
       "    <tr>\n",
       "      <th>TLT</th>\n",
       "      <td>-0.279598</td>\n",
       "    </tr>\n",
       "    <tr>\n",
       "      <th>IEF</th>\n",
       "      <td>1.712950</td>\n",
       "    </tr>\n",
       "    <tr>\n",
       "      <th>IYR</th>\n",
       "      <td>-0.252887</td>\n",
       "    </tr>\n",
       "    <tr>\n",
       "      <th>GLD</th>\n",
       "      <td>0.023858</td>\n",
       "    </tr>\n",
       "  </tbody>\n",
       "</table>\n",
       "</div>"
      ],
      "text/plain": [
       "     Tangency Weights\n",
       "SPY          0.708230\n",
       "USO         -0.034790\n",
       "TLT         -0.279598\n",
       "IEF          1.712950\n",
       "IYR         -0.252887\n",
       "GLD          0.023858"
      ]
     },
     "execution_count": 87,
     "metadata": {},
     "output_type": "execute_result"
    }
   ],
   "source": [
    "portfolio_copy = portfolio.drop(columns=['BTC'])\n",
    "is_data = portfolio_copy.loc[:'2021']\n",
    "\n",
    "MU_WEEKLY_TARGET = 0.0025\n",
    "\n",
    "tangency_weights_df = tangency_weights(is_data)\n",
    "\n",
    "adjustment_factor = MU_WEEKLY_TARGET / (is_data.mean() @ tangency_weights_df.values)\n",
    "tangency_weights_df *= adjustment_factor\n",
    "tangency_weights_df\n"
   ]
  },
  {
   "cell_type": "code",
   "execution_count": 109,
   "id": "13f98f2e-a2ce-4d71-b66b-410a32cc8d28",
   "metadata": {},
   "outputs": [],
   "source": [
    "def performance_summary(return_data, quantile, annualization_factor):\n",
    "    \"\"\" \n",
    "        Returns the Performance Stats for given set of returns\n",
    "        Inputs: \n",
    "            return_data - DataFrame with Date index and Monthly Returns for different assets/strategies.\n",
    "        Output:\n",
    "            summary_stats - DataFrame with annualized mean return, vol, sharpe ratio. Skewness, Excess Kurtosis, Var (0.5) and\n",
    "                            CVaR (0.5) and drawdown based on monthly returns. \n",
    "    \"\"\"\n",
    "    summary_stats = return_data.mean().apply(lambda x: x*annualization_factor)\n",
    "    summary_stats['Volatility'] = return_data.std().apply(lambda x: x*np.sqrt(annualization_factor))\n",
    "    summary_stats['Sharpe Ratio'] = summary_stats['Mean']/summary_stats['Volatility']\n",
    "    \n",
    "    summary_stats['Skewness'] = return_data.skew()\n",
    "    summary_stats['Excess Kurtosis'] = return_data.kurtosis()\n",
    "    summary_stats[f'VaR ({quantile})'] = return_data.quantile(quantile, axis = 0)\n",
    "    summary_stats[f'CVaR ({quantile})'] = return_data[return_data <= return_data.quantile(quantile, axis = 0)].mean()\n",
    "    summary_stats['Min'] = return_data.min()\n",
    "    summary_stats['Max'] = return_data.max()\n",
    "    \n",
    "    wealth_index = 1000*(1+return_data).cumprod()\n",
    "    previous_peaks = wealth_index.cummax()\n",
    "    drawdowns = (wealth_index - previous_peaks)/previous_peaks\n",
    "\n",
    "    summary_stats['Max Drawdown'] = drawdowns.min()\n",
    "    summary_stats['Peak'] = [previous_peaks[col][:drawdowns[col].idxmin()].idxmax() for col in previous_peaks.columns]\n",
    "    summary_stats['Bottom'] = drawdowns.idxmin()\n",
    "    \n",
    "    recovery_date = []\n",
    "    for col in wealth_index.columns:\n",
    "        prev_max = previous_peaks[col][:drawdowns[col].idxmin()].max()\n",
    "        recovery_wealth = pd.DataFrame([wealth_index[col][drawdowns[col].idxmin():]]).T\n",
    "        recovery_date.append(recovery_wealth[recovery_wealth[col] >= prev_max].index.min())\n",
    "    summary_stats['Recovery'] = recovery_date\n",
    "    \n",
    "    return summary_stats"
   ]
  },
  {
   "cell_type": "code",
   "execution_count": 110,
   "id": "4312aa66-c67d-4e05-9358-d4e24c91aec6",
   "metadata": {},
   "outputs": [
    {
     "ename": "NameError",
     "evalue": "name 'portfolio_copy' is not defined",
     "output_type": "error",
     "traceback": [
      "\u001b[0;31m---------------------------------------------------------------------------\u001b[0m",
      "\u001b[0;31mNameError\u001b[0m                                 Traceback (most recent call last)",
      "Cell \u001b[0;32mIn[110], line 2\u001b[0m\n\u001b[1;32m      1\u001b[0m \u001b[38;5;66;03m# OOS period\u001b[39;00m\n\u001b[0;32m----> 2\u001b[0m oos_data \u001b[38;5;241m=\u001b[39m portfolio_copy\u001b[38;5;241m.\u001b[39mloc[\u001b[38;5;124m'\u001b[39m\u001b[38;5;124m2022\u001b[39m\u001b[38;5;124m'\u001b[39m:\u001b[38;5;124m'\u001b[39m\u001b[38;5;124m2023\u001b[39m\u001b[38;5;124m'\u001b[39m]\n\u001b[1;32m      3\u001b[0m returns \u001b[38;5;241m=\u001b[39m oos_data \u001b[38;5;241m@\u001b[39m tangency_weights_df\u001b[38;5;241m.\u001b[39mvalues\n\u001b[1;32m      5\u001b[0m performance_summary(returns, \u001b[38;5;241m0.05\u001b[39m, \u001b[38;5;241m52\u001b[39m)[[\u001b[38;5;124m'\u001b[39m\u001b[38;5;124mMean\u001b[39m\u001b[38;5;124m'\u001b[39m, \u001b[38;5;124m'\u001b[39m\u001b[38;5;124mVolatility\u001b[39m\u001b[38;5;124m'\u001b[39m, \u001b[38;5;124m'\u001b[39m\u001b[38;5;124mSharpe Ratio\u001b[39m\u001b[38;5;124m'\u001b[39m]]\n",
      "\u001b[0;31mNameError\u001b[0m: name 'portfolio_copy' is not defined"
     ]
    }
   ],
   "source": [
    "# OOS period\n",
    "oos_data = portfolio_copy.loc['2022':'2023']\n",
    "returns = oos_data @ tangency_weights_df.values\n",
    "\n",
    "performance_summary(returns, 0.05, 52)[['Mean', 'Volatility', 'Sharpe Ratio']]"
   ]
  },
  {
   "cell_type": "code",
   "execution_count": null,
   "id": "75fc2c11-c893-4259-9bca-9d2f28063c02",
   "metadata": {},
   "outputs": [],
   "source": []
  },
  {
   "cell_type": "code",
   "execution_count": 82,
   "id": "17653ee3-7413-4c03-9c39-9fbfaed01a7c",
   "metadata": {},
   "outputs": [
    {
     "data": {
      "text/html": [
       "<div>\n",
       "<style scoped>\n",
       "    .dataframe tbody tr th:only-of-type {\n",
       "        vertical-align: middle;\n",
       "    }\n",
       "\n",
       "    .dataframe tbody tr th {\n",
       "        vertical-align: top;\n",
       "    }\n",
       "\n",
       "    .dataframe thead th {\n",
       "        text-align: right;\n",
       "    }\n",
       "</style>\n",
       "<table border=\"1\" class=\"dataframe\">\n",
       "  <thead>\n",
       "    <tr style=\"text-align: right;\">\n",
       "      <th></th>\n",
       "      <th>EWP Weights</th>\n",
       "    </tr>\n",
       "  </thead>\n",
       "  <tbody>\n",
       "    <tr>\n",
       "      <th>SPY</th>\n",
       "      <td>0.242376</td>\n",
       "    </tr>\n",
       "    <tr>\n",
       "      <th>USO</th>\n",
       "      <td>0.242376</td>\n",
       "    </tr>\n",
       "    <tr>\n",
       "      <th>TLT</th>\n",
       "      <td>0.242376</td>\n",
       "    </tr>\n",
       "    <tr>\n",
       "      <th>IEF</th>\n",
       "      <td>0.242376</td>\n",
       "    </tr>\n",
       "    <tr>\n",
       "      <th>IYR</th>\n",
       "      <td>0.242376</td>\n",
       "    </tr>\n",
       "    <tr>\n",
       "      <th>GLD</th>\n",
       "      <td>0.242376</td>\n",
       "    </tr>\n",
       "  </tbody>\n",
       "</table>\n",
       "</div>"
      ],
      "text/plain": [
       "     EWP Weights\n",
       "SPY     0.242376\n",
       "USO     0.242376\n",
       "TLT     0.242376\n",
       "IEF     0.242376\n",
       "IYR     0.242376\n",
       "GLD     0.242376"
      ]
     },
     "execution_count": 82,
     "metadata": {},
     "output_type": "execute_result"
    }
   ],
   "source": [
    "ewp_weights_df = equal_weights(is_data)\n",
    "adjustment_factor = MU_WEEKLY_TARGET / (is_data.mean() @ ewp_weights_df.values)\n",
    "ewp_weights_df *= adjustment_factor\n",
    "ewp_weights_df"
   ]
  },
  {
   "cell_type": "code",
   "execution_count": 95,
   "id": "e02fae03-cbdc-4642-8c1b-aab189aee2f7",
   "metadata": {},
   "outputs": [
    {
     "data": {
      "text/html": [
       "<div>\n",
       "<style scoped>\n",
       "    .dataframe tbody tr th:only-of-type {\n",
       "        vertical-align: middle;\n",
       "    }\n",
       "\n",
       "    .dataframe tbody tr th {\n",
       "        vertical-align: top;\n",
       "    }\n",
       "\n",
       "    .dataframe thead th {\n",
       "        text-align: right;\n",
       "    }\n",
       "</style>\n",
       "<table border=\"1\" class=\"dataframe\">\n",
       "  <thead>\n",
       "    <tr style=\"text-align: right;\">\n",
       "      <th></th>\n",
       "      <th>Mean</th>\n",
       "      <th>Volatility</th>\n",
       "      <th>Sharpe Ratio</th>\n",
       "    </tr>\n",
       "  </thead>\n",
       "  <tbody>\n",
       "    <tr>\n",
       "      <th>0</th>\n",
       "      <td>-0.036569</td>\n",
       "      <td>0.183591</td>\n",
       "      <td>-0.199185</td>\n",
       "    </tr>\n",
       "  </tbody>\n",
       "</table>\n",
       "</div>"
      ],
      "text/plain": [
       "       Mean  Volatility  Sharpe Ratio\n",
       "0 -0.036569    0.183591     -0.199185"
      ]
     },
     "execution_count": 95,
     "metadata": {},
     "output_type": "execute_result"
    }
   ],
   "source": [
    "returns = oos_data @ ewp_weights_df.values\n",
    "performance_summary(returns, 0.05, 52)[['Mean', 'Volatility', 'Sharpe Ratio']]\n"
   ]
  },
  {
   "cell_type": "markdown",
   "id": "d9ea7597-e935-4180-9e38-14afca850981",
   "metadata": {},
   "source": [
    "The tangency weighted portfolio has a more negative sharpe ratio and performs worse than the ewp portfolio"
   ]
  },
  {
   "cell_type": "markdown",
   "id": "ad60c9de-e4f9-4c4b-8164-a50a9424d69d",
   "metadata": {},
   "source": [
    "# Q3"
   ]
  },
  {
   "cell_type": "code",
   "execution_count": 29,
   "id": "2bb70a5f-2412-46fa-ba3d-9c831cf854a5",
   "metadata": {},
   "outputs": [],
   "source": [
    "annualization_factor = 12 \n",
    "\n",
    "import statsmodels.api as sm\n",
    "def time_series_regression(portfolio, factors, annualization_factor, FF3F = False, resid = False):\n",
    "    \n",
    "    ff_report = pd.DataFrame(index=portfolio.columns)\n",
    "    bm_residuals = pd.DataFrame(columns=portfolio.columns)\n",
    "\n",
    "    rhs = sm.add_constant(factors)\n",
    "\n",
    "    for portf in portfolio.columns:\n",
    "        lhs = portfolio[portf]\n",
    "        res = sm.OLS(lhs, rhs, missing='drop').fit()\n",
    "        ff_report.loc[portf, 'alpha_hat'] = res.params['const'] * annualization_factor\n",
    "        ff_report.loc[portf, 'beta_mkt'] = res.params[1]\n",
    "        if FF3F:\n",
    "            ff_report.loc[portf, 'Size beta'] = res.params[2] \n",
    "            ff_report.loc[portf, 'Value beta'] = res.params[3]\n",
    "            \n",
    "        ff_report.loc[portf, 'info_ratio'] = np.sqrt(annualization_factor) * res.params['const'] / res.resid.std()\n",
    "        ff_report.loc[portf, 'treynor_ratio'] = annualization_factor * portfolio[portf].mean() / res.params[1]\n",
    "        ff_report.loc[portf, 'R-squared'] = res.rsquared\n",
    "        ff_report.loc[portf, 'Tracking Error'] = (res.resid.std()*np.sqrt(annualization_factor))\n",
    "\n",
    "        if resid:\n",
    "            bm_residuals[portf] = res.resid\n",
    "            \n",
    "            \n",
    "        \n",
    "    if resid:\n",
    "        return bm_residuals\n",
    "        \n",
    "    return ff_report"
   ]
  },
  {
   "cell_type": "code",
   "execution_count": null,
   "id": "62684126-37fe-4085-9144-ebc047ed539d",
   "metadata": {},
   "outputs": [],
   "source": [
    "time_series_regression(y, x, annualization_factor)"
   ]
  },
  {
   "cell_type": "code",
   "execution_count": 30,
   "id": "f96bbf00-7510-4b32-8caf-0503756fe77a",
   "metadata": {},
   "outputs": [
    {
     "data": {
      "text/html": [
       "<table class=\"simpletable\">\n",
       "<caption>OLS Regression Results</caption>\n",
       "<tr>\n",
       "  <th>Dep. Variable:</th>           <td>USO</td>       <th>  R-squared:         </th> <td>   0.028</td>\n",
       "</tr>\n",
       "<tr>\n",
       "  <th>Model:</th>                   <td>OLS</td>       <th>  Adj. R-squared:    </th> <td>   0.017</td>\n",
       "</tr>\n",
       "<tr>\n",
       "  <th>Method:</th>             <td>Least Squares</td>  <th>  F-statistic:       </th> <td>   2.475</td>\n",
       "</tr>\n",
       "<tr>\n",
       "  <th>Date:</th>             <td>Fri, 29 Nov 2024</td> <th>  Prob (F-statistic):</th>  <td>0.0871</td> \n",
       "</tr>\n",
       "<tr>\n",
       "  <th>Time:</th>                 <td>09:01:40</td>     <th>  Log-Likelihood:    </th> <td>  151.77</td>\n",
       "</tr>\n",
       "<tr>\n",
       "  <th>No. Observations:</th>      <td>   174</td>      <th>  AIC:               </th> <td>  -297.5</td>\n",
       "</tr>\n",
       "<tr>\n",
       "  <th>Df Residuals:</th>          <td>   171</td>      <th>  BIC:               </th> <td>  -288.1</td>\n",
       "</tr>\n",
       "<tr>\n",
       "  <th>Df Model:</th>              <td>     2</td>      <th>                     </th>     <td> </td>   \n",
       "</tr>\n",
       "<tr>\n",
       "  <th>Covariance Type:</th>      <td>nonrobust</td>    <th>                     </th>     <td> </td>   \n",
       "</tr>\n",
       "</table>\n",
       "<table class=\"simpletable\">\n",
       "<tr>\n",
       "          <td></td>             <th>coef</th>     <th>std err</th>      <th>t</th>      <th>P>|t|</th>  <th>[0.025</th>    <th>0.975]</th>  \n",
       "</tr>\n",
       "<tr>\n",
       "  <th>const</th>             <td>    0.0201</td> <td>    0.024</td> <td>    0.849</td> <td> 0.397</td> <td>   -0.027</td> <td>    0.067</td>\n",
       "</tr>\n",
       "<tr>\n",
       "  <th>Tnote rate change</th> <td>    0.0741</td> <td>    0.034</td> <td>    2.156</td> <td> 0.032</td> <td>    0.006</td> <td>    0.142</td>\n",
       "</tr>\n",
       "<tr>\n",
       "  <th>Tnote rate</th>        <td>   -0.0096</td> <td>    0.009</td> <td>   -1.014</td> <td> 0.312</td> <td>   -0.028</td> <td>    0.009</td>\n",
       "</tr>\n",
       "</table>\n",
       "<table class=\"simpletable\">\n",
       "<tr>\n",
       "  <th>Omnibus:</th>       <td>53.648</td> <th>  Durbin-Watson:     </th> <td>   1.776</td>\n",
       "</tr>\n",
       "<tr>\n",
       "  <th>Prob(Omnibus):</th> <td> 0.000</td> <th>  Jarque-Bera (JB):  </th> <td> 238.333</td>\n",
       "</tr>\n",
       "<tr>\n",
       "  <th>Skew:</th>          <td>-1.071</td> <th>  Prob(JB):          </th> <td>1.76e-52</td>\n",
       "</tr>\n",
       "<tr>\n",
       "  <th>Kurtosis:</th>      <td> 8.318</td> <th>  Cond. No.          </th> <td>    12.2</td>\n",
       "</tr>\n",
       "</table><br/><br/>Notes:<br/>[1] Standard Errors assume that the covariance matrix of the errors is correctly specified."
      ],
      "text/latex": [
       "\\begin{center}\n",
       "\\begin{tabular}{lclc}\n",
       "\\toprule\n",
       "\\textbf{Dep. Variable:}    &       USO        & \\textbf{  R-squared:         } &     0.028   \\\\\n",
       "\\textbf{Model:}            &       OLS        & \\textbf{  Adj. R-squared:    } &     0.017   \\\\\n",
       "\\textbf{Method:}           &  Least Squares   & \\textbf{  F-statistic:       } &     2.475   \\\\\n",
       "\\textbf{Date:}             & Fri, 29 Nov 2024 & \\textbf{  Prob (F-statistic):} &   0.0871    \\\\\n",
       "\\textbf{Time:}             &     09:01:40     & \\textbf{  Log-Likelihood:    } &    151.77   \\\\\n",
       "\\textbf{No. Observations:} &         174      & \\textbf{  AIC:               } &    -297.5   \\\\\n",
       "\\textbf{Df Residuals:}     &         171      & \\textbf{  BIC:               } &    -288.1   \\\\\n",
       "\\textbf{Df Model:}         &           2      & \\textbf{                     } &             \\\\\n",
       "\\textbf{Covariance Type:}  &    nonrobust     & \\textbf{                     } &             \\\\\n",
       "\\bottomrule\n",
       "\\end{tabular}\n",
       "\\begin{tabular}{lcccccc}\n",
       "                           & \\textbf{coef} & \\textbf{std err} & \\textbf{t} & \\textbf{P$> |$t$|$} & \\textbf{[0.025} & \\textbf{0.975]}  \\\\\n",
       "\\midrule\n",
       "\\textbf{const}             &       0.0201  &        0.024     &     0.849  &         0.397        &       -0.027    &        0.067     \\\\\n",
       "\\textbf{Tnote rate change} &       0.0741  &        0.034     &     2.156  &         0.032        &        0.006    &        0.142     \\\\\n",
       "\\textbf{Tnote rate}        &      -0.0096  &        0.009     &    -1.014  &         0.312        &       -0.028    &        0.009     \\\\\n",
       "\\bottomrule\n",
       "\\end{tabular}\n",
       "\\begin{tabular}{lclc}\n",
       "\\textbf{Omnibus:}       & 53.648 & \\textbf{  Durbin-Watson:     } &    1.776  \\\\\n",
       "\\textbf{Prob(Omnibus):} &  0.000 & \\textbf{  Jarque-Bera (JB):  } &  238.333  \\\\\n",
       "\\textbf{Skew:}          & -1.071 & \\textbf{  Prob(JB):          } & 1.76e-52  \\\\\n",
       "\\textbf{Kurtosis:}      &  8.318 & \\textbf{  Cond. No.          } &     12.2  \\\\\n",
       "\\bottomrule\n",
       "\\end{tabular}\n",
       "%\\caption{OLS Regression Results}\n",
       "\\end{center}\n",
       "\n",
       "Notes: \\newline\n",
       " [1] Standard Errors assume that the covariance matrix of the errors is correctly specified."
      ],
      "text/plain": [
       "<class 'statsmodels.iolib.summary.Summary'>\n",
       "\"\"\"\n",
       "                            OLS Regression Results                            \n",
       "==============================================================================\n",
       "Dep. Variable:                    USO   R-squared:                       0.028\n",
       "Model:                            OLS   Adj. R-squared:                  0.017\n",
       "Method:                 Least Squares   F-statistic:                     2.475\n",
       "Date:                Fri, 29 Nov 2024   Prob (F-statistic):             0.0871\n",
       "Time:                        09:01:40   Log-Likelihood:                 151.77\n",
       "No. Observations:                 174   AIC:                            -297.5\n",
       "Df Residuals:                     171   BIC:                            -288.1\n",
       "Df Model:                           2                                         \n",
       "Covariance Type:            nonrobust                                         \n",
       "=====================================================================================\n",
       "                        coef    std err          t      P>|t|      [0.025      0.975]\n",
       "-------------------------------------------------------------------------------------\n",
       "const                 0.0201      0.024      0.849      0.397      -0.027       0.067\n",
       "Tnote rate change     0.0741      0.034      2.156      0.032       0.006       0.142\n",
       "Tnote rate           -0.0096      0.009     -1.014      0.312      -0.028       0.009\n",
       "==============================================================================\n",
       "Omnibus:                       53.648   Durbin-Watson:                   1.776\n",
       "Prob(Omnibus):                  0.000   Jarque-Bera (JB):              238.333\n",
       "Skew:                          -1.071   Prob(JB):                     1.76e-52\n",
       "Kurtosis:                       8.318   Cond. No.                         12.2\n",
       "==============================================================================\n",
       "\n",
       "Notes:\n",
       "[1] Standard Errors assume that the covariance matrix of the errors is correctly specified.\n",
       "\"\"\""
      ]
     },
     "execution_count": 30,
     "metadata": {},
     "output_type": "execute_result"
    }
   ],
   "source": [
    "import statsmodels.api as sm \n",
    "y = forecasting['USO']\n",
    "x = forecasting[['Tnote rate change', 'Tnote rate']].shift()\n",
    "x = sm.add_constant(x)  # Add constant term (intercept)\n",
    "\n",
    "data = pd.concat([y, x], axis=1).dropna()\n",
    "y = data['USO']\n",
    "x = data[['const', 'Tnote rate change', 'Tnote rate']]\n",
    "\n",
    "model = sm.OLS(y, x).fit()\n",
    "model.summary()\n"
   ]
  },
  {
   "cell_type": "code",
   "execution_count": 130,
   "id": "a688cb86-8a5e-4408-b9cc-237283df86d4",
   "metadata": {},
   "outputs": [
    {
     "data": {
      "text/plain": [
       "date\n",
       "2009-06-30    0.011664\n",
       "2009-07-31   -0.009085\n",
       "2009-08-31   -0.014053\n",
       "2009-09-30   -0.018930\n",
       "2009-10-31   -0.019299\n",
       "                ...   \n",
       "2023-07-31   -0.004283\n",
       "2023-08-31   -0.008676\n",
       "2023-09-30   -0.013714\n",
       "2023-10-31    0.009022\n",
       "2023-11-30    0.001618\n",
       "Length: 174, dtype: float64"
      ]
     },
     "execution_count": 130,
     "metadata": {},
     "output_type": "execute_result"
    }
   ],
   "source": [
    "alpha = model.params['const']\n",
    "beta_1 = model.params['Tnote rate change']\n",
    "beta_2 = model.params['Tnote rate']\n",
    "\n",
    "forecasted_returns = alpha + beta_1 * forecasting['Tnote rate change'].shift() + beta_2 * forecasting['Tnote rate']\n",
    "forecasted_returns = forecasted_returns.dropna()\n",
    "forecasted_returns"
   ]
  },
  {
   "cell_type": "code",
   "execution_count": 134,
   "id": "4e999cd7-8b2f-4410-a7ca-9cae88a6d2c9",
   "metadata": {},
   "outputs": [
    {
     "data": {
      "text/plain": [
       "(-0.10177964796155718, 0.12318402954155545, -0.4285165391761875)"
      ]
     },
     "execution_count": 134,
     "metadata": {},
     "output_type": "execute_result"
    }
   ],
   "source": [
    "er = forecasted_returns.mean()*annualization_factor\n",
    "vol = forecasted_returns.std() *np.sqrt(annualization_factor)\n",
    "    \n",
    "wealth_index = 1000*(1+forecasted_returns).cumprod()\n",
    "previous_peaks = wealth_index.cummax()\n",
    "drawdowns = (wealth_index - previous_peaks)/previous_peaks\n",
    "\n",
    "er, vol, drawdowns.min()"
   ]
  },
  {
   "cell_type": "code",
   "execution_count": 135,
   "id": "64e8cc3c-c26c-4aa2-856e-96d11241f0a1",
   "metadata": {},
   "outputs": [
    {
     "data": {
      "text/plain": [
       "(-0.09947476816682158, 0.7420210913526355, -0.9470653372285206)"
      ]
     },
     "execution_count": 135,
     "metadata": {},
     "output_type": "execute_result"
    }
   ],
   "source": [
    "er = y.mean()*annualization_factor\n",
    "vol = y.std() *np.sqrt(annualization_factor)\n",
    "    \n",
    "wealth_index = 1000*(1+y).cumprod()\n",
    "previous_peaks = wealth_index.cummax()\n",
    "drawdowns = (wealth_index - previous_peaks)/previous_peaks\n",
    "\n",
    "er, vol, drawdowns.min()"
   ]
  },
  {
   "cell_type": "code",
   "execution_count": 147,
   "id": "45d36c23-c206-4966-baf1-1671fd04c6ae",
   "metadata": {},
   "outputs": [
    {
     "data": {
      "text/html": [
       "<table class=\"simpletable\">\n",
       "<caption>OLS Regression Results</caption>\n",
       "<tr>\n",
       "  <th>Dep. Variable:</th>            <td>y</td>        <th>  R-squared:         </th> <td>   0.015</td>\n",
       "</tr>\n",
       "<tr>\n",
       "  <th>Model:</th>                   <td>OLS</td>       <th>  Adj. R-squared:    </th> <td>   0.010</td>\n",
       "</tr>\n",
       "<tr>\n",
       "  <th>Method:</th>             <td>Least Squares</td>  <th>  F-statistic:       </th> <td>   2.678</td>\n",
       "</tr>\n",
       "<tr>\n",
       "  <th>Date:</th>             <td>Thu, 28 Nov 2024</td> <th>  Prob (F-statistic):</th>  <td> 0.104</td> \n",
       "</tr>\n",
       "<tr>\n",
       "  <th>Time:</th>                 <td>19:51:37</td>     <th>  Log-Likelihood:    </th> <td>  463.08</td>\n",
       "</tr>\n",
       "<tr>\n",
       "  <th>No. Observations:</th>      <td>   174</td>      <th>  AIC:               </th> <td>  -922.2</td>\n",
       "</tr>\n",
       "<tr>\n",
       "  <th>Df Residuals:</th>          <td>   172</td>      <th>  BIC:               </th> <td>  -915.8</td>\n",
       "</tr>\n",
       "<tr>\n",
       "  <th>Df Model:</th>              <td>     1</td>      <th>                     </th>     <td> </td>   \n",
       "</tr>\n",
       "<tr>\n",
       "  <th>Covariance Type:</th>      <td>nonrobust</td>    <th>                     </th>     <td> </td>   \n",
       "</tr>\n",
       "</table>\n",
       "<table class=\"simpletable\">\n",
       "<tr>\n",
       "    <td></td>       <th>coef</th>     <th>std err</th>      <th>t</th>      <th>P>|t|</th>  <th>[0.025</th>    <th>0.975]</th>  \n",
       "</tr>\n",
       "<tr>\n",
       "  <th>const</th> <td>   -0.0019</td> <td>    0.001</td> <td>   -1.488</td> <td> 0.139</td> <td>   -0.004</td> <td>    0.001</td>\n",
       "</tr>\n",
       "<tr>\n",
       "  <th>USO</th>   <td>    0.0206</td> <td>    0.013</td> <td>    1.636</td> <td> 0.104</td> <td>   -0.004</td> <td>    0.045</td>\n",
       "</tr>\n",
       "</table>\n",
       "<table class=\"simpletable\">\n",
       "<tr>\n",
       "  <th>Omnibus:</th>       <td> 2.281</td> <th>  Durbin-Watson:     </th> <td>   1.860</td>\n",
       "</tr>\n",
       "<tr>\n",
       "  <th>Prob(Omnibus):</th> <td> 0.320</td> <th>  Jarque-Bera (JB):  </th> <td>   2.283</td>\n",
       "</tr>\n",
       "<tr>\n",
       "  <th>Skew:</th>          <td>-0.273</td> <th>  Prob(JB):          </th> <td>   0.319</td>\n",
       "</tr>\n",
       "<tr>\n",
       "  <th>Kurtosis:</th>      <td> 2.873</td> <th>  Cond. No.          </th> <td>    9.75</td>\n",
       "</tr>\n",
       "</table><br/><br/>Notes:<br/>[1] Standard Errors assume that the covariance matrix of the errors is correctly specified."
      ],
      "text/latex": [
       "\\begin{center}\n",
       "\\begin{tabular}{lclc}\n",
       "\\toprule\n",
       "\\textbf{Dep. Variable:}    &        y         & \\textbf{  R-squared:         } &     0.015   \\\\\n",
       "\\textbf{Model:}            &       OLS        & \\textbf{  Adj. R-squared:    } &     0.010   \\\\\n",
       "\\textbf{Method:}           &  Least Squares   & \\textbf{  F-statistic:       } &     2.678   \\\\\n",
       "\\textbf{Date:}             & Thu, 28 Nov 2024 & \\textbf{  Prob (F-statistic):} &    0.104    \\\\\n",
       "\\textbf{Time:}             &     19:51:37     & \\textbf{  Log-Likelihood:    } &    463.08   \\\\\n",
       "\\textbf{No. Observations:} &         174      & \\textbf{  AIC:               } &    -922.2   \\\\\n",
       "\\textbf{Df Residuals:}     &         172      & \\textbf{  BIC:               } &    -915.8   \\\\\n",
       "\\textbf{Df Model:}         &           1      & \\textbf{                     } &             \\\\\n",
       "\\textbf{Covariance Type:}  &    nonrobust     & \\textbf{                     } &             \\\\\n",
       "\\bottomrule\n",
       "\\end{tabular}\n",
       "\\begin{tabular}{lcccccc}\n",
       "               & \\textbf{coef} & \\textbf{std err} & \\textbf{t} & \\textbf{P$> |$t$|$} & \\textbf{[0.025} & \\textbf{0.975]}  \\\\\n",
       "\\midrule\n",
       "\\textbf{const} &      -0.0019  &        0.001     &    -1.488  &         0.139        &       -0.004    &        0.001     \\\\\n",
       "\\textbf{USO}   &       0.0206  &        0.013     &     1.636  &         0.104        &       -0.004    &        0.045     \\\\\n",
       "\\bottomrule\n",
       "\\end{tabular}\n",
       "\\begin{tabular}{lclc}\n",
       "\\textbf{Omnibus:}       &  2.281 & \\textbf{  Durbin-Watson:     } &    1.860  \\\\\n",
       "\\textbf{Prob(Omnibus):} &  0.320 & \\textbf{  Jarque-Bera (JB):  } &    2.283  \\\\\n",
       "\\textbf{Skew:}          & -0.273 & \\textbf{  Prob(JB):          } &    0.319  \\\\\n",
       "\\textbf{Kurtosis:}      &  2.873 & \\textbf{  Cond. No.          } &     9.75  \\\\\n",
       "\\bottomrule\n",
       "\\end{tabular}\n",
       "%\\caption{OLS Regression Results}\n",
       "\\end{center}\n",
       "\n",
       "Notes: \\newline\n",
       " [1] Standard Errors assume that the covariance matrix of the errors is correctly specified."
      ],
      "text/plain": [
       "<class 'statsmodels.iolib.summary.Summary'>\n",
       "\"\"\"\n",
       "                            OLS Regression Results                            \n",
       "==============================================================================\n",
       "Dep. Variable:                      y   R-squared:                       0.015\n",
       "Model:                            OLS   Adj. R-squared:                  0.010\n",
       "Method:                 Least Squares   F-statistic:                     2.678\n",
       "Date:                Thu, 28 Nov 2024   Prob (F-statistic):              0.104\n",
       "Time:                        19:51:37   Log-Likelihood:                 463.08\n",
       "No. Observations:                 174   AIC:                            -922.2\n",
       "Df Residuals:                     172   BIC:                            -915.8\n",
       "Df Model:                           1                                         \n",
       "Covariance Type:            nonrobust                                         \n",
       "==============================================================================\n",
       "                 coef    std err          t      P>|t|      [0.025      0.975]\n",
       "------------------------------------------------------------------------------\n",
       "const         -0.0019      0.001     -1.488      0.139      -0.004       0.001\n",
       "USO            0.0206      0.013      1.636      0.104      -0.004       0.045\n",
       "==============================================================================\n",
       "Omnibus:                        2.281   Durbin-Watson:                   1.860\n",
       "Prob(Omnibus):                  0.320   Jarque-Bera (JB):                2.283\n",
       "Skew:                          -0.273   Prob(JB):                        0.319\n",
       "Kurtosis:                       2.873   Cond. No.                         9.75\n",
       "==============================================================================\n",
       "\n",
       "Notes:\n",
       "[1] Standard Errors assume that the covariance matrix of the errors is correctly specified.\n",
       "\"\"\""
      ]
     },
     "execution_count": 147,
     "metadata": {},
     "output_type": "execute_result"
    }
   ],
   "source": [
    "# optimal hedge ratio -> regres \n",
    "y = forecasted_returns\n",
    "x = forecasting['USO'][1:]\n",
    "model = sm.OLS(y, sm.add_constant(x)).fit()\n",
    "model.summary()"
   ]
  },
  {
   "cell_type": "markdown",
   "id": "25dafb70-4d21-496b-b5a1-6df2ab25db49",
   "metadata": {},
   "source": [
    "- Hedge ratio = 0.0206. Therefore, just long 2.06% of USO on the portfolio. \n"
   ]
  },
  {
   "cell_type": "code",
   "execution_count": 151,
   "id": "cca81313-3955-458e-87b4-2d5447be2662",
   "metadata": {},
   "outputs": [
    {
     "data": {
      "text/plain": [
       "-0.003914601844675276"
      ]
     },
     "execution_count": 151,
     "metadata": {},
     "output_type": "execute_result"
    }
   ],
   "source": [
    "((forecasting['USO'][1:] * model.params['USO'] +  model.params['const']) + forecasted_returns).mean()"
   ]
  },
  {
   "cell_type": "code",
   "execution_count": 53,
   "id": "9770fd3b-bb08-4033-bb84-f51f9fdd7d80",
   "metadata": {},
   "outputs": [],
   "source": [
    "def OOS_strat(df, factors, start):\n",
    "    y = df\n",
    "    X = sm.add_constant(factors)\n",
    "\n",
    "    forecast_err, null_err,oos_predictions,null_predictions = [], [],[],[]\n",
    "\n",
    "    for i,j in enumerate(df.index):\n",
    "        if i >= start:\n",
    "            currX = X.iloc[:i]\n",
    "            currY = y.iloc[:i]\n",
    "            reg = sm.OLS(currY, currX, missing = 'drop').fit()\n",
    "            null_forecast = currY.mean()\n",
    "            reg_predict = reg.predict(X.iloc[[i]])\n",
    "            actual = y.iloc[[i]]\n",
    "            oos_predictions.append(reg_predict.T)\n",
    "            null_predictions.append(pd.DataFrame([[reg_predict.index[0]]], columns = ['date'], index = [null_forecast]))\n",
    "            forecast_err.append(reg_predict.values - actual)\n",
    "            \n",
    "            null_err.append(null_forecast - actual)\n",
    "            \n",
    "    RSS = (np.array(forecast_err)**2).sum()\n",
    "    TSS = (np.array(null_err)**2).sum()\n",
    "    predictions_df = pd.concat(oos_predictions).T.drop_duplicates()\n",
    "    null_predictions_df = pd.concat(null_predictions).reset_index().set_index('date')\n",
    "    null_predictions_df = null_predictions_df.rename(columns = {'index':'Baseline Forecasts'})\n",
    "    \n",
    "    return ((1 - RSS/TSS),reg,predictions_df,null_predictions_df)"
   ]
  },
  {
   "cell_type": "code",
   "execution_count": 36,
   "id": "259a293b-dced-44eb-9244-37bb4234b036",
   "metadata": {},
   "outputs": [
    {
     "data": {
      "text/plain": [
       "104"
      ]
     },
     "execution_count": 36,
     "metadata": {},
     "output_type": "execute_result"
    }
   ],
   "source": [
    "forecasting.loc[:'2017'].shape[0]"
   ]
  },
  {
   "cell_type": "code",
   "execution_count": 54,
   "id": "a69cbf68-51df-4be6-8207-93f6842d972f",
   "metadata": {},
   "outputs": [
    {
     "data": {
      "text/plain": [
       "(date\n",
       " 2018-01-31   -0.007559\n",
       " 2018-02-28    0.002248\n",
       " 2018-03-31   -0.005113\n",
       " 2018-04-30   -0.011960\n",
       " 2018-05-31   -0.002330\n",
       " dtype: float64,\n",
       " date\n",
       " 2023-07-31   -0.006231\n",
       " 2023-08-31   -0.006372\n",
       " 2023-09-30   -0.007037\n",
       " 2023-10-31    0.019210\n",
       " 2023-11-30   -0.002345\n",
       " dtype: float64)"
      ]
     },
     "execution_count": 54,
     "metadata": {},
     "output_type": "execute_result"
    }
   ],
   "source": [
    "factor = forecasting[['Tnote rate', 'Tnote rate change']].shift(1) \n",
    "fund = forecasting['USO']\n",
    "OOS_r2, OOS_reg_params, OOS_forecasts, null_predictions_df = OOS_strat(fund,factor, forecasting.loc[:'2017'].shape[0])\n",
    "OOS_forecasts.head(), OOS_forecasts.tail()"
   ]
  },
  {
   "cell_type": "code",
   "execution_count": 56,
   "id": "6b25ea57-73c5-44e9-9318-a253b4d189f8",
   "metadata": {},
   "outputs": [
    {
     "data": {
      "text/html": [
       "<div>\n",
       "<style scoped>\n",
       "    .dataframe tbody tr th:only-of-type {\n",
       "        vertical-align: middle;\n",
       "    }\n",
       "\n",
       "    .dataframe tbody tr th {\n",
       "        vertical-align: top;\n",
       "    }\n",
       "\n",
       "    .dataframe thead th {\n",
       "        text-align: right;\n",
       "    }\n",
       "</style>\n",
       "<table border=\"1\" class=\"dataframe\">\n",
       "  <thead>\n",
       "    <tr style=\"text-align: right;\">\n",
       "      <th></th>\n",
       "      <th>Baseline Forecasts</th>\n",
       "    </tr>\n",
       "    <tr>\n",
       "      <th>date</th>\n",
       "      <th></th>\n",
       "    </tr>\n",
       "  </thead>\n",
       "  <tbody>\n",
       "    <tr>\n",
       "      <th>2018-01-31</th>\n",
       "      <td>-0.004810</td>\n",
       "    </tr>\n",
       "    <tr>\n",
       "      <th>2018-02-28</th>\n",
       "      <td>-0.003995</td>\n",
       "    </tr>\n",
       "    <tr>\n",
       "      <th>2018-03-31</th>\n",
       "      <td>-0.004400</td>\n",
       "    </tr>\n",
       "    <tr>\n",
       "      <th>2018-04-30</th>\n",
       "      <td>-0.003815</td>\n",
       "    </tr>\n",
       "    <tr>\n",
       "      <th>2018-05-31</th>\n",
       "      <td>-0.003278</td>\n",
       "    </tr>\n",
       "  </tbody>\n",
       "</table>\n",
       "</div>"
      ],
      "text/plain": [
       "            Baseline Forecasts\n",
       "date                          \n",
       "2018-01-31           -0.004810\n",
       "2018-02-28           -0.003995\n",
       "2018-03-31           -0.004400\n",
       "2018-04-30           -0.003815\n",
       "2018-05-31           -0.003278"
      ]
     },
     "execution_count": 56,
     "metadata": {},
     "output_type": "execute_result"
    }
   ],
   "source": [
    "# baseline forecast -> mean of USO up to the point the forecast is made \n",
    "null_predictions_df.head()"
   ]
  },
  {
   "cell_type": "code",
   "execution_count": 57,
   "id": "32a4af01-7211-4435-91e4-b6907e329c4a",
   "metadata": {},
   "outputs": [
    {
     "data": {
      "text/plain": [
       "-0.0044913307399883085"
      ]
     },
     "execution_count": 57,
     "metadata": {},
     "output_type": "execute_result"
    }
   ],
   "source": [
    "OOS_r2"
   ]
  },
  {
   "cell_type": "markdown",
   "id": "679ab35d-b821-4b55-a5b1-7f2dddfaa665",
   "metadata": {},
   "source": [
    "Not very effective. "
   ]
  },
  {
   "cell_type": "code",
   "execution_count": 64,
   "id": "7fb70005-de9e-4cae-aef6-9f930c1f7670",
   "metadata": {},
   "outputs": [
    {
     "data": {
      "text/html": [
       "<div>\n",
       "<style scoped>\n",
       "    .dataframe tbody tr th:only-of-type {\n",
       "        vertical-align: middle;\n",
       "    }\n",
       "\n",
       "    .dataframe tbody tr th {\n",
       "        vertical-align: top;\n",
       "    }\n",
       "\n",
       "    .dataframe thead th {\n",
       "        text-align: right;\n",
       "    }\n",
       "</style>\n",
       "<table border=\"1\" class=\"dataframe\">\n",
       "  <thead>\n",
       "    <tr style=\"text-align: right;\">\n",
       "      <th></th>\n",
       "      <th>date</th>\n",
       "      <th>Forecasted</th>\n",
       "      <th>Baseline Forecasts</th>\n",
       "    </tr>\n",
       "  </thead>\n",
       "  <tbody>\n",
       "    <tr>\n",
       "      <th>0</th>\n",
       "      <td>2018-01-31</td>\n",
       "      <td>-0.007559</td>\n",
       "      <td>-0.004810</td>\n",
       "    </tr>\n",
       "    <tr>\n",
       "      <th>1</th>\n",
       "      <td>2018-02-28</td>\n",
       "      <td>0.002248</td>\n",
       "      <td>-0.003995</td>\n",
       "    </tr>\n",
       "    <tr>\n",
       "      <th>2</th>\n",
       "      <td>2018-03-31</td>\n",
       "      <td>-0.005113</td>\n",
       "      <td>-0.004400</td>\n",
       "    </tr>\n",
       "    <tr>\n",
       "      <th>3</th>\n",
       "      <td>2018-04-30</td>\n",
       "      <td>-0.011960</td>\n",
       "      <td>-0.003815</td>\n",
       "    </tr>\n",
       "    <tr>\n",
       "      <th>4</th>\n",
       "      <td>2018-05-31</td>\n",
       "      <td>-0.002330</td>\n",
       "      <td>-0.003278</td>\n",
       "    </tr>\n",
       "    <tr>\n",
       "      <th>...</th>\n",
       "      <td>...</td>\n",
       "      <td>...</td>\n",
       "      <td>...</td>\n",
       "    </tr>\n",
       "    <tr>\n",
       "      <th>66</th>\n",
       "      <td>2023-07-31</td>\n",
       "      <td>-0.006231</td>\n",
       "      <td>-0.001238</td>\n",
       "    </tr>\n",
       "    <tr>\n",
       "      <th>67</th>\n",
       "      <td>2023-08-31</td>\n",
       "      <td>-0.006372</td>\n",
       "      <td>-0.000345</td>\n",
       "    </tr>\n",
       "    <tr>\n",
       "      <th>68</th>\n",
       "      <td>2023-09-30</td>\n",
       "      <td>-0.007037</td>\n",
       "      <td>-0.000193</td>\n",
       "    </tr>\n",
       "    <tr>\n",
       "      <th>69</th>\n",
       "      <td>2023-10-31</td>\n",
       "      <td>0.019210</td>\n",
       "      <td>0.000255</td>\n",
       "    </tr>\n",
       "    <tr>\n",
       "      <th>70</th>\n",
       "      <td>2023-11-30</td>\n",
       "      <td>-0.002345</td>\n",
       "      <td>-0.000162</td>\n",
       "    </tr>\n",
       "  </tbody>\n",
       "</table>\n",
       "<p>71 rows × 3 columns</p>\n",
       "</div>"
      ],
      "text/plain": [
       "         date  Forecasted  Baseline Forecasts\n",
       "0  2018-01-31   -0.007559           -0.004810\n",
       "1  2018-02-28    0.002248           -0.003995\n",
       "2  2018-03-31   -0.005113           -0.004400\n",
       "3  2018-04-30   -0.011960           -0.003815\n",
       "4  2018-05-31   -0.002330           -0.003278\n",
       "..        ...         ...                 ...\n",
       "66 2023-07-31   -0.006231           -0.001238\n",
       "67 2023-08-31   -0.006372           -0.000345\n",
       "68 2023-09-30   -0.007037           -0.000193\n",
       "69 2023-10-31    0.019210            0.000255\n",
       "70 2023-11-30   -0.002345           -0.000162\n",
       "\n",
       "[71 rows x 3 columns]"
      ]
     },
     "execution_count": 64,
     "metadata": {},
     "output_type": "execute_result"
    }
   ],
   "source": [
    "OOS_forecasts = OOS_forecasts.reset_index().rename(columns = {0: 'Forecasted'})\n",
    "null_predictions_df = null_predictions_df.reset_index()\n"
   ]
  },
  {
   "cell_type": "code",
   "execution_count": 70,
   "id": "4918ebf9-2d67-4a59-877c-e1b0095df53e",
   "metadata": {},
   "outputs": [
    {
     "data": {
      "text/html": [
       "<div>\n",
       "<style scoped>\n",
       "    .dataframe tbody tr th:only-of-type {\n",
       "        vertical-align: middle;\n",
       "    }\n",
       "\n",
       "    .dataframe tbody tr th {\n",
       "        vertical-align: top;\n",
       "    }\n",
       "\n",
       "    .dataframe thead th {\n",
       "        text-align: right;\n",
       "    }\n",
       "</style>\n",
       "<table border=\"1\" class=\"dataframe\">\n",
       "  <thead>\n",
       "    <tr style=\"text-align: right;\">\n",
       "      <th></th>\n",
       "      <th>Forecasted</th>\n",
       "      <th>USO</th>\n",
       "    </tr>\n",
       "  </thead>\n",
       "  <tbody>\n",
       "    <tr>\n",
       "      <th>Forecasted</th>\n",
       "      <td>1.000000</td>\n",
       "      <td>0.031923</td>\n",
       "    </tr>\n",
       "    <tr>\n",
       "      <th>USO</th>\n",
       "      <td>0.031923</td>\n",
       "      <td>1.000000</td>\n",
       "    </tr>\n",
       "  </tbody>\n",
       "</table>\n",
       "</div>"
      ],
      "text/plain": [
       "            Forecasted       USO\n",
       "Forecasted    1.000000  0.031923\n",
       "USO           0.031923  1.000000"
      ]
     },
     "execution_count": 70,
     "metadata": {},
     "output_type": "execute_result"
    }
   ],
   "source": [
    "uso = forecasting.loc['2018':, 'USO'].reset_index()\n",
    "combined_df = pd.merge(OOS_forecasts, uso, on = 'date')\n",
    "combined_df.set_index('date').corr()\n"
   ]
  },
  {
   "cell_type": "code",
   "execution_count": 100,
   "id": "2afbe989-7099-44d9-a37f-f8ba149062b8",
   "metadata": {},
   "outputs": [
    {
     "data": {
      "text/plain": [
       "0.005297200973195491"
      ]
     },
     "execution_count": 100,
     "metadata": {},
     "output_type": "execute_result"
    }
   ],
   "source": [
    "# traded strategy \n",
    "traded_strat = OOS_forecasts.set_index('date') * 50 + 0.5\n",
    "performance_summary(traded_strat, 0.05, 12)[['Mean', 'Volatility', 'Max Drawdown']]\n",
    "returns = traded_strat['Forecasted'].values *  uso['USO']\n",
    "returns.mean()"
   ]
  },
  {
   "cell_type": "code",
   "execution_count": 107,
   "id": "bb508d20-3427-447d-bbf0-63b4c330d6c1",
   "metadata": {},
   "outputs": [
    {
     "data": {
      "text/plain": [
       "0     0.009859\n",
       "1    -0.028779\n",
       "2     0.014222\n",
       "3    -0.005315\n",
       "4    -0.006948\n",
       "        ...   \n",
       "66    0.028528\n",
       "67    0.004685\n",
       "68    0.011448\n",
       "69   -0.105482\n",
       "70   -0.012755\n",
       "Length: 71, dtype: float64"
      ]
     },
     "execution_count": 107,
     "metadata": {},
     "output_type": "execute_result"
    }
   ],
   "source": [
    "returns = (OOS_forecasts['Forecasted'] * 50 + 0.5) *  uso['USO']\n",
    "returns"
   ]
  },
  {
   "cell_type": "code",
   "execution_count": 112,
   "id": "b0f97034-ff99-479e-99e2-5fa9dbda07e7",
   "metadata": {},
   "outputs": [
    {
     "data": {
      "text/plain": [
       "(0.0635664116783459, 1.6594978476427986)"
      ]
     },
     "execution_count": 112,
     "metadata": {},
     "output_type": "execute_result"
    }
   ],
   "source": [
    "returns.mean() * 12, returns.std() * 12"
   ]
  },
  {
   "cell_type": "code",
   "execution_count": 113,
   "id": "7547999b-63ae-43de-ab71-719975d3433b",
   "metadata": {},
   "outputs": [
    {
     "data": {
      "text/plain": [
       "(0.07415155037442853, 1.558480079396587)"
      ]
     },
     "execution_count": 113,
     "metadata": {},
     "output_type": "execute_result"
    }
   ],
   "source": [
    "uso['USO'].mean() * 12, uso['USO'].std() * 12"
   ]
  },
  {
   "cell_type": "code",
   "execution_count": 115,
   "id": "61c0fd0e-e720-4bbe-a0ea-f8bf9dc504a1",
   "metadata": {},
   "outputs": [
    {
     "data": {
      "text/plain": [
       "(-0.8460051524219763, -0.8189743416160853)"
      ]
     },
     "execution_count": 115,
     "metadata": {},
     "output_type": "execute_result"
    }
   ],
   "source": [
    "def get_max_dd(return_data): \n",
    "    wealth_index = 1000*(1+return_data).cumprod()\n",
    "    previous_peaks = wealth_index.cummax()\n",
    "    drawdowns = (wealth_index - previous_peaks)/previous_peaks\n",
    "\n",
    "    return drawdowns.min()\n",
    "get_max_dd(uso['USO']), get_max_dd(returns)"
   ]
  },
  {
   "cell_type": "markdown",
   "id": "ac8ec769-80ae-4ff0-8c11-3711075e541d",
   "metadata": {},
   "source": [
    "# FX"
   ]
  },
  {
   "cell_type": "code",
   "execution_count": 3,
   "id": "8ee6e8ae-715b-46a8-b8f2-0019d0db7798",
   "metadata": {},
   "outputs": [],
   "source": [
    "fx_carry = pd.read_excel('./final_exam_data.xlsx',sheet_name='fx_carry',index_col=0)"
   ]
  },
  {
   "cell_type": "code",
   "execution_count": 4,
   "id": "518d7b14-d35c-4a1f-b7bb-08929b596baf",
   "metadata": {},
   "outputs": [],
   "source": [
    "risk_free_rates = fx_carry[['SOFR', 'MXSTR']]\n",
    "mxn = fx_carry['MXN'] \n"
   ]
  },
  {
   "cell_type": "code",
   "execution_count": 6,
   "id": "8dfdc896-caf3-4c76-87d4-13eac119bd6d",
   "metadata": {},
   "outputs": [
    {
     "name": "stderr",
     "output_type": "stream",
     "text": [
      "/var/folders/qq/h84pzsw93xbd60q11ssc5v640000gn/T/ipykernel_1732/582841821.py:3: SettingWithCopyWarning: \n",
      "A value is trying to be set on a copy of a slice from a DataFrame.\n",
      "Try using .loc[row_indexer,col_indexer] = value instead\n",
      "\n",
      "See the caveats in the documentation: https://pandas.pydata.org/pandas-docs/stable/user_guide/indexing.html#returning-a-view-versus-a-copy\n",
      "  risk_free_rates[col] = fx_carry[col]\n"
     ]
    },
    {
     "data": {
      "text/html": [
       "<div>\n",
       "<style scoped>\n",
       "    .dataframe tbody tr th:only-of-type {\n",
       "        vertical-align: middle;\n",
       "    }\n",
       "\n",
       "    .dataframe tbody tr th {\n",
       "        vertical-align: top;\n",
       "    }\n",
       "\n",
       "    .dataframe thead th {\n",
       "        text-align: right;\n",
       "    }\n",
       "</style>\n",
       "<table border=\"1\" class=\"dataframe\">\n",
       "  <thead>\n",
       "    <tr style=\"text-align: right;\">\n",
       "      <th></th>\n",
       "      <th>SOFR</th>\n",
       "      <th>MXSTR</th>\n",
       "      <th>log_SOFR</th>\n",
       "      <th>log_MXSTR</th>\n",
       "    </tr>\n",
       "    <tr>\n",
       "      <th>date</th>\n",
       "      <th></th>\n",
       "      <th></th>\n",
       "      <th></th>\n",
       "      <th></th>\n",
       "    </tr>\n",
       "  </thead>\n",
       "  <tbody>\n",
       "    <tr>\n",
       "      <th>2018-04-03</th>\n",
       "      <td>0.000073</td>\n",
       "      <td>0.000298</td>\n",
       "      <td>0.000073</td>\n",
       "      <td>0.000298</td>\n",
       "    </tr>\n",
       "    <tr>\n",
       "      <th>2018-04-04</th>\n",
       "      <td>0.000069</td>\n",
       "      <td>0.000298</td>\n",
       "      <td>0.000069</td>\n",
       "      <td>0.000298</td>\n",
       "    </tr>\n",
       "    <tr>\n",
       "      <th>2018-04-05</th>\n",
       "      <td>0.000069</td>\n",
       "      <td>0.000298</td>\n",
       "      <td>0.000069</td>\n",
       "      <td>0.000298</td>\n",
       "    </tr>\n",
       "    <tr>\n",
       "      <th>2018-04-06</th>\n",
       "      <td>0.000069</td>\n",
       "      <td>0.000298</td>\n",
       "      <td>0.000069</td>\n",
       "      <td>0.000298</td>\n",
       "    </tr>\n",
       "    <tr>\n",
       "      <th>2018-04-09</th>\n",
       "      <td>0.000069</td>\n",
       "      <td>0.000298</td>\n",
       "      <td>0.000069</td>\n",
       "      <td>0.000298</td>\n",
       "    </tr>\n",
       "    <tr>\n",
       "      <th>...</th>\n",
       "      <td>...</td>\n",
       "      <td>...</td>\n",
       "      <td>...</td>\n",
       "      <td>...</td>\n",
       "    </tr>\n",
       "    <tr>\n",
       "      <th>2023-11-24</th>\n",
       "      <td>0.000211</td>\n",
       "      <td>0.000446</td>\n",
       "      <td>0.000211</td>\n",
       "      <td>0.000446</td>\n",
       "    </tr>\n",
       "    <tr>\n",
       "      <th>2023-11-27</th>\n",
       "      <td>0.000211</td>\n",
       "      <td>0.000446</td>\n",
       "      <td>0.000211</td>\n",
       "      <td>0.000446</td>\n",
       "    </tr>\n",
       "    <tr>\n",
       "      <th>2023-11-28</th>\n",
       "      <td>0.000211</td>\n",
       "      <td>0.000446</td>\n",
       "      <td>0.000211</td>\n",
       "      <td>0.000446</td>\n",
       "    </tr>\n",
       "    <tr>\n",
       "      <th>2023-11-29</th>\n",
       "      <td>0.000211</td>\n",
       "      <td>0.000446</td>\n",
       "      <td>0.000211</td>\n",
       "      <td>0.000446</td>\n",
       "    </tr>\n",
       "    <tr>\n",
       "      <th>2023-11-30</th>\n",
       "      <td>0.000212</td>\n",
       "      <td>0.000446</td>\n",
       "      <td>0.000211</td>\n",
       "      <td>0.000446</td>\n",
       "    </tr>\n",
       "  </tbody>\n",
       "</table>\n",
       "<p>1380 rows × 4 columns</p>\n",
       "</div>"
      ],
      "text/plain": [
       "                SOFR     MXSTR  log_SOFR  log_MXSTR\n",
       "date                                               \n",
       "2018-04-03  0.000073  0.000298  0.000073   0.000298\n",
       "2018-04-04  0.000069  0.000298  0.000069   0.000298\n",
       "2018-04-05  0.000069  0.000298  0.000069   0.000298\n",
       "2018-04-06  0.000069  0.000298  0.000069   0.000298\n",
       "2018-04-09  0.000069  0.000298  0.000069   0.000298\n",
       "...              ...       ...       ...        ...\n",
       "2023-11-24  0.000211  0.000446  0.000211   0.000446\n",
       "2023-11-27  0.000211  0.000446  0.000211   0.000446\n",
       "2023-11-28  0.000211  0.000446  0.000211   0.000446\n",
       "2023-11-29  0.000211  0.000446  0.000211   0.000446\n",
       "2023-11-30  0.000212  0.000446  0.000211   0.000446\n",
       "\n",
       "[1380 rows x 4 columns]"
      ]
     },
     "execution_count": 6,
     "metadata": {},
     "output_type": "execute_result"
    }
   ],
   "source": [
    "import numpy as np \n",
    "for col in risk_free_rates.columns:\n",
    "    risk_free_rates[col] = fx_carry[col]\n",
    "    risk_free_rates['log_'+col] = np.log(1+fx_carry[col])\n",
    "risk_free_rates"
   ]
  },
  {
   "cell_type": "code",
   "execution_count": 7,
   "id": "fa6c627a-ecbb-4139-ab3c-9d119043b46e",
   "metadata": {},
   "outputs": [
    {
     "data": {
      "text/plain": [
       "log_SOFR     0.000072\n",
       "log_MXSTR    0.000291\n",
       "dtype: float64"
      ]
     },
     "execution_count": 7,
     "metadata": {},
     "output_type": "execute_result"
    }
   ],
   "source": [
    "risk_free_rates[['log_SOFR','log_MXSTR']].mean()"
   ]
  },
  {
   "cell_type": "code",
   "execution_count": 8,
   "id": "c506d575-d281-41ff-8d37-babd6e4cca73",
   "metadata": {},
   "outputs": [
    {
     "data": {
      "text/plain": [
       "-2.981326252448035"
      ]
     },
     "execution_count": 8,
     "metadata": {},
     "output_type": "execute_result"
    }
   ],
   "source": [
    "mxn = np.log(mxn)\n",
    "mxn.mean()"
   ]
  },
  {
   "cell_type": "code",
   "execution_count": 9,
   "id": "bf5aae51-3113-4ee9-927c-9f7e865a546e",
   "metadata": {},
   "outputs": [
    {
     "data": {
      "text/plain": [
       "date\n",
       "2018-04-03   -2.901174\n",
       "2018-04-04   -2.903123\n",
       "2018-04-05   -2.897403\n",
       "2018-04-06   -2.908485\n",
       "2018-04-09   -2.902767\n",
       "Name: MXN, dtype: float64"
      ]
     },
     "execution_count": 9,
     "metadata": {},
     "output_type": "execute_result"
    }
   ],
   "source": [
    "mxn.head()"
   ]
  },
  {
   "cell_type": "code",
   "execution_count": 10,
   "id": "0bb6f4ba-73ba-4247-a032-ef152ff72d33",
   "metadata": {},
   "outputs": [],
   "source": [
    "def portfolio_metrics_basic(returns: pd.DataFrame, annualization_factor: float) -> pd.DataFrame: \n",
    "    '''\n",
    "    Returns Annualized ER, Vol, SR, \n",
    "    '''\n",
    "    \n",
    "    returns_df = pd.DataFrame(index = returns.columns) \n",
    "    mu = returns.mean() * annualization_factor\n",
    "    vol = returns.std() * np.sqrt(annualization_factor)\n",
    "    sr = mu / vol\n",
    "\n",
    "    \n",
    "    returns_df['Annnualized Return'] = mu.values \n",
    "    returns_df['Annnualized Vol'] = vol.values \n",
    "    returns_df['Annnualized SR'] = sr.values\n",
    "    \n",
    "    return returns_df\n",
    "\n"
   ]
  },
  {
   "cell_type": "code",
   "execution_count": 11,
   "id": "21654267-f520-425d-87db-1dc7898a5c1b",
   "metadata": {},
   "outputs": [
    {
     "data": {
      "text/html": [
       "<div>\n",
       "<style scoped>\n",
       "    .dataframe tbody tr th:only-of-type {\n",
       "        vertical-align: middle;\n",
       "    }\n",
       "\n",
       "    .dataframe tbody tr th {\n",
       "        vertical-align: top;\n",
       "    }\n",
       "\n",
       "    .dataframe thead th {\n",
       "        text-align: right;\n",
       "    }\n",
       "</style>\n",
       "<table border=\"1\" class=\"dataframe\">\n",
       "  <thead>\n",
       "    <tr style=\"text-align: right;\">\n",
       "      <th></th>\n",
       "      <th>mxn</th>\n",
       "    </tr>\n",
       "    <tr>\n",
       "      <th>date</th>\n",
       "      <th></th>\n",
       "    </tr>\n",
       "  </thead>\n",
       "  <tbody>\n",
       "    <tr>\n",
       "      <th>2018-04-03</th>\n",
       "      <td>-2.901174</td>\n",
       "    </tr>\n",
       "    <tr>\n",
       "      <th>2018-04-04</th>\n",
       "      <td>-2.903123</td>\n",
       "    </tr>\n",
       "    <tr>\n",
       "      <th>2018-04-05</th>\n",
       "      <td>-2.897403</td>\n",
       "    </tr>\n",
       "    <tr>\n",
       "      <th>2018-04-06</th>\n",
       "      <td>-2.908485</td>\n",
       "    </tr>\n",
       "    <tr>\n",
       "      <th>2018-04-09</th>\n",
       "      <td>-2.902767</td>\n",
       "    </tr>\n",
       "  </tbody>\n",
       "</table>\n",
       "</div>"
      ],
      "text/plain": [
       "                 mxn\n",
       "date                \n",
       "2018-04-03 -2.901174\n",
       "2018-04-04 -2.903123\n",
       "2018-04-05 -2.897403\n",
       "2018-04-06 -2.908485\n",
       "2018-04-09 -2.902767"
      ]
     },
     "execution_count": 11,
     "metadata": {},
     "output_type": "execute_result"
    }
   ],
   "source": [
    "mxn = mxn.to_frame('mxn')\n",
    "mxn.head()"
   ]
  },
  {
   "cell_type": "code",
   "execution_count": 12,
   "id": "922dd6d1-1778-45df-8f85-87bc7e83b7e0",
   "metadata": {},
   "outputs": [
    {
     "data": {
      "text/html": [
       "<div>\n",
       "<style scoped>\n",
       "    .dataframe tbody tr th:only-of-type {\n",
       "        vertical-align: middle;\n",
       "    }\n",
       "\n",
       "    .dataframe tbody tr th {\n",
       "        vertical-align: top;\n",
       "    }\n",
       "\n",
       "    .dataframe thead th {\n",
       "        text-align: right;\n",
       "    }\n",
       "</style>\n",
       "<table border=\"1\" class=\"dataframe\">\n",
       "  <thead>\n",
       "    <tr style=\"text-align: right;\">\n",
       "      <th></th>\n",
       "      <th>SOFR</th>\n",
       "      <th>MXSTR</th>\n",
       "      <th>log_SOFR</th>\n",
       "      <th>log_MXSTR</th>\n",
       "    </tr>\n",
       "    <tr>\n",
       "      <th>date</th>\n",
       "      <th></th>\n",
       "      <th></th>\n",
       "      <th></th>\n",
       "      <th></th>\n",
       "    </tr>\n",
       "  </thead>\n",
       "  <tbody>\n",
       "    <tr>\n",
       "      <th>2018-04-03</th>\n",
       "      <td>0.000073</td>\n",
       "      <td>0.000298</td>\n",
       "      <td>0.000073</td>\n",
       "      <td>0.000298</td>\n",
       "    </tr>\n",
       "    <tr>\n",
       "      <th>2018-04-04</th>\n",
       "      <td>0.000069</td>\n",
       "      <td>0.000298</td>\n",
       "      <td>0.000069</td>\n",
       "      <td>0.000298</td>\n",
       "    </tr>\n",
       "    <tr>\n",
       "      <th>2018-04-05</th>\n",
       "      <td>0.000069</td>\n",
       "      <td>0.000298</td>\n",
       "      <td>0.000069</td>\n",
       "      <td>0.000298</td>\n",
       "    </tr>\n",
       "    <tr>\n",
       "      <th>2018-04-06</th>\n",
       "      <td>0.000069</td>\n",
       "      <td>0.000298</td>\n",
       "      <td>0.000069</td>\n",
       "      <td>0.000298</td>\n",
       "    </tr>\n",
       "    <tr>\n",
       "      <th>2018-04-09</th>\n",
       "      <td>0.000069</td>\n",
       "      <td>0.000298</td>\n",
       "      <td>0.000069</td>\n",
       "      <td>0.000298</td>\n",
       "    </tr>\n",
       "  </tbody>\n",
       "</table>\n",
       "</div>"
      ],
      "text/plain": [
       "                SOFR     MXSTR  log_SOFR  log_MXSTR\n",
       "date                                               \n",
       "2018-04-03  0.000073  0.000298  0.000073   0.000298\n",
       "2018-04-04  0.000069  0.000298  0.000069   0.000298\n",
       "2018-04-05  0.000069  0.000298  0.000069   0.000298\n",
       "2018-04-06  0.000069  0.000298  0.000069   0.000298\n",
       "2018-04-09  0.000069  0.000298  0.000069   0.000298"
      ]
     },
     "execution_count": 12,
     "metadata": {},
     "output_type": "execute_result"
    }
   ],
   "source": [
    "risk_free_rates.head()"
   ]
  },
  {
   "cell_type": "code",
   "execution_count": 13,
   "id": "6876a024-037e-4f72-bce5-bb67bcba87dd",
   "metadata": {},
   "outputs": [
    {
     "data": {
      "text/html": [
       "<div>\n",
       "<style scoped>\n",
       "    .dataframe tbody tr th:only-of-type {\n",
       "        vertical-align: middle;\n",
       "    }\n",
       "\n",
       "    .dataframe tbody tr th {\n",
       "        vertical-align: top;\n",
       "    }\n",
       "\n",
       "    .dataframe thead th {\n",
       "        text-align: right;\n",
       "    }\n",
       "</style>\n",
       "<table border=\"1\" class=\"dataframe\">\n",
       "  <thead>\n",
       "    <tr style=\"text-align: right;\">\n",
       "      <th></th>\n",
       "      <th>Annnualized Return</th>\n",
       "      <th>Annnualized Vol</th>\n",
       "      <th>Annnualized SR</th>\n",
       "    </tr>\n",
       "  </thead>\n",
       "  <tbody>\n",
       "    <tr>\n",
       "      <th>excess_log_returns</th>\n",
       "      <td>0.06671</td>\n",
       "      <td>0.128624</td>\n",
       "      <td>0.518646</td>\n",
       "    </tr>\n",
       "  </tbody>\n",
       "</table>\n",
       "</div>"
      ],
      "text/plain": [
       "                    Annnualized Return  Annnualized Vol  Annnualized SR\n",
       "excess_log_returns             0.06671         0.128624        0.518646"
      ]
     },
     "execution_count": 13,
     "metadata": {},
     "output_type": "execute_result"
    }
   ],
   "source": [
    "fx_hldg_excess_ret = mxn['mxn'] - mxn['mxn'].shift(1) + risk_free_rates['log_MXSTR'] - risk_free_rates['log_SOFR']\n",
    "portfolio_metrics_basic(fx_hldg_excess_ret.dropna().to_frame('excess_log_returns'), 252)"
   ]
  },
  {
   "cell_type": "code",
   "execution_count": 16,
   "id": "64f63d5a-45a1-4faf-be27-616aafd9a1e5",
   "metadata": {},
   "outputs": [
    {
     "data": {
      "text/plain": [
       "<Axes: xlabel='date'>"
      ]
     },
     "execution_count": 16,
     "metadata": {},
     "output_type": "execute_result"
    },
    {
     "data": {
      "image/png": "[encoded data removed]",
      "text/plain": [
       "<Figure size 640x480 with 1 Axes>"
      ]
     },
     "metadata": {},
     "output_type": "display_data"
    }
   ],
   "source": [
    "mxn['mxn'].plot()"
   ]
  },
  {
   "cell_type": "markdown",
   "id": "5d75b7e4-7455-4dc3-a374-1c1b3ec3f124",
   "metadata": {},
   "source": [
    "Since there is excess returns of holding MXN to a USD investor, it was better to long MXN relative to USD. \n",
    "- since the excess returns were positive, it suggests that the carry trade (long MXN) was profitable and the interest rate spread was a contributing factor\n",
    "- based on the exchange rate data, MXN appreciated overall relative to the US except for the sharp fall seen in 2020. "
   ]
  },
  {
   "cell_type": "code",
   "execution_count": 25,
   "id": "31e3e793-30f1-4563-81fe-e6bf3cbf4873",
   "metadata": {},
   "outputs": [
    {
     "data": {
      "text/plain": [
       "(const    0.001237\n",
       " 0        5.442848\n",
       " dtype: float64,\n",
       " 0.0004141588692007092)"
      ]
     },
     "execution_count": 25,
     "metadata": {},
     "output_type": "execute_result"
    }
   ],
   "source": [
    "factor = (risk_free_rates['log_SOFR'] - risk_free_rates['log_MXSTR']).shift(1)\n",
    "strat = mxn['mxn'].diff()\n",
    "import statsmodels.api as sm \n",
    "model = sm.OLS(strat, sm.add_constant(factor), missing=\"drop\").fit()\n",
    "model.params, model.rsquared"
   ]
  },
  {
   "cell_type": "markdown",
   "id": "df802e99-0840-4fc5-89d9-89e86cd2ae1c",
   "metadata": {},
   "source": [
    "- If UIP holds, the expected depreciation from the USD should offset any interest rate premium over the exchange rate. Therefre, beta should be 1 and alpha should be 0, with a very strong r-squared recoredd.\n",
    "- if there is an increase in ir on USD relative to MXN, then the size of the factor goes up, and thus, the USD should depreciate relative to MXN.\n",
    "- If MXN risk-free rates increase relative to USD risk-free rates, the forward exchange rate (F) is expected to be higher (weaker USD relative to MXN) than the spot exchange rate (S). This follows from the covered interest parity (CIP), Higher MXN rates imply a forward premium for MXN and a forward discount for USD.\n",
    "- Over an annual horizon, the estimated impact of interest rates on currency returns would likely be larger. This is due to compounding effects and the longer time for interest rate differentials to influence exchange rates.k"
   ]
  },
  {
   "cell_type": "code",
   "execution_count": null,
   "id": "3d31c751-0812-4765-b721-f26efbe3f831",
   "metadata": {},
   "outputs": [],
   "source": []
  }
 ],
 "metadata": {
  "kernelspec": {
   "display_name": "Python 3 (ipykernel)",
   "language": "python",
   "name": "python3"
  },
  "language_info": {
   "codemirror_mode": {
    "name": "ipython",
    "version": 3
   },
   "file_extension": ".py",
   "mimetype": "text/x-python",
   "name": "python",
   "nbconvert_exporter": "python",
   "pygments_lexer": "ipython3",
   "version": "3.11.5"
  }
 },
 "nbformat": 4,
 "nbformat_minor": 5
}
